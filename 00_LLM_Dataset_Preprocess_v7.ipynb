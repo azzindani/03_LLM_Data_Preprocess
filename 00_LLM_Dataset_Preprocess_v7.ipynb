{
  "cells": [
    {
      "cell_type": "markdown",
      "metadata": {
        "id": "view-in-github",
        "colab_type": "text"
      },
      "source": [
        "<a href=\"https://colab.research.google.com/github/azzindani/03_LLM_Data_Preprocess/blob/main/00_LLM_Dataset_Preprocess_v7.ipynb\" target=\"_parent\"><img src=\"https://colab.research.google.com/assets/colab-badge.svg\" alt=\"Open In Colab\"/></a>"
      ]
    },
    {
      "cell_type": "markdown",
      "metadata": {
        "id": "iNW_MCROx_hX"
      },
      "source": [
        "## Import Modules"
      ]
    },
    {
      "cell_type": "code",
      "execution_count": 27,
      "metadata": {
        "id": "0-QxfiDVyT74"
      },
      "outputs": [],
      "source": [
        "!pip install -q datasets"
      ]
    },
    {
      "cell_type": "code",
      "execution_count": 28,
      "metadata": {
        "colab": {
          "base_uri": "https://localhost:8080/"
        },
        "id": "TIgNx9Orx0It",
        "outputId": "a871c318-2cc4-4426-d9e0-db8140c62207"
      },
      "outputs": [
        {
          "output_type": "stream",
          "name": "stdout",
          "text": [
            "GPU is not available.\n"
          ]
        }
      ],
      "source": [
        "import torch\n",
        "\n",
        "from datasets import load_dataset\n",
        "from datasets import Dataset\n",
        "\n",
        "from transformers import (\n",
        "  AutoTokenizer,\n",
        "  AutoModelForCausalLM,\n",
        "  GenerationConfig\n",
        ")\n",
        "\n",
        "if torch.cuda.is_available():\n",
        "  print('GPU is available!')\n",
        "else:\n",
        "  print('GPU is not available.')"
      ]
    },
    {
      "cell_type": "code",
      "execution_count": 29,
      "metadata": {
        "colab": {
          "base_uri": "https://localhost:8080/"
        },
        "id": "i-nwkyTDybqY",
        "outputId": "368984aa-ced2-4bea-8712-0d43bf35e0e5"
      },
      "outputs": [
        {
          "output_type": "execute_result",
          "data": {
            "text/plain": [
              "device(type='cpu')"
            ]
          },
          "metadata": {},
          "execution_count": 29
        }
      ],
      "source": [
        "device = torch.device('cuda' if torch.cuda.is_available() else 'cpu')\n",
        "device"
      ]
    },
    {
      "cell_type": "markdown",
      "metadata": {
        "id": "grIeJpUdyX0Y"
      },
      "source": [
        "## Import Model Tokenizer"
      ]
    },
    {
      "cell_type": "code",
      "execution_count": 30,
      "metadata": {
        "id": "14Lkvw4cyZkY"
      },
      "outputs": [],
      "source": [
        "#url = 'https://huggingface.co/Qwen/Qwen2.5-0.5B'\n",
        "#model_name = url.split('.co/')[-1]\n",
        "\n",
        "model_name = 'unsloth/Llama-3.2-1B-Instruct'"
      ]
    },
    {
      "cell_type": "code",
      "execution_count": 31,
      "metadata": {
        "id": "lpB5JUjSzGtJ"
      },
      "outputs": [],
      "source": [
        "tokenizer = AutoTokenizer.from_pretrained(model_name)\n",
        "#tokenizer"
      ]
    },
    {
      "cell_type": "markdown",
      "metadata": {
        "id": "3QJUqcUVzNoJ"
      },
      "source": [
        "## Import Dataset"
      ]
    },
    {
      "cell_type": "code",
      "execution_count": 32,
      "metadata": {
        "id": "U01UXJdLzPXS"
      },
      "outputs": [],
      "source": [
        "#url = 'https://huggingface.co/datasets/KingNish/reasoning-base-20k'\n",
        "#dataset_name = url.split('datasets/')[-1]\n",
        "\n",
        "dataset_name = 'shireesh-uop/nhs_qna'"
      ]
    },
    {
      "cell_type": "code",
      "execution_count": 39,
      "metadata": {
        "id": "ZGIUyIDhNJC2"
      },
      "outputs": [],
      "source": [
        "max_length = 2048"
      ]
    },
    {
      "cell_type": "code",
      "execution_count": 34,
      "metadata": {
        "colab": {
          "base_uri": "https://localhost:8080/",
          "height": 216,
          "referenced_widgets": [
            "29c8b588df7b485eb3f68f64e4f89ef8",
            "f4ae77bcba7a40a8b33db46f4f65ad7d",
            "9e1b2840d37e4383be23666f173ae7d9",
            "c16475f8193a4db087b0ad93ebf6c627",
            "9e7ed86e5821455b9189e11777eaca45",
            "bb8a681095c64a2d87edeb7573ab2cac",
            "61a8e338e614463db2fe6c33faa33444",
            "d9c32ea48d0c4d43a2fdab10ac6d6678",
            "0d417a1b35d84b6e9871482ea8fc62b6",
            "c5b55259f5914a9fafbd83ded248e438",
            "12dd715dd1e442f9b6b1c4cb80c8a094",
            "09b67254dcd44cf5bb3495cd435d6150",
            "3d9f0020280d43d09cb1c98811d7d165",
            "9f35647dc2e24362b2eaf817ce483575",
            "efc03f83886c4939ae0c92305f4f0923",
            "d4d694fa3c8640d9a33185c815b2fc46",
            "283dd0557cee44959e55daa7087565bd",
            "7ce1242e82774c418ebc36e1832bca90",
            "9f6cdbe2fb0b49fb8e6cea27a4feb6db",
            "4c46abb4aadb4e308afc012c6bf3468f",
            "03533937ea8045b2909c81d6bc80e637",
            "0d72266e87d143969f0a1f15bda836e5",
            "6ba585da8f3b46ccbd44deaaa679ec2d",
            "ab00056697db4cce9dda99ca94793a95",
            "d17d50f9b53446069db5595f46fceada",
            "69005f276a3b4dc3b547f96a0452b61b",
            "0241be10469b4a58aeadbd98619351eb",
            "ca48c621c637483eb71d835bc454d4ba",
            "75bfd73a3a414ea0bd3972e5a128a592",
            "ef68850d626a44288d89cf263d42aaa8",
            "4533ce060fa146f489c1bfa57cb27499",
            "f2cb21d609484da1b279784d93104553",
            "cda7957cbee5402e80e07395f43309bc"
          ]
        },
        "id": "0ucM3l_FzUkp",
        "outputId": "894b6d1a-1ee6-4579-d779-94b89776bc9e"
      },
      "outputs": [
        {
          "output_type": "display_data",
          "data": {
            "text/plain": [
              "README.md:   0%|          | 0.00/510 [00:00<?, ?B/s]"
            ],
            "application/vnd.jupyter.widget-view+json": {
              "version_major": 2,
              "version_minor": 0,
              "model_id": "29c8b588df7b485eb3f68f64e4f89ef8"
            }
          },
          "metadata": {}
        },
        {
          "output_type": "display_data",
          "data": {
            "text/plain": [
              "train-00000-of-00001.parquet:   0%|          | 0.00/19.8M [00:00<?, ?B/s]"
            ],
            "application/vnd.jupyter.widget-view+json": {
              "version_major": 2,
              "version_minor": 0,
              "model_id": "09b67254dcd44cf5bb3495cd435d6150"
            }
          },
          "metadata": {}
        },
        {
          "output_type": "display_data",
          "data": {
            "text/plain": [
              "Generating train split:   0%|          | 0/21281 [00:00<?, ? examples/s]"
            ],
            "application/vnd.jupyter.widget-view+json": {
              "version_major": 2,
              "version_minor": 0,
              "model_id": "6ba585da8f3b46ccbd44deaaa679ec2d"
            }
          },
          "metadata": {}
        },
        {
          "output_type": "execute_result",
          "data": {
            "text/plain": [
              "Dataset({\n",
              "    features: ['q', 'i', 'a', 'filename', 'context', 'count', 'text', 'text1'],\n",
              "    num_rows: 21281\n",
              "})"
            ]
          },
          "metadata": {},
          "execution_count": 34
        }
      ],
      "source": [
        "dataset = load_dataset(dataset_name, split = 'train')\n",
        "dataset"
      ]
    },
    {
      "cell_type": "code",
      "execution_count": 35,
      "metadata": {
        "colab": {
          "base_uri": "https://localhost:8080/",
          "height": 747
        },
        "id": "FLRSMhJDzY5Z",
        "outputId": "5593ed18-10b8-426d-ac3e-196283546616"
      },
      "outputs": [
        {
          "output_type": "execute_result",
          "data": {
            "text/plain": [
              "                                                   q          i  \\\n",
              "0  What are the main problems that affect the mit...  <noinput>   \n",
              "1    What are the symptoms of mitral valve prolapse?  <noinput>   \n",
              "2              How is mitral valve prolapse treated?  <noinput>   \n",
              "3              What can cause mitral valve prolapse?  <noinput>   \n",
              "4                      What is mitral regurgitation?  <noinput>   \n",
              "\n",
              "                                                   a              filename  \\\n",
              "0  The main problems that affect the mitral valve...  Mitral valve problem   \n",
              "1  Symptoms of mitral valve prolapse can include ...  Mitral valve problem   \n",
              "2  Treatment for mitral valve prolapse may involv...  Mitral valve problem   \n",
              "3  Mitral valve prolapse is usually caused by pro...  Mitral valve problem   \n",
              "4  Mitral regurgitation is a condition where the ...  Mitral valve problem   \n",
              "\n",
              "                                             context  count  \\\n",
              "0   The mitral valve is a small flap in the heart...     21   \n",
              "1   The mitral valve is a small flap in the heart...     21   \n",
              "2   The mitral valve is a small flap in the heart...     21   \n",
              "3   The mitral valve is a small flap in the heart...     21   \n",
              "4   The mitral valve is a small flap in the heart...     21   \n",
              "\n",
              "                                                text  \\\n",
              "0  \\n    <s>\\n    [INST] <<SYS>> The mitral valve...   \n",
              "1  \\n    <s>\\n    [INST] <<SYS>> The mitral valve...   \n",
              "2  \\n    <s>\\n    [INST] <<SYS>> The mitral valve...   \n",
              "3  \\n    <s>\\n    [INST] <<SYS>> The mitral valve...   \n",
              "4  \\n    <s>\\n    [INST] <<SYS>> The mitral valve...   \n",
              "\n",
              "                                               text1  \n",
              "0  \\n    <s>\\n    [INST]What are the main problem...  \n",
              "1  \\n    <s>\\n    [INST]What are the symptoms of ...  \n",
              "2  \\n    <s>\\n    [INST]How is mitral valve prola...  \n",
              "3  \\n    <s>\\n    [INST]What can cause mitral val...  \n",
              "4  \\n    <s>\\n    [INST]What is mitral regurgitat...  "
            ],
            "text/html": [
              "\n",
              "  <div id=\"df-c11dabc1-9bfb-4b35-ae5b-a02ef6d4ab22\" class=\"colab-df-container\">\n",
              "    <div>\n",
              "<style scoped>\n",
              "    .dataframe tbody tr th:only-of-type {\n",
              "        vertical-align: middle;\n",
              "    }\n",
              "\n",
              "    .dataframe tbody tr th {\n",
              "        vertical-align: top;\n",
              "    }\n",
              "\n",
              "    .dataframe thead th {\n",
              "        text-align: right;\n",
              "    }\n",
              "</style>\n",
              "<table border=\"1\" class=\"dataframe\">\n",
              "  <thead>\n",
              "    <tr style=\"text-align: right;\">\n",
              "      <th></th>\n",
              "      <th>q</th>\n",
              "      <th>i</th>\n",
              "      <th>a</th>\n",
              "      <th>filename</th>\n",
              "      <th>context</th>\n",
              "      <th>count</th>\n",
              "      <th>text</th>\n",
              "      <th>text1</th>\n",
              "    </tr>\n",
              "  </thead>\n",
              "  <tbody>\n",
              "    <tr>\n",
              "      <th>0</th>\n",
              "      <td>What are the main problems that affect the mit...</td>\n",
              "      <td>&lt;noinput&gt;</td>\n",
              "      <td>The main problems that affect the mitral valve...</td>\n",
              "      <td>Mitral valve problem</td>\n",
              "      <td>The mitral valve is a small flap in the heart...</td>\n",
              "      <td>21</td>\n",
              "      <td>\\n    &lt;s&gt;\\n    [INST] &lt;&lt;SYS&gt;&gt; The mitral valve...</td>\n",
              "      <td>\\n    &lt;s&gt;\\n    [INST]What are the main problem...</td>\n",
              "    </tr>\n",
              "    <tr>\n",
              "      <th>1</th>\n",
              "      <td>What are the symptoms of mitral valve prolapse?</td>\n",
              "      <td>&lt;noinput&gt;</td>\n",
              "      <td>Symptoms of mitral valve prolapse can include ...</td>\n",
              "      <td>Mitral valve problem</td>\n",
              "      <td>The mitral valve is a small flap in the heart...</td>\n",
              "      <td>21</td>\n",
              "      <td>\\n    &lt;s&gt;\\n    [INST] &lt;&lt;SYS&gt;&gt; The mitral valve...</td>\n",
              "      <td>\\n    &lt;s&gt;\\n    [INST]What are the symptoms of ...</td>\n",
              "    </tr>\n",
              "    <tr>\n",
              "      <th>2</th>\n",
              "      <td>How is mitral valve prolapse treated?</td>\n",
              "      <td>&lt;noinput&gt;</td>\n",
              "      <td>Treatment for mitral valve prolapse may involv...</td>\n",
              "      <td>Mitral valve problem</td>\n",
              "      <td>The mitral valve is a small flap in the heart...</td>\n",
              "      <td>21</td>\n",
              "      <td>\\n    &lt;s&gt;\\n    [INST] &lt;&lt;SYS&gt;&gt; The mitral valve...</td>\n",
              "      <td>\\n    &lt;s&gt;\\n    [INST]How is mitral valve prola...</td>\n",
              "    </tr>\n",
              "    <tr>\n",
              "      <th>3</th>\n",
              "      <td>What can cause mitral valve prolapse?</td>\n",
              "      <td>&lt;noinput&gt;</td>\n",
              "      <td>Mitral valve prolapse is usually caused by pro...</td>\n",
              "      <td>Mitral valve problem</td>\n",
              "      <td>The mitral valve is a small flap in the heart...</td>\n",
              "      <td>21</td>\n",
              "      <td>\\n    &lt;s&gt;\\n    [INST] &lt;&lt;SYS&gt;&gt; The mitral valve...</td>\n",
              "      <td>\\n    &lt;s&gt;\\n    [INST]What can cause mitral val...</td>\n",
              "    </tr>\n",
              "    <tr>\n",
              "      <th>4</th>\n",
              "      <td>What is mitral regurgitation?</td>\n",
              "      <td>&lt;noinput&gt;</td>\n",
              "      <td>Mitral regurgitation is a condition where the ...</td>\n",
              "      <td>Mitral valve problem</td>\n",
              "      <td>The mitral valve is a small flap in the heart...</td>\n",
              "      <td>21</td>\n",
              "      <td>\\n    &lt;s&gt;\\n    [INST] &lt;&lt;SYS&gt;&gt; The mitral valve...</td>\n",
              "      <td>\\n    &lt;s&gt;\\n    [INST]What is mitral regurgitat...</td>\n",
              "    </tr>\n",
              "  </tbody>\n",
              "</table>\n",
              "</div>\n",
              "    <div class=\"colab-df-buttons\">\n",
              "\n",
              "  <div class=\"colab-df-container\">\n",
              "    <button class=\"colab-df-convert\" onclick=\"convertToInteractive('df-c11dabc1-9bfb-4b35-ae5b-a02ef6d4ab22')\"\n",
              "            title=\"Convert this dataframe to an interactive table.\"\n",
              "            style=\"display:none;\">\n",
              "\n",
              "  <svg xmlns=\"http://www.w3.org/2000/svg\" height=\"24px\" viewBox=\"0 -960 960 960\">\n",
              "    <path d=\"M120-120v-720h720v720H120Zm60-500h600v-160H180v160Zm220 220h160v-160H400v160Zm0 220h160v-160H400v160ZM180-400h160v-160H180v160Zm440 0h160v-160H620v160ZM180-180h160v-160H180v160Zm440 0h160v-160H620v160Z\"/>\n",
              "  </svg>\n",
              "    </button>\n",
              "\n",
              "  <style>\n",
              "    .colab-df-container {\n",
              "      display:flex;\n",
              "      gap: 12px;\n",
              "    }\n",
              "\n",
              "    .colab-df-convert {\n",
              "      background-color: #E8F0FE;\n",
              "      border: none;\n",
              "      border-radius: 50%;\n",
              "      cursor: pointer;\n",
              "      display: none;\n",
              "      fill: #1967D2;\n",
              "      height: 32px;\n",
              "      padding: 0 0 0 0;\n",
              "      width: 32px;\n",
              "    }\n",
              "\n",
              "    .colab-df-convert:hover {\n",
              "      background-color: #E2EBFA;\n",
              "      box-shadow: 0px 1px 2px rgba(60, 64, 67, 0.3), 0px 1px 3px 1px rgba(60, 64, 67, 0.15);\n",
              "      fill: #174EA6;\n",
              "    }\n",
              "\n",
              "    .colab-df-buttons div {\n",
              "      margin-bottom: 4px;\n",
              "    }\n",
              "\n",
              "    [theme=dark] .colab-df-convert {\n",
              "      background-color: #3B4455;\n",
              "      fill: #D2E3FC;\n",
              "    }\n",
              "\n",
              "    [theme=dark] .colab-df-convert:hover {\n",
              "      background-color: #434B5C;\n",
              "      box-shadow: 0px 1px 3px 1px rgba(0, 0, 0, 0.15);\n",
              "      filter: drop-shadow(0px 1px 2px rgba(0, 0, 0, 0.3));\n",
              "      fill: #FFFFFF;\n",
              "    }\n",
              "  </style>\n",
              "\n",
              "    <script>\n",
              "      const buttonEl =\n",
              "        document.querySelector('#df-c11dabc1-9bfb-4b35-ae5b-a02ef6d4ab22 button.colab-df-convert');\n",
              "      buttonEl.style.display =\n",
              "        google.colab.kernel.accessAllowed ? 'block' : 'none';\n",
              "\n",
              "      async function convertToInteractive(key) {\n",
              "        const element = document.querySelector('#df-c11dabc1-9bfb-4b35-ae5b-a02ef6d4ab22');\n",
              "        const dataTable =\n",
              "          await google.colab.kernel.invokeFunction('convertToInteractive',\n",
              "                                                    [key], {});\n",
              "        if (!dataTable) return;\n",
              "\n",
              "        const docLinkHtml = 'Like what you see? Visit the ' +\n",
              "          '<a target=\"_blank\" href=https://colab.research.google.com/notebooks/data_table.ipynb>data table notebook</a>'\n",
              "          + ' to learn more about interactive tables.';\n",
              "        element.innerHTML = '';\n",
              "        dataTable['output_type'] = 'display_data';\n",
              "        await google.colab.output.renderOutput(dataTable, element);\n",
              "        const docLink = document.createElement('div');\n",
              "        docLink.innerHTML = docLinkHtml;\n",
              "        element.appendChild(docLink);\n",
              "      }\n",
              "    </script>\n",
              "  </div>\n",
              "\n",
              "\n",
              "<div id=\"df-abac6460-b715-4b96-9dfd-7933aaf3bc7d\">\n",
              "  <button class=\"colab-df-quickchart\" onclick=\"quickchart('df-abac6460-b715-4b96-9dfd-7933aaf3bc7d')\"\n",
              "            title=\"Suggest charts\"\n",
              "            style=\"display:none;\">\n",
              "\n",
              "<svg xmlns=\"http://www.w3.org/2000/svg\" height=\"24px\"viewBox=\"0 0 24 24\"\n",
              "     width=\"24px\">\n",
              "    <g>\n",
              "        <path d=\"M19 3H5c-1.1 0-2 .9-2 2v14c0 1.1.9 2 2 2h14c1.1 0 2-.9 2-2V5c0-1.1-.9-2-2-2zM9 17H7v-7h2v7zm4 0h-2V7h2v10zm4 0h-2v-4h2v4z\"/>\n",
              "    </g>\n",
              "</svg>\n",
              "  </button>\n",
              "\n",
              "<style>\n",
              "  .colab-df-quickchart {\n",
              "      --bg-color: #E8F0FE;\n",
              "      --fill-color: #1967D2;\n",
              "      --hover-bg-color: #E2EBFA;\n",
              "      --hover-fill-color: #174EA6;\n",
              "      --disabled-fill-color: #AAA;\n",
              "      --disabled-bg-color: #DDD;\n",
              "  }\n",
              "\n",
              "  [theme=dark] .colab-df-quickchart {\n",
              "      --bg-color: #3B4455;\n",
              "      --fill-color: #D2E3FC;\n",
              "      --hover-bg-color: #434B5C;\n",
              "      --hover-fill-color: #FFFFFF;\n",
              "      --disabled-bg-color: #3B4455;\n",
              "      --disabled-fill-color: #666;\n",
              "  }\n",
              "\n",
              "  .colab-df-quickchart {\n",
              "    background-color: var(--bg-color);\n",
              "    border: none;\n",
              "    border-radius: 50%;\n",
              "    cursor: pointer;\n",
              "    display: none;\n",
              "    fill: var(--fill-color);\n",
              "    height: 32px;\n",
              "    padding: 0;\n",
              "    width: 32px;\n",
              "  }\n",
              "\n",
              "  .colab-df-quickchart:hover {\n",
              "    background-color: var(--hover-bg-color);\n",
              "    box-shadow: 0 1px 2px rgba(60, 64, 67, 0.3), 0 1px 3px 1px rgba(60, 64, 67, 0.15);\n",
              "    fill: var(--button-hover-fill-color);\n",
              "  }\n",
              "\n",
              "  .colab-df-quickchart-complete:disabled,\n",
              "  .colab-df-quickchart-complete:disabled:hover {\n",
              "    background-color: var(--disabled-bg-color);\n",
              "    fill: var(--disabled-fill-color);\n",
              "    box-shadow: none;\n",
              "  }\n",
              "\n",
              "  .colab-df-spinner {\n",
              "    border: 2px solid var(--fill-color);\n",
              "    border-color: transparent;\n",
              "    border-bottom-color: var(--fill-color);\n",
              "    animation:\n",
              "      spin 1s steps(1) infinite;\n",
              "  }\n",
              "\n",
              "  @keyframes spin {\n",
              "    0% {\n",
              "      border-color: transparent;\n",
              "      border-bottom-color: var(--fill-color);\n",
              "      border-left-color: var(--fill-color);\n",
              "    }\n",
              "    20% {\n",
              "      border-color: transparent;\n",
              "      border-left-color: var(--fill-color);\n",
              "      border-top-color: var(--fill-color);\n",
              "    }\n",
              "    30% {\n",
              "      border-color: transparent;\n",
              "      border-left-color: var(--fill-color);\n",
              "      border-top-color: var(--fill-color);\n",
              "      border-right-color: var(--fill-color);\n",
              "    }\n",
              "    40% {\n",
              "      border-color: transparent;\n",
              "      border-right-color: var(--fill-color);\n",
              "      border-top-color: var(--fill-color);\n",
              "    }\n",
              "    60% {\n",
              "      border-color: transparent;\n",
              "      border-right-color: var(--fill-color);\n",
              "    }\n",
              "    80% {\n",
              "      border-color: transparent;\n",
              "      border-right-color: var(--fill-color);\n",
              "      border-bottom-color: var(--fill-color);\n",
              "    }\n",
              "    90% {\n",
              "      border-color: transparent;\n",
              "      border-bottom-color: var(--fill-color);\n",
              "    }\n",
              "  }\n",
              "</style>\n",
              "\n",
              "  <script>\n",
              "    async function quickchart(key) {\n",
              "      const quickchartButtonEl =\n",
              "        document.querySelector('#' + key + ' button');\n",
              "      quickchartButtonEl.disabled = true;  // To prevent multiple clicks.\n",
              "      quickchartButtonEl.classList.add('colab-df-spinner');\n",
              "      try {\n",
              "        const charts = await google.colab.kernel.invokeFunction(\n",
              "            'suggestCharts', [key], {});\n",
              "      } catch (error) {\n",
              "        console.error('Error during call to suggestCharts:', error);\n",
              "      }\n",
              "      quickchartButtonEl.classList.remove('colab-df-spinner');\n",
              "      quickchartButtonEl.classList.add('colab-df-quickchart-complete');\n",
              "    }\n",
              "    (() => {\n",
              "      let quickchartButtonEl =\n",
              "        document.querySelector('#df-abac6460-b715-4b96-9dfd-7933aaf3bc7d button');\n",
              "      quickchartButtonEl.style.display =\n",
              "        google.colab.kernel.accessAllowed ? 'block' : 'none';\n",
              "    })();\n",
              "  </script>\n",
              "</div>\n",
              "\n",
              "    </div>\n",
              "  </div>\n"
            ],
            "application/vnd.google.colaboratory.intrinsic+json": {
              "type": "dataframe",
              "summary": "{\n  \"name\": \"dataset\",\n  \"rows\": 5,\n  \"fields\": [\n    {\n      \"column\": \"q\",\n      \"properties\": {\n        \"dtype\": \"string\",\n        \"num_unique_values\": 5,\n        \"samples\": [\n          \"What are the symptoms of mitral valve prolapse?\",\n          \"What is mitral regurgitation?\",\n          \"How is mitral valve prolapse treated?\"\n        ],\n        \"semantic_type\": \"\",\n        \"description\": \"\"\n      }\n    },\n    {\n      \"column\": \"i\",\n      \"properties\": {\n        \"dtype\": \"category\",\n        \"num_unique_values\": 1,\n        \"samples\": [\n          \"<noinput>\"\n        ],\n        \"semantic_type\": \"\",\n        \"description\": \"\"\n      }\n    },\n    {\n      \"column\": \"a\",\n      \"properties\": {\n        \"dtype\": \"string\",\n        \"num_unique_values\": 5,\n        \"samples\": [\n          \"Symptoms of mitral valve prolapse can include dizziness, breathlessness, tiredness, irregular heartbeat, and palpitations.\"\n        ],\n        \"semantic_type\": \"\",\n        \"description\": \"\"\n      }\n    },\n    {\n      \"column\": \"filename\",\n      \"properties\": {\n        \"dtype\": \"category\",\n        \"num_unique_values\": 1,\n        \"samples\": [\n          \"Mitral valve problem\"\n        ],\n        \"semantic_type\": \"\",\n        \"description\": \"\"\n      }\n    },\n    {\n      \"column\": \"context\",\n      \"properties\": {\n        \"dtype\": \"category\",\n        \"num_unique_values\": 1,\n        \"samples\": [\n          \" The mitral valve is a small flap in the heart that stops blood flowing the wrong way. Problems with it can affect how blood flows around the body.The main problems that affect the mitral valve are:mitral valve prolapse \\u2013 the valve becomes too floppymitral regurgitation \\u2013 the valve leaks and blood flows the wrong waymitral stenosis \\u2013 the valve does not open as wide as it shouldThese conditions can be serious, but they're often treatable.In some cases, mitral valve surgery may be needed. \\nMitral valve prolapse\\n Mitral valve prolapseMitral valve prolapse is where the mitral valve is too floppy and does not close tightly.SymptomsMany people with a mitral valve prolapse do not have symptoms and it may only be spotted during a heart scan (echocardiogram) carried out for another reason.Mitral valve prolapse can sometimes cause:dizzinessbreathlessnesstirednessan irregular heartbeat (arrhythmia) or noticeable heartbeats (palpitations)mitral regurgitationTreatmentYou probably will not need treatment if you do not have any symptoms.Your doctor may suggest:making lifestyle changes, such as giving up smoking, caffeine and alcohol \\u2013 these things can make your heart work too hardhaving regular check-ups to monitor your conditionIf you have symptoms or your mitral valve is very floppy, your doctor may recommend:medicine to relieve your symptoms, such as beta blockers for an irregular heartbeatmitral valve surgery to repair or replace the mitral valveCausesMitral valve prolapse is usually caused by problems with the tissues that join the mitral valve to the heart muscles.Some people with the condition are born with it, and it's more common in people with connective tissue disorders, such as Marfan syndrome.Rarely, it can be caused by damage to the heart muscles themselves \\u2013 for example, as the result of a heart attack. \\nMitral regurgitation\\n Mitral regurgitationMitral regurgitation is where some blood flows the wrong way in the heart because the mitral valve does not close properly.SymptomsMitral valve regurgitation does not always have symptoms.Sometimes it can cause:dizzinessbreathlessnesstirednesschest painIf not treated, it can lead to:atrial fibrillation \\u2013 an irregular and fast heartbeatpulmonary hypertension \\u2013 high blood pressure in the blood vessels that supply the lungsheart failure \\u2013 where the heart cannot pump enough blood around the bodyTreatmentYou might not need treatment if you do not have any symptoms. Your doctor may just suggest having regular check-ups to monitor your condition.If you have symptoms or the problem with your valve is serious, your doctor may recommend:medicines to relieve your symptoms \\u2013 such as diuretics to reduce breathlessness and medicines for atrial fibrillationopen heart surgery \\u2013 to repair or replace the mitral valvekeyhole surgery \\u2013 a small clip is attached to the mitral valve to help it close; the clip is guided into the heart through a thin tube inserted into a vein in the groinCausesMitral regurgitation happens if the mitral valve cannot close properly.This is usually caused by either:the mitral valve becoming too floppy (mitral valve prolapse)the ring of muscle around the valve becoming too wideThese problems often develop with age \\u2013 for example, because of \\\"wear and tear\\\" over time or damage caused by untreated high blood pressure.Mitral regurgitation can sometimes be caused by a problem such as:cardiomyopathy \\u2013 where the walls of the heart become stretched, thickened or stiffendocarditis \\u2013 infection of the inner lining of the heartcongenital heart disease \\u2013 birth defects affecting the heart \\nMitral stenosis\\n Mitral stenosisMitral valve stenosis is where the mitral valve does not open as wide as it should, restricting the flow of blood through the heart.SymptomsMitral valve stenosis may not have any symptoms.Sometimes it can cause:dizzinessbreathlessnesstirednessnoticeable heartbeats (palpitations)chest painIf not treated, it can lead to:atrial fibrillation \\u2013 an irregular and fast heartbeatpulmonary hypertension \\u2013 high blood pressure in the blood vessels that supply the lungsheart failure \\u2013 where the heart cannot pump blood around the body properlyTreatmentYou might not need treatment if you do not have any symptoms. Your doctor may just suggest having regular check-ups to monitor your condition.If you have symptoms or the problem with your valve is serious, your doctor may recommend:medicine to relieve your symptoms \\u2013 such as medicines called diuretics to reduce breathlessness and medicines for atrial fibrillationmitral valve surgery \\u2013 to replace the valve or a procedure to stretch it with a small balloon (balloon valvuloplasty)CausesOne of the main causes of mitral valve stenosis is rheumatic heart disease.This is where an infection causes the heart to become inflamed. Over time, it can cause the flaps of the mitral valve to become hard and thick.Other causes include hard deposits that form around the valve with age, or a problem with the heart from birth (congenital heart disease). \\nMitral valve surgery\\n Mitral valve surgeryMitral valve surgery may be recommended if you have symptoms caused by a problem with your mitral valve or if the problem is quite serious.The most common mitral valve procedures are:mitral valve repairmitral valve replacementballoon valvuloplasty \\u2013 where the mitral valve is stretched with a small balloonMitral valve repairMitral valve repair is an operation to make the flaps of the mitral valve stay closer together. This will help stop blood flowing the wrong way through the valve.It's mainly used to treat mitral valve prolapse or regurgitation, if the problem is serious and causing symptoms.The operation is carried out under general anaesthetic, where you're asleep. Your surgeon will usually get to your heart through a single cut along the middle of your chest, but smaller cuts between your ribs are sometimes used.The flaps of the mitral valve are then partially sewn together.The operation may be done as keyhole surgery, where a small clip is attached to the mitral valve to help it close.Most people experience a significant improvement in their symptoms after surgery, but speak to your surgeon about the possible complications.Mitral valve replacementMitral valve replacement is an operation to replace your mitral valve with a mechanical valve or a valve made from animal tissue (a bioprosthetic valve).This is usually only done if you have mitral stenosis or mitral prolapse or regurgitation and are unable to have a valve repair.The operation is carried out under general anaesthetic, where you're asleep. Your surgeon will usually replace the valve through a single cut along the middle of your chest.Most people experience a significant improvement in their symptoms after surgery, but speak to your surgeon about the possible complications. The risk of serious problems is generally higher than with mitral valve repair.You'll also need to take medicine to prevent blood clots for a long time after this operation. If you have a mechanical valve, you'll need to take this medicine for life.Balloon valvuloplastyBalloon valvuloplasty, also called percutaneous mitral commissurotomy, is a procedure that can be used to widen the mitral valve if you have mitral stenosis.It's usually done using local anaesthetic, where you remain awake but your skin is numbed.A small cut is made in your groin or neck and a thin tube is passed along a blood vessel to your heart.The end of the catheter has a small balloon attached to it. This is inflated inside the narrowed valve to stretch it wider. The balloon is then deflated and removed along with the catheter.This procedure is generally less effective than replacing the mitral valve, but recovery tends to be quicker and it may be a better option if your valve is not too narrow or you're at an increased risk of surgery complications (for example, if you're pregnant or frail). \\n\"\n        ],\n        \"semantic_type\": \"\",\n        \"description\": \"\"\n      }\n    },\n    {\n      \"column\": \"count\",\n      \"properties\": {\n        \"dtype\": \"number\",\n        \"std\": 0,\n        \"min\": 21,\n        \"max\": 21,\n        \"num_unique_values\": 1,\n        \"samples\": [\n          21\n        ],\n        \"semantic_type\": \"\",\n        \"description\": \"\"\n      }\n    },\n    {\n      \"column\": \"text\",\n      \"properties\": {\n        \"dtype\": \"string\",\n        \"num_unique_values\": 5,\n        \"samples\": [\n          \"\\n    <s>\\n    [INST] <<SYS>> The mitral valve is a small flap in the heart that stops blood flowing the wrong way. Problems with it can affect how blood flows around the body.The main problems that affect the mitral valve are:mitral valve prolapse \\u2013 the valve becomes too floppymitral regurgitation \\u2013 the valve leaks and blood flows the wrong waymitral stenosis \\u2013 the valve does not open as wide as it shouldThese conditions can be serious, but they're often treatable.In some cases, mitral valve surgery may be needed. \\nMitral valve prolapse\\n Mitral valve prolapseMitral valve prolapse is where the mitral valve is too floppy and does not close tightly.SymptomsMany people with a mitral valve prolapse do not have symptoms and it may only be spotted during a heart scan (echocardiogram) carried out for another reason.Mitral valve prolapse can sometimes cause:dizzinessbreathlessnesstirednessan irregular heartbeat (arrhythmia) or noticeable heartbeats (palpitations)mitral regurgitationTreatmentYou probably will not need treatment if you do not have any symptoms.Your doctor may suggest:making lifestyle changes, such as giving up smoking, caffeine and alcohol \\u2013 these things can make your heart work too hardhaving regular check-ups to monitor your conditionIf you have symptoms or your mitral valve is very floppy, your doctor may recommend:medicine to relieve your symptoms, such as beta blockers for an irregular heartbeatmitral valve surgery to repair or replace the mitral valveCausesMitral valve prolapse is usually caused by problems with the tissues that join the mitral valve to the heart muscles.Some people with the condition are born with it, and it's more common in people with connective tissue disorders, such as Marfan syndrome.Rarely, it can be caused by damage to the heart muscles themselves \\u2013 for example, as the result of a heart attack. \\nMitral regurgitation\\n Mitral regurgitationMitral regurgitation is where some blood flows the wrong way in the heart because the mitral valve does not close properly.SymptomsMitral valve regurgitation does not always have symptoms.Sometimes it can cause:dizzinessbreathlessnesstirednesschest painIf not treated, it can lead to:atrial fibrillation \\u2013 an irregular and fast heartbeatpulmonary hypertension \\u2013 high blood pressure in the blood vessels that supply the lungsheart failure \\u2013 where the heart cannot pump enough blood around the bodyTreatmentYou might not need treatment if you do not have any symptoms. Your doctor may just suggest having regular check-ups to monitor your condition.If you have symptoms or the problem with your valve is serious, your doctor may recommend:medicines to relieve your symptoms \\u2013 such as diuretics to reduce breathlessness and medicines for atrial fibrillationopen heart surgery \\u2013 to repair or replace the mitral valvekeyhole surgery \\u2013 a small clip is attached to the mitral valve to help it close; the clip is guided into the heart through a thin tube inserted into a vein in the groinCausesMitral regurgitation happens if the mitral valve cannot close properly.This is usually caused by either:the mitral valve becoming too floppy (mitral valve prolapse)the ring of muscle around the valve becoming too wideThese problems often develop with age \\u2013 for example, because of \\\"wear and tear\\\" over time or damage caused by untreated high blood pressure.Mitral regurgitation can sometimes be caused by a problem such as:cardiomyopathy \\u2013 where the walls of the heart become stretched, thickened or stiffendocarditis \\u2013 infection of the inner lining of the heartcongenital heart disease \\u2013 birth defects affecting the heart \\nMitral stenosis\\n Mitral stenosisMitral valve stenosis is where the mitral valve does not open as wide as it should, restricting the flow of blood through the heart.SymptomsMitral valve stenosis may not have any symptoms.Sometimes it can cause:dizzinessbreathlessnesstirednessnoticeable heartbeats (palpitations)chest painIf not treated, it can lead to:atrial fibrillation \\u2013 an irregular and fast heartbeatpulmonary hypertension \\u2013 high blood pressure in the blood vessels that supply the lungsheart failure \\u2013 where the heart cannot pump blood around the body properlyTreatmentYou might not need treatment if you do not have any symptoms. Your doctor may just suggest having regular check-ups to monitor your condition.If you have symptoms or the problem with your valve is serious, your doctor may recommend:medicine to relieve your symptoms \\u2013 such as medicines called diuretics to reduce breathlessness and medicines for atrial fibrillationmitral valve surgery \\u2013 to replace the valve or a procedure to stretch it with a small balloon (balloon valvuloplasty)CausesOne of the main causes of mitral valve stenosis is rheumatic heart disease.This is where an infection causes the heart to become inflamed. Over time, it can cause the flaps of the mitral valve to become hard and thick.Other causes include hard deposits that form around the valve with age, or a problem with the heart from birth (congenital heart disease). \\nMitral valve surgery\\n Mitral valve surgeryMitral valve surgery may be recommended if you have symptoms caused by a problem with your mitral valve or if the problem is quite serious.The most common mitral valve procedures are:mitral valve repairmitral valve replacementballoon valvuloplasty \\u2013 where the mitral valve is stretched with a small balloonMitral valve repairMitral valve repair is an operation to make the flaps of the mitral valve stay closer together. This will help stop blood flowing the wrong way through the valve.It's mainly used to treat mitral valve prolapse or regurgitation, if the problem is serious and causing symptoms.The operation is carried out under general anaesthetic, where you're asleep. Your surgeon will usually get to your heart through a single cut along the middle of your chest, but smaller cuts between your ribs are sometimes used.The flaps of the mitral valve are then partially sewn together.The operation may be done as keyhole surgery, where a small clip is attached to the mitral valve to help it close.Most people experience a significant improvement in their symptoms after surgery, but speak to your surgeon about the possible complications.Mitral valve replacementMitral valve replacement is an operation to replace your mitral valve with a mechanical valve or a valve made from animal tissue (a bioprosthetic valve).This is usually only done if you have mitral stenosis or mitral prolapse or regurgitation and are unable to have a valve repair.The operation is carried out under general anaesthetic, where you're asleep. Your surgeon will usually replace the valve through a single cut along the middle of your chest.Most people experience a significant improvement in their symptoms after surgery, but speak to your surgeon about the possible complications. The risk of serious problems is generally higher than with mitral valve repair.You'll also need to take medicine to prevent blood clots for a long time after this operation. If you have a mechanical valve, you'll need to take this medicine for life.Balloon valvuloplastyBalloon valvuloplasty, also called percutaneous mitral commissurotomy, is a procedure that can be used to widen the mitral valve if you have mitral stenosis.It's usually done using local anaesthetic, where you remain awake but your skin is numbed.A small cut is made in your groin or neck and a thin tube is passed along a blood vessel to your heart.The end of the catheter has a small balloon attached to it. This is inflated inside the narrowed valve to stretch it wider. The balloon is then deflated and removed along with the catheter.This procedure is generally less effective than replacing the mitral valve, but recovery tends to be quicker and it may be a better option if your valve is not too narrow or you're at an increased risk of surgery complications (for example, if you're pregnant or frail). \\n<</SYS>> What are the symptoms of mitral valve prolapse? [/INST]\\n    Symptoms of mitral valve prolapse can include dizziness, breathlessness, tiredness, irregular heartbeat, and palpitations. \\n    </s>\\n    \"\n        ],\n        \"semantic_type\": \"\",\n        \"description\": \"\"\n      }\n    },\n    {\n      \"column\": \"text1\",\n      \"properties\": {\n        \"dtype\": \"string\",\n        \"num_unique_values\": 5,\n        \"samples\": [\n          \"\\n    <s>\\n    [INST]What are the symptoms of mitral valve prolapse? [/INST]\\n    Symptoms of mitral valve prolapse can include dizziness, breathlessness, tiredness, irregular heartbeat, and palpitations. \\n    </s>\\n    \"\n        ],\n        \"semantic_type\": \"\",\n        \"description\": \"\"\n      }\n    }\n  ]\n}"
            }
          },
          "metadata": {},
          "execution_count": 35
        }
      ],
      "source": [
        "dataset.select(range(5)).to_pandas().head()"
      ]
    },
    {
      "cell_type": "code",
      "execution_count": 36,
      "metadata": {
        "colab": {
          "base_uri": "https://localhost:8080/"
        },
        "id": "3exPEy0JdLyI",
        "outputId": "eafd5cad-4e20-4781-9025-51d6590957f3"
      },
      "outputs": [
        {
          "output_type": "execute_result",
          "data": {
            "text/plain": [
              "{'q': 'What are the main problems that affect the mitral valve?',\n",
              " 'i': '<noinput>',\n",
              " 'a': 'The main problems that affect the mitral valve are mitral valve prolapse, mitral regurgitation, and mitral stenosis.',\n",
              " 'filename': 'Mitral valve problem',\n",
              " 'context': ' The mitral valve is a small flap in the heart that stops blood flowing the wrong way. Problems with it can affect how blood flows around the body.The main problems that affect the mitral valve are:mitral valve prolapse – the valve becomes too floppymitral regurgitation – the valve leaks and blood flows the wrong waymitral stenosis – the valve does not open as wide as it shouldThese conditions can be serious, but they\\'re often treatable.In some cases, mitral valve surgery may be needed. \\nMitral valve prolapse\\n Mitral valve prolapseMitral valve prolapse is where the mitral valve is too floppy and does not close tightly.SymptomsMany people with a mitral valve prolapse do not have symptoms and it may only be spotted during a heart scan (echocardiogram) carried out for another reason.Mitral valve prolapse can sometimes cause:dizzinessbreathlessnesstirednessan irregular heartbeat (arrhythmia) or noticeable heartbeats (palpitations)mitral regurgitationTreatmentYou probably will not need treatment if you do not have any symptoms.Your doctor may suggest:making lifestyle changes, such as giving up smoking, caffeine and alcohol – these things can make your heart work too hardhaving regular check-ups to monitor your conditionIf you have symptoms or your mitral valve is very floppy, your doctor may recommend:medicine to relieve your symptoms, such as beta blockers for an irregular heartbeatmitral valve surgery to repair or replace the mitral valveCausesMitral valve prolapse is usually caused by problems with the tissues that join the mitral valve to the heart muscles.Some people with the condition are born with it, and it\\'s more common in people with connective tissue disorders, such as Marfan syndrome.Rarely, it can be caused by damage to the heart muscles themselves – for example, as the result of a heart attack. \\nMitral regurgitation\\n Mitral regurgitationMitral regurgitation is where some blood flows the wrong way in the heart because the mitral valve does not close properly.SymptomsMitral valve regurgitation does not always have symptoms.Sometimes it can cause:dizzinessbreathlessnesstirednesschest painIf not treated, it can lead to:atrial fibrillation – an irregular and fast heartbeatpulmonary hypertension – high blood pressure in the blood vessels that supply the lungsheart failure – where the heart cannot pump enough blood around the bodyTreatmentYou might not need treatment if you do not have any symptoms. Your doctor may just suggest having regular check-ups to monitor your condition.If you have symptoms or the problem with your valve is serious, your doctor may recommend:medicines to relieve your symptoms – such as diuretics to reduce breathlessness and medicines for atrial fibrillationopen heart surgery – to repair or replace the mitral valvekeyhole surgery – a small clip is attached to the mitral valve to help it close; the clip is guided into the heart through a thin tube inserted into a vein in the groinCausesMitral regurgitation happens if the mitral valve cannot close properly.This is usually caused by either:the mitral valve becoming too floppy (mitral valve prolapse)the ring of muscle around the valve becoming too wideThese problems often develop with age – for example, because of \"wear and tear\" over time or damage caused by untreated high blood pressure.Mitral regurgitation can sometimes be caused by a problem such as:cardiomyopathy – where the walls of the heart become stretched, thickened or stiffendocarditis – infection of the inner lining of the heartcongenital heart disease – birth defects affecting the heart \\nMitral stenosis\\n Mitral stenosisMitral valve stenosis is where the mitral valve does not open as wide as it should, restricting the flow of blood through the heart.SymptomsMitral valve stenosis may not have any symptoms.Sometimes it can cause:dizzinessbreathlessnesstirednessnoticeable heartbeats (palpitations)chest painIf not treated, it can lead to:atrial fibrillation – an irregular and fast heartbeatpulmonary hypertension – high blood pressure in the blood vessels that supply the lungsheart failure – where the heart cannot pump blood around the body properlyTreatmentYou might not need treatment if you do not have any symptoms. Your doctor may just suggest having regular check-ups to monitor your condition.If you have symptoms or the problem with your valve is serious, your doctor may recommend:medicine to relieve your symptoms – such as medicines called diuretics to reduce breathlessness and medicines for atrial fibrillationmitral valve surgery – to replace the valve or a procedure to stretch it with a small balloon (balloon valvuloplasty)CausesOne of the main causes of mitral valve stenosis is rheumatic heart disease.This is where an infection causes the heart to become inflamed. Over time, it can cause the flaps of the mitral valve to become hard and thick.Other causes include hard deposits that form around the valve with age, or a problem with the heart from birth (congenital heart disease). \\nMitral valve surgery\\n Mitral valve surgeryMitral valve surgery may be recommended if you have symptoms caused by a problem with your mitral valve or if the problem is quite serious.The most common mitral valve procedures are:mitral valve repairmitral valve replacementballoon valvuloplasty – where the mitral valve is stretched with a small balloonMitral valve repairMitral valve repair is an operation to make the flaps of the mitral valve stay closer together. This will help stop blood flowing the wrong way through the valve.It\\'s mainly used to treat mitral valve prolapse or regurgitation, if the problem is serious and causing symptoms.The operation is carried out under general anaesthetic, where you\\'re asleep. Your surgeon will usually get to your heart through a single cut along the middle of your chest, but smaller cuts between your ribs are sometimes used.The flaps of the mitral valve are then partially sewn together.The operation may be done as keyhole surgery, where a small clip is attached to the mitral valve to help it close.Most people experience a significant improvement in their symptoms after surgery, but speak to your surgeon about the possible complications.Mitral valve replacementMitral valve replacement is an operation to replace your mitral valve with a mechanical valve or a valve made from animal tissue (a bioprosthetic valve).This is usually only done if you have mitral stenosis or mitral prolapse or regurgitation and are unable to have a valve repair.The operation is carried out under general anaesthetic, where you\\'re asleep. Your surgeon will usually replace the valve through a single cut along the middle of your chest.Most people experience a significant improvement in their symptoms after surgery, but speak to your surgeon about the possible complications. The risk of serious problems is generally higher than with mitral valve repair.You\\'ll also need to take medicine to prevent blood clots for a long time after this operation. If you have a mechanical valve, you\\'ll need to take this medicine for life.Balloon valvuloplastyBalloon valvuloplasty, also called percutaneous mitral commissurotomy, is a procedure that can be used to widen the mitral valve if you have mitral stenosis.It\\'s usually done using local anaesthetic, where you remain awake but your skin is numbed.A small cut is made in your groin or neck and a thin tube is passed along a blood vessel to your heart.The end of the catheter has a small balloon attached to it. This is inflated inside the narrowed valve to stretch it wider. The balloon is then deflated and removed along with the catheter.This procedure is generally less effective than replacing the mitral valve, but recovery tends to be quicker and it may be a better option if your valve is not too narrow or you\\'re at an increased risk of surgery complications (for example, if you\\'re pregnant or frail). \\n',\n",
              " 'count': 21,\n",
              " 'text': '\\n    <s>\\n    [INST] <<SYS>> The mitral valve is a small flap in the heart that stops blood flowing the wrong way. Problems with it can affect how blood flows around the body.The main problems that affect the mitral valve are:mitral valve prolapse – the valve becomes too floppymitral regurgitation – the valve leaks and blood flows the wrong waymitral stenosis – the valve does not open as wide as it shouldThese conditions can be serious, but they\\'re often treatable.In some cases, mitral valve surgery may be needed. \\nMitral valve prolapse\\n Mitral valve prolapseMitral valve prolapse is where the mitral valve is too floppy and does not close tightly.SymptomsMany people with a mitral valve prolapse do not have symptoms and it may only be spotted during a heart scan (echocardiogram) carried out for another reason.Mitral valve prolapse can sometimes cause:dizzinessbreathlessnesstirednessan irregular heartbeat (arrhythmia) or noticeable heartbeats (palpitations)mitral regurgitationTreatmentYou probably will not need treatment if you do not have any symptoms.Your doctor may suggest:making lifestyle changes, such as giving up smoking, caffeine and alcohol – these things can make your heart work too hardhaving regular check-ups to monitor your conditionIf you have symptoms or your mitral valve is very floppy, your doctor may recommend:medicine to relieve your symptoms, such as beta blockers for an irregular heartbeatmitral valve surgery to repair or replace the mitral valveCausesMitral valve prolapse is usually caused by problems with the tissues that join the mitral valve to the heart muscles.Some people with the condition are born with it, and it\\'s more common in people with connective tissue disorders, such as Marfan syndrome.Rarely, it can be caused by damage to the heart muscles themselves – for example, as the result of a heart attack. \\nMitral regurgitation\\n Mitral regurgitationMitral regurgitation is where some blood flows the wrong way in the heart because the mitral valve does not close properly.SymptomsMitral valve regurgitation does not always have symptoms.Sometimes it can cause:dizzinessbreathlessnesstirednesschest painIf not treated, it can lead to:atrial fibrillation – an irregular and fast heartbeatpulmonary hypertension – high blood pressure in the blood vessels that supply the lungsheart failure – where the heart cannot pump enough blood around the bodyTreatmentYou might not need treatment if you do not have any symptoms. Your doctor may just suggest having regular check-ups to monitor your condition.If you have symptoms or the problem with your valve is serious, your doctor may recommend:medicines to relieve your symptoms – such as diuretics to reduce breathlessness and medicines for atrial fibrillationopen heart surgery – to repair or replace the mitral valvekeyhole surgery – a small clip is attached to the mitral valve to help it close; the clip is guided into the heart through a thin tube inserted into a vein in the groinCausesMitral regurgitation happens if the mitral valve cannot close properly.This is usually caused by either:the mitral valve becoming too floppy (mitral valve prolapse)the ring of muscle around the valve becoming too wideThese problems often develop with age – for example, because of \"wear and tear\" over time or damage caused by untreated high blood pressure.Mitral regurgitation can sometimes be caused by a problem such as:cardiomyopathy – where the walls of the heart become stretched, thickened or stiffendocarditis – infection of the inner lining of the heartcongenital heart disease – birth defects affecting the heart \\nMitral stenosis\\n Mitral stenosisMitral valve stenosis is where the mitral valve does not open as wide as it should, restricting the flow of blood through the heart.SymptomsMitral valve stenosis may not have any symptoms.Sometimes it can cause:dizzinessbreathlessnesstirednessnoticeable heartbeats (palpitations)chest painIf not treated, it can lead to:atrial fibrillation – an irregular and fast heartbeatpulmonary hypertension – high blood pressure in the blood vessels that supply the lungsheart failure – where the heart cannot pump blood around the body properlyTreatmentYou might not need treatment if you do not have any symptoms. Your doctor may just suggest having regular check-ups to monitor your condition.If you have symptoms or the problem with your valve is serious, your doctor may recommend:medicine to relieve your symptoms – such as medicines called diuretics to reduce breathlessness and medicines for atrial fibrillationmitral valve surgery – to replace the valve or a procedure to stretch it with a small balloon (balloon valvuloplasty)CausesOne of the main causes of mitral valve stenosis is rheumatic heart disease.This is where an infection causes the heart to become inflamed. Over time, it can cause the flaps of the mitral valve to become hard and thick.Other causes include hard deposits that form around the valve with age, or a problem with the heart from birth (congenital heart disease). \\nMitral valve surgery\\n Mitral valve surgeryMitral valve surgery may be recommended if you have symptoms caused by a problem with your mitral valve or if the problem is quite serious.The most common mitral valve procedures are:mitral valve repairmitral valve replacementballoon valvuloplasty – where the mitral valve is stretched with a small balloonMitral valve repairMitral valve repair is an operation to make the flaps of the mitral valve stay closer together. This will help stop blood flowing the wrong way through the valve.It\\'s mainly used to treat mitral valve prolapse or regurgitation, if the problem is serious and causing symptoms.The operation is carried out under general anaesthetic, where you\\'re asleep. Your surgeon will usually get to your heart through a single cut along the middle of your chest, but smaller cuts between your ribs are sometimes used.The flaps of the mitral valve are then partially sewn together.The operation may be done as keyhole surgery, where a small clip is attached to the mitral valve to help it close.Most people experience a significant improvement in their symptoms after surgery, but speak to your surgeon about the possible complications.Mitral valve replacementMitral valve replacement is an operation to replace your mitral valve with a mechanical valve or a valve made from animal tissue (a bioprosthetic valve).This is usually only done if you have mitral stenosis or mitral prolapse or regurgitation and are unable to have a valve repair.The operation is carried out under general anaesthetic, where you\\'re asleep. Your surgeon will usually replace the valve through a single cut along the middle of your chest.Most people experience a significant improvement in their symptoms after surgery, but speak to your surgeon about the possible complications. The risk of serious problems is generally higher than with mitral valve repair.You\\'ll also need to take medicine to prevent blood clots for a long time after this operation. If you have a mechanical valve, you\\'ll need to take this medicine for life.Balloon valvuloplastyBalloon valvuloplasty, also called percutaneous mitral commissurotomy, is a procedure that can be used to widen the mitral valve if you have mitral stenosis.It\\'s usually done using local anaesthetic, where you remain awake but your skin is numbed.A small cut is made in your groin or neck and a thin tube is passed along a blood vessel to your heart.The end of the catheter has a small balloon attached to it. This is inflated inside the narrowed valve to stretch it wider. The balloon is then deflated and removed along with the catheter.This procedure is generally less effective than replacing the mitral valve, but recovery tends to be quicker and it may be a better option if your valve is not too narrow or you\\'re at an increased risk of surgery complications (for example, if you\\'re pregnant or frail). \\n<</SYS>> What are the main problems that affect the mitral valve? [/INST]\\n    The main problems that affect the mitral valve are mitral valve prolapse, mitral regurgitation, and mitral stenosis. \\n    </s>\\n    ',\n",
              " 'text1': '\\n    <s>\\n    [INST]What are the main problems that affect the mitral valve? [/INST]\\n    The main problems that affect the mitral valve are mitral valve prolapse, mitral regurgitation, and mitral stenosis. \\n    </s>\\n    '}"
            ]
          },
          "metadata": {},
          "execution_count": 36
        }
      ],
      "source": [
        "dataset[0]"
      ]
    },
    {
      "cell_type": "code",
      "execution_count": 37,
      "metadata": {
        "colab": {
          "base_uri": "https://localhost:8080/"
        },
        "id": "xYKmTDtkAnt5",
        "outputId": "8b2966c6-e62a-4ca1-b4df-693a8672f330"
      },
      "outputs": [
        {
          "output_type": "stream",
          "name": "stdout",
          "text": [
            "['q', 'i', 'a', 'filename', 'context', 'count', 'text', 'text1']\n"
          ]
        }
      ],
      "source": [
        "features = list(dataset.features.keys())\n",
        "print(features)"
      ]
    },
    {
      "cell_type": "markdown",
      "metadata": {
        "id": "IxWkhG0Eub0X"
      },
      "source": [
        "## Dataset Preprocess"
      ]
    },
    {
      "cell_type": "code",
      "execution_count": 40,
      "metadata": {
        "id": "6aaqg6Uw1B1q"
      },
      "outputs": [],
      "source": [
        "prompt_format = \"\"\"\n",
        "Below is an medical questions that explain personal condition of the questioner, paired with the context that explains detailed about medical conditions. Write a answer that appropriately giving medical main problems.\n",
        "\n",
        "### Question:\n",
        "{}\n",
        "\n",
        "### Context:\n",
        "{}\n",
        "\n",
        "### Answer:\n",
        "{}\"\"\""
      ]
    },
    {
      "cell_type": "code",
      "execution_count": 41,
      "metadata": {
        "id": "XwXMhWEWwbiF"
      },
      "outputs": [],
      "source": [
        "EOS_TOKEN = tokenizer.eos_token\n",
        "\n",
        "def preprocess(examples):\n",
        "  instructions = examples['q']\n",
        "  inputs = examples['context']\n",
        "  outputs = examples['a']\n",
        "\n",
        "  texts = prompt_format.format(instructions, inputs, outputs) + EOS_TOKEN\n",
        "  return {'prompt' : texts}"
      ]
    },
    {
      "cell_type": "code",
      "execution_count": 42,
      "metadata": {
        "colab": {
          "base_uri": "https://localhost:8080/",
          "height": 124,
          "referenced_widgets": [
            "af6d372c07514281a3d8664ed8d95993",
            "6f56de4113374e9c8947a2e2d47804fd",
            "dca13e9ef78942948856e1c1b8216447",
            "e1b2d5f2e6f6452d99caac02f696dff1",
            "686b9bb0a95b4387a56901bd99f7ae9d",
            "f3172e57de034157871293f04cdacf7f",
            "e2d2abbe153047a08d1b4bae6961741e",
            "39b0a9c7fe064e3dbdcba06895646855",
            "0684fcf1023a4a018b913bc987e24741",
            "69aae75c8c00440b82977f8f27449364",
            "a06ec365468d44379b22ca41d9e47cd9"
          ]
        },
        "id": "7TFGpGhoWS9e",
        "outputId": "db645afc-8ddf-41e3-9dbb-5f7f4eeb08e3"
      },
      "outputs": [
        {
          "output_type": "display_data",
          "data": {
            "text/plain": [
              "Map:   0%|          | 0/21281 [00:00<?, ? examples/s]"
            ],
            "application/vnd.jupyter.widget-view+json": {
              "version_major": 2,
              "version_minor": 0,
              "model_id": "af6d372c07514281a3d8664ed8d95993"
            }
          },
          "metadata": {}
        },
        {
          "output_type": "execute_result",
          "data": {
            "text/plain": [
              "Dataset({\n",
              "    features: ['prompt'],\n",
              "    num_rows: 21281\n",
              "})"
            ]
          },
          "metadata": {},
          "execution_count": 42
        }
      ],
      "source": [
        "formatted_dataset = dataset.map(\n",
        "  preprocess,\n",
        "  remove_columns = list(dataset.features.keys())\n",
        ")\n",
        "formatted_dataset"
      ]
    },
    {
      "cell_type": "code",
      "execution_count": 43,
      "metadata": {
        "colab": {
          "base_uri": "https://localhost:8080/"
        },
        "id": "cZya4tPEWUc9",
        "outputId": "4f4e02c6-1407-446a-ca21-6ea4c3c5d714"
      },
      "outputs": [
        {
          "output_type": "stream",
          "name": "stdout",
          "text": [
            "\n",
            "Below is an medical questions that explain personal condition of the questioner, paired with the context that explains detailed about medical conditions. Write a answer that appropriately giving medical main problems.\n",
            "\n",
            "### Question:\n",
            "What are the main problems that affect the mitral valve?\n",
            "\n",
            "### Context:\n",
            " The mitral valve is a small flap in the heart that stops blood flowing the wrong way. Problems with it can affect how blood flows around the body.The main problems that affect the mitral valve are:mitral valve prolapse – the valve becomes too floppymitral regurgitation – the valve leaks and blood flows the wrong waymitral stenosis – the valve does not open as wide as it shouldThese conditions can be serious, but they're often treatable.In some cases, mitral valve surgery may be needed. \n",
            "Mitral valve prolapse\n",
            " Mitral valve prolapseMitral valve prolapse is where the mitral valve is too floppy and does not close tightly.SymptomsMany people with a mitral valve prolapse do not have symptoms and it may only be spotted during a heart scan (echocardiogram) carried out for another reason.Mitral valve prolapse can sometimes cause:dizzinessbreathlessnesstirednessan irregular heartbeat (arrhythmia) or noticeable heartbeats (palpitations)mitral regurgitationTreatmentYou probably will not need treatment if you do not have any symptoms.Your doctor may suggest:making lifestyle changes, such as giving up smoking, caffeine and alcohol – these things can make your heart work too hardhaving regular check-ups to monitor your conditionIf you have symptoms or your mitral valve is very floppy, your doctor may recommend:medicine to relieve your symptoms, such as beta blockers for an irregular heartbeatmitral valve surgery to repair or replace the mitral valveCausesMitral valve prolapse is usually caused by problems with the tissues that join the mitral valve to the heart muscles.Some people with the condition are born with it, and it's more common in people with connective tissue disorders, such as Marfan syndrome.Rarely, it can be caused by damage to the heart muscles themselves – for example, as the result of a heart attack. \n",
            "Mitral regurgitation\n",
            " Mitral regurgitationMitral regurgitation is where some blood flows the wrong way in the heart because the mitral valve does not close properly.SymptomsMitral valve regurgitation does not always have symptoms.Sometimes it can cause:dizzinessbreathlessnesstirednesschest painIf not treated, it can lead to:atrial fibrillation – an irregular and fast heartbeatpulmonary hypertension – high blood pressure in the blood vessels that supply the lungsheart failure – where the heart cannot pump enough blood around the bodyTreatmentYou might not need treatment if you do not have any symptoms. Your doctor may just suggest having regular check-ups to monitor your condition.If you have symptoms or the problem with your valve is serious, your doctor may recommend:medicines to relieve your symptoms – such as diuretics to reduce breathlessness and medicines for atrial fibrillationopen heart surgery – to repair or replace the mitral valvekeyhole surgery – a small clip is attached to the mitral valve to help it close; the clip is guided into the heart through a thin tube inserted into a vein in the groinCausesMitral regurgitation happens if the mitral valve cannot close properly.This is usually caused by either:the mitral valve becoming too floppy (mitral valve prolapse)the ring of muscle around the valve becoming too wideThese problems often develop with age – for example, because of \"wear and tear\" over time or damage caused by untreated high blood pressure.Mitral regurgitation can sometimes be caused by a problem such as:cardiomyopathy – where the walls of the heart become stretched, thickened or stiffendocarditis – infection of the inner lining of the heartcongenital heart disease – birth defects affecting the heart \n",
            "Mitral stenosis\n",
            " Mitral stenosisMitral valve stenosis is where the mitral valve does not open as wide as it should, restricting the flow of blood through the heart.SymptomsMitral valve stenosis may not have any symptoms.Sometimes it can cause:dizzinessbreathlessnesstirednessnoticeable heartbeats (palpitations)chest painIf not treated, it can lead to:atrial fibrillation – an irregular and fast heartbeatpulmonary hypertension – high blood pressure in the blood vessels that supply the lungsheart failure – where the heart cannot pump blood around the body properlyTreatmentYou might not need treatment if you do not have any symptoms. Your doctor may just suggest having regular check-ups to monitor your condition.If you have symptoms or the problem with your valve is serious, your doctor may recommend:medicine to relieve your symptoms – such as medicines called diuretics to reduce breathlessness and medicines for atrial fibrillationmitral valve surgery – to replace the valve or a procedure to stretch it with a small balloon (balloon valvuloplasty)CausesOne of the main causes of mitral valve stenosis is rheumatic heart disease.This is where an infection causes the heart to become inflamed. Over time, it can cause the flaps of the mitral valve to become hard and thick.Other causes include hard deposits that form around the valve with age, or a problem with the heart from birth (congenital heart disease). \n",
            "Mitral valve surgery\n",
            " Mitral valve surgeryMitral valve surgery may be recommended if you have symptoms caused by a problem with your mitral valve or if the problem is quite serious.The most common mitral valve procedures are:mitral valve repairmitral valve replacementballoon valvuloplasty – where the mitral valve is stretched with a small balloonMitral valve repairMitral valve repair is an operation to make the flaps of the mitral valve stay closer together. This will help stop blood flowing the wrong way through the valve.It's mainly used to treat mitral valve prolapse or regurgitation, if the problem is serious and causing symptoms.The operation is carried out under general anaesthetic, where you're asleep. Your surgeon will usually get to your heart through a single cut along the middle of your chest, but smaller cuts between your ribs are sometimes used.The flaps of the mitral valve are then partially sewn together.The operation may be done as keyhole surgery, where a small clip is attached to the mitral valve to help it close.Most people experience a significant improvement in their symptoms after surgery, but speak to your surgeon about the possible complications.Mitral valve replacementMitral valve replacement is an operation to replace your mitral valve with a mechanical valve or a valve made from animal tissue (a bioprosthetic valve).This is usually only done if you have mitral stenosis or mitral prolapse or regurgitation and are unable to have a valve repair.The operation is carried out under general anaesthetic, where you're asleep. Your surgeon will usually replace the valve through a single cut along the middle of your chest.Most people experience a significant improvement in their symptoms after surgery, but speak to your surgeon about the possible complications. The risk of serious problems is generally higher than with mitral valve repair.You'll also need to take medicine to prevent blood clots for a long time after this operation. If you have a mechanical valve, you'll need to take this medicine for life.Balloon valvuloplastyBalloon valvuloplasty, also called percutaneous mitral commissurotomy, is a procedure that can be used to widen the mitral valve if you have mitral stenosis.It's usually done using local anaesthetic, where you remain awake but your skin is numbed.A small cut is made in your groin or neck and a thin tube is passed along a blood vessel to your heart.The end of the catheter has a small balloon attached to it. This is inflated inside the narrowed valve to stretch it wider. The balloon is then deflated and removed along with the catheter.This procedure is generally less effective than replacing the mitral valve, but recovery tends to be quicker and it may be a better option if your valve is not too narrow or you're at an increased risk of surgery complications (for example, if you're pregnant or frail). \n",
            "\n",
            "\n",
            "### Answer:\n",
            "The main problems that affect the mitral valve are mitral valve prolapse, mitral regurgitation, and mitral stenosis.<|eot_id|>\n"
          ]
        }
      ],
      "source": [
        "print(formatted_dataset[0]['prompt'])"
      ]
    },
    {
      "cell_type": "markdown",
      "metadata": {
        "id": "hj7Ifez4xy33"
      },
      "source": [
        "## Tokenization"
      ]
    },
    {
      "cell_type": "code",
      "execution_count": 44,
      "metadata": {
        "id": "m7bxU8fiewb7"
      },
      "outputs": [],
      "source": [
        "def tokenize_data(example, max_length = max_length):\n",
        "  return tokenizer(example['prompt'], truncation = True, padding = 'max_length', max_length = max_length)"
      ]
    },
    {
      "cell_type": "code",
      "execution_count": 45,
      "metadata": {
        "colab": {
          "base_uri": "https://localhost:8080/",
          "height": 124,
          "referenced_widgets": [
            "9a1366d6860c4c5282b30232d5607b89",
            "39413b67e9c8418b81f7a68ed156543f",
            "6132da85ac8f476b8e50e980a15a5a86",
            "c0e07637afda4af480e7b4c8194be7f3",
            "61192c96289842969a430ec8a1aa2db3",
            "aae12919706c4b10b297ed56da7e782d",
            "d7f4d93635824e2ea31498c49d5b010b",
            "74f9054435d4496fbf84423978ce2a57",
            "5d777e66b70f4c5bb4b624cb40b83880",
            "5c0417eeff954b87b81eb9bd74eabd25",
            "15befca2b78c42498d92a36faf03e131"
          ]
        },
        "id": "M3BO26k-BmdS",
        "outputId": "ce643282-44ba-4cc6-e008-fbe70b25f015"
      },
      "outputs": [
        {
          "output_type": "display_data",
          "data": {
            "text/plain": [
              "Map:   0%|          | 0/21281 [00:00<?, ? examples/s]"
            ],
            "application/vnd.jupyter.widget-view+json": {
              "version_major": 2,
              "version_minor": 0,
              "model_id": "9a1366d6860c4c5282b30232d5607b89"
            }
          },
          "metadata": {}
        },
        {
          "output_type": "execute_result",
          "data": {
            "text/plain": [
              "Dataset({\n",
              "    features: ['prompt', 'input_ids', 'attention_mask'],\n",
              "    num_rows: 21281\n",
              "})"
            ]
          },
          "metadata": {},
          "execution_count": 45
        }
      ],
      "source": [
        "tokenized_dataset = formatted_dataset.map(tokenize_data, batched = True)#, remove_columns = 'text')\n",
        "tokenized_dataset"
      ]
    },
    {
      "cell_type": "code",
      "execution_count": 46,
      "metadata": {
        "colab": {
          "base_uri": "https://localhost:8080/"
        },
        "id": "wEHhMdV4pEFH",
        "outputId": "aa1fad62-3a66-4b18-f6c5-07b847b12561"
      },
      "outputs": [
        {
          "output_type": "stream",
          "name": "stdout",
          "text": [
            "\n",
            "Below is an medical questions that explain personal condition of the questioner, paired with the context that explains detailed about medical conditions. Write a answer that appropriately giving medical main problems.\n",
            "\n",
            "### Question:\n",
            "What are the main problems that affect the mitral valve?\n",
            "\n",
            "### Context:\n",
            " The mitral valve is a small flap in the heart that stops blood flowing the wrong way. Problems with it can affect how blood flows around the body.The main problems that affect the mitral valve are:mitral valve prolapse – the valve becomes too floppymitral regurgitation – the valve leaks and blood flows the wrong waymitral stenosis – the valve does not open as wide as it shouldThese conditions can be serious, but they're often treatable.In some cases, mitral valve surgery may be needed. \n",
            "Mitral valve prolapse\n",
            " Mitral valve prolapseMitral valve prolapse is where the mitral valve is too floppy and does not close tightly.SymptomsMany people with a mitral valve prolapse do not have symptoms and it may only be spotted during a heart scan (echocardiogram) carried out for another reason.Mitral valve prolapse can sometimes cause:dizzinessbreathlessnesstirednessan irregular heartbeat (arrhythmia) or noticeable heartbeats (palpitations)mitral regurgitationTreatmentYou probably will not need treatment if you do not have any symptoms.Your doctor may suggest:making lifestyle changes, such as giving up smoking, caffeine and alcohol – these things can make your heart work too hardhaving regular check-ups to monitor your conditionIf you have symptoms or your mitral valve is very floppy, your doctor may recommend:medicine to relieve your symptoms, such as beta blockers for an irregular heartbeatmitral valve surgery to repair or replace the mitral valveCausesMitral valve prolapse is usually caused by problems with the tissues that join the mitral valve to the heart muscles.Some people with the condition are born with it, and it's more common in people with connective tissue disorders, such as Marfan syndrome.Rarely, it can be caused by damage to the heart muscles themselves – for example, as the result of a heart attack. \n",
            "Mitral regurgitation\n",
            " Mitral regurgitationMitral regurgitation is where some blood flows the wrong way in the heart because the mitral valve does not close properly.SymptomsMitral valve regurgitation does not always have symptoms.Sometimes it can cause:dizzinessbreathlessnesstirednesschest painIf not treated, it can lead to:atrial fibrillation – an irregular and fast heartbeatpulmonary hypertension – high blood pressure in the blood vessels that supply the lungsheart failure – where the heart cannot pump enough blood around the bodyTreatmentYou might not need treatment if you do not have any symptoms. Your doctor may just suggest having regular check-ups to monitor your condition.If you have symptoms or the problem with your valve is serious, your doctor may recommend:medicines to relieve your symptoms – such as diuretics to reduce breathlessness and medicines for atrial fibrillationopen heart surgery – to repair or replace the mitral valvekeyhole surgery – a small clip is attached to the mitral valve to help it close; the clip is guided into the heart through a thin tube inserted into a vein in the groinCausesMitral regurgitation happens if the mitral valve cannot close properly.This is usually caused by either:the mitral valve becoming too floppy (mitral valve prolapse)the ring of muscle around the valve becoming too wideThese problems often develop with age – for example, because of \"wear and tear\" over time or damage caused by untreated high blood pressure.Mitral regurgitation can sometimes be caused by a problem such as:cardiomyopathy – where the walls of the heart become stretched, thickened or stiffendocarditis – infection of the inner lining of the heartcongenital heart disease – birth defects affecting the heart \n",
            "Mitral stenosis\n",
            " Mitral stenosisMitral valve stenosis is where the mitral valve does not open as wide as it should, restricting the flow of blood through the heart.SymptomsMitral valve stenosis may not have any symptoms.Sometimes it can cause:dizzinessbreathlessnesstirednessnoticeable heartbeats (palpitations)chest painIf not treated, it can lead to:atrial fibrillation – an irregular and fast heartbeatpulmonary hypertension – high blood pressure in the blood vessels that supply the lungsheart failure – where the heart cannot pump blood around the body properlyTreatmentYou might not need treatment if you do not have any symptoms. Your doctor may just suggest having regular check-ups to monitor your condition.If you have symptoms or the problem with your valve is serious, your doctor may recommend:medicine to relieve your symptoms – such as medicines called diuretics to reduce breathlessness and medicines for atrial fibrillationmitral valve surgery – to replace the valve or a procedure to stretch it with a small balloon (balloon valvuloplasty)CausesOne of the main causes of mitral valve stenosis is rheumatic heart disease.This is where an infection causes the heart to become inflamed. Over time, it can cause the flaps of the mitral valve to become hard and thick.Other causes include hard deposits that form around the valve with age, or a problem with the heart from birth (congenital heart disease). \n",
            "Mitral valve surgery\n",
            " Mitral valve surgeryMitral valve surgery may be recommended if you have symptoms caused by a problem with your mitral valve or if the problem is quite serious.The most common mitral valve procedures are:mitral valve repairmitral valve replacementballoon valvuloplasty – where the mitral valve is stretched with a small balloonMitral valve repairMitral valve repair is an operation to make the flaps of the mitral valve stay closer together. This will help stop blood flowing the wrong way through the valve.It's mainly used to treat mitral valve prolapse or regurgitation, if the problem is serious and causing symptoms.The operation is carried out under general anaesthetic, where you're asleep. Your surgeon will usually get to your heart through a single cut along the middle of your chest, but smaller cuts between your ribs are sometimes used.The flaps of the mitral valve are then partially sewn together.The operation may be done as keyhole surgery, where a small clip is attached to the mitral valve to help it close.Most people experience a significant improvement in their symptoms after surgery, but speak to your surgeon about the possible complications.Mitral valve replacementMitral valve replacement is an operation to replace your mitral valve with a mechanical valve or a valve made from animal tissue (a bioprosthetic valve).This is usually only done if you have mitral stenosis or mitral prolapse or regurgitation and are unable to have a valve repair.The operation is carried out under general anaesthetic, where you're asleep. Your surgeon will usually replace the valve through a single cut along the middle of your chest.Most people experience a significant improvement in their symptoms after surgery, but speak to your surgeon about the possible complications. The risk of serious problems is generally higher than with mitral valve repair.You'll also need to take medicine to prevent blood clots for a long time after this operation. If you have a mechanical valve, you'll need to take this medicine for life.Balloon valvuloplastyBalloon valvuloplasty, also called percutaneous mitral commissurotomy, is a procedure that can be used to widen the mitral valve if you have mitral stenosis.It's usually done using local anaesthetic, where you remain awake but your skin is numbed.A small cut is made in your groin or neck and a thin tube is passed along a blood vessel to your heart.The end of the catheter has a small balloon attached to it. This is inflated inside the narrowed valve to stretch it wider. The balloon is then deflated and removed along with the catheter.This procedure is generally less effective than replacing the mitral valve, but recovery tends to be quicker and it may be a better option if your valve is not too narrow or you're at an increased risk of surgery complications (for example, if you're pregnant or frail). \n",
            "\n",
            "\n",
            "### Answer:\n",
            "The main problems that affect the mitral valve are mitral valve prolapse, mitral regurgitation, and mitral stenosis.<|eot_id|>\n"
          ]
        }
      ],
      "source": [
        "print(tokenized_dataset[0]['prompt'])"
      ]
    },
    {
      "cell_type": "code",
      "execution_count": 47,
      "metadata": {
        "colab": {
          "base_uri": "https://localhost:8080/"
        },
        "id": "HN5KLjKcyVJi",
        "outputId": "d3a7f787-8768-4b92-805d-204f73fa811c"
      },
      "outputs": [
        {
          "output_type": "stream",
          "name": "stdout",
          "text": [
            "[128004, 128004, 128004, 128004, 128004, 128004, 128004, 128004, 128004, 128004, 128004, 128004, 128004, 128004, 128004, 128004, 128004, 128004, 128004, 128004, 128004, 128004, 128004, 128004, 128004, 128004, 128004, 128004, 128004, 128004, 128004, 128004, 128004, 128004, 128004, 128004, 128004, 128004, 128004, 128004, 128004, 128004, 128004, 128004, 128004, 128004, 128004, 128004, 128004, 128004, 128004, 128004, 128004, 128004, 128004, 128004, 128004, 128004, 128004, 128004, 128004, 128004, 128004, 128004, 128004, 128004, 128004, 128004, 128004, 128004, 128004, 128004, 128004, 128004, 128004, 128004, 128004, 128004, 128004, 128004, 128004, 128004, 128004, 128004, 128004, 128004, 128004, 128004, 128004, 128004, 128004, 128004, 128004, 128004, 128004, 128004, 128004, 128004, 128004, 128004, 128004, 128004, 128004, 128004, 128004, 128004, 128004, 128004, 128004, 128004, 128004, 128004, 128004, 128004, 128004, 128004, 128004, 128004, 128004, 128004, 128004, 128004, 128004, 128004, 128004, 128004, 128004, 128004, 128004, 128004, 128004, 128004, 128004, 128004, 128004, 128004, 128004, 128004, 128004, 128004, 128004, 128004, 128004, 128004, 128004, 128004, 128004, 128004, 128004, 128004, 128004, 128004, 128004, 128004, 128004, 128004, 128004, 128004, 128004, 128004, 128004, 128004, 128004, 128004, 128004, 128004, 128004, 128004, 128004, 128004, 128004, 128004, 128004, 128004, 128004, 128004, 128004, 128004, 128004, 128004, 128004, 128004, 128004, 128004, 128004, 128004, 128004, 128004, 128004, 128004, 128004, 128004, 128004, 128004, 128004, 128004, 128004, 128004, 128004, 128004, 128004, 128004, 128004, 128004, 128004, 128004, 128004, 128004, 128004, 128004, 128004, 128004, 128004, 128004, 128004, 128004, 128004, 128004, 128004, 128004, 128004, 128004, 128004, 128004, 128004, 128004, 128004, 128004, 128004, 128004, 128004, 128004, 128004, 128004, 128004, 128004, 128004, 128004, 128004, 128004, 128004, 128004, 128004, 128004, 128004, 128004, 128004, 128004, 128004, 128004, 128004, 128004, 128004, 128004, 128004, 128004, 128004, 128004, 128004, 128004, 128004, 128004, 128004, 128004, 128004, 128004, 128004, 128004, 128004, 128004, 128004, 128004, 128004, 128004, 128004, 128004, 128004, 128004, 128004, 128004, 128004, 128004, 128004, 128004, 128004, 128004, 128004, 128004, 128004, 128004, 128004, 128004, 128004, 128004, 128004, 128004, 128004, 128004, 128004, 128004, 128004, 128004, 128000, 198, 39314, 374, 459, 6593, 4860, 430, 10552, 4443, 3044, 315, 279, 3488, 261, 11, 35526, 449, 279, 2317, 430, 15100, 11944, 922, 6593, 4787, 13, 9842, 264, 4320, 430, 36001, 7231, 6593, 1925, 5435, 382, 14711, 16225, 512, 3923, 527, 279, 1925, 5435, 430, 7958, 279, 5568, 3545, 32530, 1980, 14711, 9805, 512, 578, 5568, 3545, 32530, 374, 264, 2678, 67533, 304, 279, 4851, 430, 18417, 6680, 36612, 279, 5076, 1648, 13, 45635, 449, 433, 649, 7958, 1268, 6680, 28555, 2212, 279, 2547, 11829, 1925, 5435, 430, 7958, 279, 5568, 3545, 32530, 527, 25, 1800, 3545, 32530, 29520, 7629, 1389, 279, 32530, 9221, 2288, 9943, 604, 1631, 275, 3545, 1239, 5673, 7709, 1389, 279, 32530, 37796, 323, 6680, 28555, 279, 5076, 1648, 1800, 3545, 357, 268, 10934, 1389, 279, 32530, 1587, 539, 1825, 439, 7029, 439, 433, 1288, 9673, 4787, 649, 387, 6129, 11, 719, 814, 2351, 3629, 4322, 481, 5450, 1063, 5157, 11, 5568, 3545, 32530, 15173, 1253, 387, 4460, 13, 720, 55470, 3545, 32530, 29520, 7629, 198, 22515, 3545, 32530, 29520, 7629, 55470, 3545, 32530, 29520, 7629, 374, 1405, 279, 5568, 3545, 32530, 374, 2288, 92458, 323, 1587, 539, 3345, 40069, 815, 1631, 52273, 8607, 1274, 449, 264, 5568, 3545, 32530, 29520, 7629, 656, 539, 617, 13803, 323, 433, 1253, 1193, 387, 30652, 2391, 264, 4851, 8737, 320, 4842, 511, 37489, 13255, 8, 11953, 704, 369, 2500, 2944, 1345, 275, 3545, 32530, 29520, 7629, 649, 7170, 5353, 41522, 97745, 21152, 589, 1752, 4978, 267, 2757, 2136, 276, 42408, 53205, 320, 1138, 61254, 689, 8, 477, 43426, 4851, 1395, 1900, 320, 19866, 79, 31767, 8, 1800, 3545, 1239, 5673, 7709, 99654, 2675, 4762, 690, 539, 1205, 6514, 422, 499, 656, 539, 617, 904, 13803, 7659, 414, 10896, 1253, 4284, 25, 28936, 19433, 4442, 11, 1778, 439, 7231, 709, 20149, 11, 49750, 323, 13200, 1389, 1521, 2574, 649, 1304, 701, 4851, 990, 2288, 2653, 69666, 5912, 1817, 27859, 311, 8891, 701, 3044, 2746, 499, 617, 13803, 477, 701, 5568, 3545, 32530, 374, 1633, 92458, 11, 701, 10896, 1253, 7079, 25, 83543, 311, 48839, 701, 13803, 11, 1778, 439, 13746, 84235, 369, 459, 42408, 53205, 1800, 3545, 32530, 15173, 311, 13023, 477, 8454, 279, 5568, 3545, 32530, 23389, 4881, 55470, 3545, 32530, 29520, 7629, 374, 6118, 9057, 555, 5435, 449, 279, 39881, 430, 5249, 279, 5568, 3545, 32530, 311, 279, 4851, 24569, 87933, 1274, 449, 279, 3044, 527, 9405, 449, 433, 11, 323, 433, 596, 810, 4279, 304, 1274, 449, 4667, 535, 20438, 24673, 11, 1778, 439, 2947, 31278, 28439, 2056, 548, 398, 11, 433, 649, 387, 9057, 555, 5674, 311, 279, 4851, 24569, 5694, 1389, 369, 3187, 11, 439, 279, 1121, 315, 264, 4851, 3440, 13, 720, 55470, 3545, 1239, 5673, 7709, 198, 22515, 3545, 1239, 5673, 7709, 55470, 3545, 1239, 5673, 7709, 374, 1405, 1063, 6680, 28555, 279, 5076, 1648, 304, 279, 4851, 1606, 279, 5568, 3545, 32530, 1587, 539, 3345, 10489, 815, 1631, 52273, 55470, 3545, 32530, 1239, 5673, 7709, 1587, 539, 2744, 617, 13803, 815, 12982, 433, 649, 5353, 41522, 97745, 21152, 589, 1752, 4978, 267, 2757, 2136, 27417, 6784, 2746, 539, 12020, 11, 433, 649, 3063, 311, 25, 2416, 278, 95235, 67184, 1389, 459, 42408, 323, 5043, 53205, 79, 360, 55892, 63308, 1389, 1579, 6680, 7410, 304, 279, 6680, 31080, 430, 8312, 279, 45274, 18207, 8060, 1389, 1405, 279, 4851, 4250, 14155, 3403, 6680, 2212, 279, 2547, 99654, 2675, 2643, 539, 1205, 6514, 422, 499, 656, 539, 617, 904, 13803, 13, 4718, 10896, 1253, 1120, 4284, 3515, 5912, 1817, 27859, 311, 8891, 701, 3044, 34001, 499, 617, 13803, 477, 279, 3575, 449, 701, 32530, 374, 6129, 11, 701, 10896, 1253, 7079, 25, 2106, 292, 1572, 311, 48839, 701, 13803, 1389, 1778, 439, 1891, 554, 13024, 311, 8108, 11745, 33028, 323, 39653, 369, 30670, 532, 95235, 67184, 2569, 4851, 15173, 1389, 311, 13023, 477, 8454, 279, 5568, 3545, 32530, 798, 31520, 15173, 1389, 264, 2678, 12607, 374, 12673, 311, 279, 5568, 3545, 32530, 311, 1520, 433, 3345, 26, 279, 12607, 374, 33687, 1139, 279, 4851, 1555, 264, 15792, 14019, 22306, 1139, 264, 54344, 304, 279, 98875, 23389, 4881, 55470, 3545, 1239, 5673, 7709, 8741, 422, 279, 5568, 3545, 32530, 4250, 3345, 10489, 29845, 374, 6118, 9057, 555, 3060, 25, 1820, 5568, 3545, 32530, 10671, 2288, 92458, 320, 1800, 3545, 32530, 29520, 7629, 8, 1820, 10264, 315, 16124, 2212, 279, 32530, 10671, 2288, 7029, 9673, 5435, 3629, 2274, 449, 4325, 1389, 369, 3187, 11, 1606, 315, 330, 23581, 323, 18036, 1, 927, 892, 477, 5674, 9057, 555, 83920, 1579, 6680, 7410, 1345, 275, 3545, 1239, 5673, 7709, 649, 7170, 387, 9057, 555, 264, 3575, 1778, 439, 25, 5057, 72, 5650, 54042, 1389, 1405, 279, 14620, 315, 279, 4851, 3719, 41398, 11, 12314, 6901, 477, 31161, 408, 74378, 20000, 1389, 19405, 315, 279, 9358, 36471, 315, 279, 4851, 444, 4469, 2223, 4851, 8624, 1389, 7342, 42655, 28987, 279, 4851, 720, 55470, 3545, 357, 268, 10934, 198, 22515, 3545, 357, 268, 10934, 55470, 3545, 32530, 357, 268, 10934, 374, 1405, 279, 5568, 3545, 32530, 1587, 539, 1825, 439, 7029, 439, 433, 1288, 11, 65951, 279, 6530, 315, 6680, 1555, 279, 4851, 815, 1631, 52273, 55470, 3545, 32530, 357, 268, 10934, 1253, 539, 617, 904, 13803, 815, 12982, 433, 649, 5353, 41522, 97745, 21152, 589, 1752, 4978, 267, 2757, 2136, 24467, 481, 4851, 1395, 1900, 320, 19866, 79, 31767, 8, 27417, 6784, 2746, 539, 12020, 11, 433, 649, 3063, 311, 25, 2416, 278, 95235, 67184, 1389, 459, 42408, 323, 5043, 53205, 79, 360, 55892, 63308, 1389, 1579, 6680, 7410, 304, 279, 6680, 31080, 430, 8312, 279, 45274, 18207, 8060, 1389, 1405, 279, 4851, 4250, 14155, 6680, 2212, 279, 2547, 10489, 99654, 2675, 2643, 539, 1205, 6514, 422, 499, 656, 539, 617, 904, 13803, 13, 4718, 10896, 1253, 1120, 4284, 3515, 5912, 1817, 27859, 311, 8891, 701, 3044, 34001, 499, 617, 13803, 477, 279, 3575, 449, 701, 32530, 374, 6129, 11, 701, 10896, 1253, 7079, 25, 83543, 311, 48839, 701, 13803, 1389, 1778, 439, 39653, 2663, 1891, 554, 13024, 311, 8108, 11745, 33028, 323, 39653, 369, 30670, 532, 95235, 67184, 1800, 3545, 32530, 15173, 1389, 311, 8454, 279, 32530, 477, 264, 10537, 311, 14841, 433, 449, 264, 2678, 47856, 320, 13616, 32435, 1062, 85, 360, 92335, 88, 8, 23389, 4881, 4054, 315, 279, 1925, 11384, 315, 5568, 3545, 32530, 357, 268, 10934, 374, 68132, 33030, 4851, 8624, 29845, 374, 1405, 459, 19405, 11384, 279, 4851, 311, 3719, 4704, 3690, 13, 6193, 892, 11, 433, 649, 5353, 279, 1344, 2690, 315, 279, 5568, 3545, 32530, 311, 3719, 2653, 323, 12314, 96442, 11384, 2997, 2653, 34751, 430, 1376, 2212, 279, 32530, 449, 4325, 11, 477, 264, 3575, 449, 279, 4851, 505, 7342, 320, 444, 4469, 2223, 4851, 8624, 570, 720, 55470, 3545, 32530, 15173, 198, 22515, 3545, 32530, 15173, 55470, 3545, 32530, 15173, 1253, 387, 11349, 422, 499, 617, 13803, 9057, 555, 264, 3575, 449, 701, 5568, 3545, 32530, 477, 422, 279, 3575, 374, 5115, 6129, 11829, 1455, 4279, 5568, 3545, 32530, 16346, 527, 25, 1800, 3545, 32530, 13023, 1800, 3545, 32530, 14039, 13616, 32435, 1062, 85, 360, 92335, 88, 1389, 1405, 279, 5568, 3545, 32530, 374, 41398, 449, 264, 2678, 47856, 55470, 3545, 32530, 13023, 55470, 3545, 32530, 13023, 374, 459, 5784, 311, 1304, 279, 1344, 2690, 315, 279, 5568, 3545, 32530, 4822, 12401, 3871, 13, 1115, 690, 1520, 3009, 6680, 36612, 279, 5076, 1648, 1555, 279, 32530, 28628, 596, 14918, 1511, 311, 4322, 5568, 3545, 32530, 29520, 7629, 477, 1239, 5673, 7709, 11, 422, 279, 3575, 374, 6129, 323, 14718, 13803, 11829, 5784, 374, 11953, 704, 1234, 4689, 41390, 71109, 11, 1405, 499, 2351, 33173, 13, 4718, 46098, 690, 6118, 636, 311, 701, 4851, 1555, 264, 3254, 4018, 3235, 279, 6278, 315, 701, 15489, 11, 719, 9333, 15455, 1990, 701, 56249, 527, 7170, 1511, 11829, 1344, 2690, 315, 279, 5568, 3545, 32530, 527, 1243, 26310, 23154, 77, 3871, 11829, 5784, 1253, 387, 2884, 439, 1401, 31520, 15173, 11, 1405, 264, 2678, 12607, 374, 12673, 311, 279, 5568, 3545, 32530, 311, 1520, 433, 3345, 1345, 537, 1274, 3217, 264, 5199, 16048, 304, 872, 13803, 1306, 15173, 11, 719, 6604, 311, 701, 46098, 922, 279, 3284, 36505, 1345, 275, 3545, 32530, 14039, 55470, 3545, 32530, 14039, 374, 459, 5784, 311, 8454, 701, 5568, 3545, 32530, 449, 264, 22936, 32530, 477, 264, 32530, 1903, 505, 10065, 20438, 320, 64, 6160, 454, 42602, 27961, 32530, 570, 2028, 374, 6118, 1193, 2884, 422, 499, 617, 5568, 3545, 357, 268, 10934, 477, 5568, 3545, 29520, 7629, 477, 1239, 5673, 7709, 323, 527, 12153, 311, 617, 264, 32530, 13023, 11829, 5784, 374, 11953, 704, 1234, 4689, 41390, 71109, 11, 1405, 499, 2351, 33173, 13, 4718, 46098, 690, 6118, 8454, 279, 32530, 1555, 264, 3254, 4018, 3235, 279, 6278, 315, 701, 15489, 1345, 537, 1274, 3217, 264, 5199, 16048, 304, 872, 13803, 1306, 15173, 11, 719, 6604, 311, 701, 46098, 922, 279, 3284, 36505, 13, 578, 5326, 315, 6129, 5435, 374, 8965, 5190, 1109, 449, 5568, 3545, 32530, 13023, 39537, 3358, 1101, 1205, 311, 1935, 16088, 311, 5471, 6680, 1206, 2469, 369, 264, 1317, 892, 1306, 420, 5784, 13, 1442, 499, 617, 264, 22936, 32530, 11, 499, 3358, 1205, 311, 1935, 420, 16088, 369, 2324, 1823, 278, 32435, 1062, 85, 360, 92335, 88, 38989, 32435, 1062, 85, 360, 92335, 88, 11, 1101, 2663, 824, 10453, 18133, 5568, 3545, 1081, 1056, 2868, 83, 5650, 11, 374, 264, 10537, 430, 649, 387, 1511, 311, 94415, 279, 5568, 3545, 32530, 422, 499, 617, 5568, 3545, 357, 268, 10934, 28628, 596, 6118, 2884, 1701, 2254, 41390, 71109, 11, 1405, 499, 7293, 35447, 719, 701, 6930, 374, 1661, 2788, 885, 2678, 4018, 374, 1903, 304, 701, 98875, 477, 13272, 323, 264, 15792, 14019, 374, 5946, 3235, 264, 6680, 27274, 311, 701, 4851, 11829, 842, 315, 279, 31747, 1430, 706, 264, 2678, 47856, 12673, 311, 433, 13, 1115, 374, 70954, 4871, 279, 74035, 32530, 311, 14841, 433, 22622, 13, 578, 47856, 374, 1243, 711, 22851, 323, 7108, 3235, 449, 279, 31747, 1430, 29845, 10537, 374, 8965, 2753, 7524, 1109, 25935, 279, 5568, 3545, 32530, 11, 719, 13654, 28335, 311, 387, 39392, 323, 433, 1253, 387, 264, 2731, 3072, 422, 701, 32530, 374, 539, 2288, 15376, 477, 499, 2351, 520, 459, 7319, 5326, 315, 15173, 36505, 320, 2000, 3187, 11, 422, 499, 2351, 20895, 477, 91223, 570, 15073, 14711, 22559, 512, 791, 1925, 5435, 430, 7958, 279, 5568, 3545, 32530, 527, 5568, 3545, 32530, 29520, 7629, 11, 5568, 3545, 1239, 5673, 7709, 11, 323, 5568, 3545, 357, 268, 10934, 13, 128009]\n"
          ]
        }
      ],
      "source": [
        "print(tokenized_dataset[0]['input_ids'])#[-10:]"
      ]
    },
    {
      "cell_type": "code",
      "execution_count": 48,
      "metadata": {
        "colab": {
          "base_uri": "https://localhost:8080/"
        },
        "id": "1VVG7pmIzOcC",
        "outputId": "22bd0fd7-30f8-45bb-8332-f4cdd62389a2"
      },
      "outputs": [
        {
          "output_type": "stream",
          "name": "stdout",
          "text": [
            "[0, 0, 0, 0, 0, 0, 0, 0, 0, 0, 0, 0, 0, 0, 0, 0, 0, 0, 0, 0, 0, 0, 0, 0, 0, 0, 0, 0, 0, 0, 0, 0, 0, 0, 0, 0, 0, 0, 0, 0, 0, 0, 0, 0, 0, 0, 0, 0, 0, 0, 0, 0, 0, 0, 0, 0, 0, 0, 0, 0, 0, 0, 0, 0, 0, 0, 0, 0, 0, 0, 0, 0, 0, 0, 0, 0, 0, 0, 0, 0, 0, 0, 0, 0, 0, 0, 0, 0, 0, 0, 0, 0, 0, 0, 0, 0, 0, 0, 0, 0, 0, 0, 0, 0, 0, 0, 0, 0, 0, 0, 0, 0, 0, 0, 0, 0, 0, 0, 0, 0, 0, 0, 0, 0, 0, 0, 0, 0, 0, 0, 0, 0, 0, 0, 0, 0, 0, 0, 0, 0, 0, 0, 0, 0, 0, 0, 0, 0, 0, 0, 0, 0, 0, 0, 0, 0, 0, 0, 0, 0, 0, 0, 0, 0, 0, 0, 0, 0, 0, 0, 0, 0, 0, 0, 0, 0, 0, 0, 0, 0, 0, 0, 0, 0, 0, 0, 0, 0, 0, 0, 0, 0, 0, 0, 0, 0, 0, 0, 0, 0, 0, 0, 0, 0, 0, 0, 0, 0, 0, 0, 0, 0, 0, 0, 0, 0, 0, 0, 0, 0, 0, 0, 0, 0, 0, 0, 0, 0, 0, 0, 0, 0, 0, 0, 0, 0, 0, 0, 0, 0, 0, 0, 0, 0, 0, 0, 0, 0, 0, 0, 0, 0, 0, 0, 0, 0, 0, 0, 0, 0, 0, 0, 0, 0, 0, 0, 0, 0, 0, 0, 0, 0, 0, 0, 0, 0, 0, 0, 0, 0, 0, 0, 0, 0, 0, 0, 0, 0, 0, 0, 0, 0, 0, 0, 0, 0, 0, 0, 0, 0, 0, 0, 1, 1, 1, 1, 1, 1, 1, 1, 1, 1, 1, 1, 1, 1, 1, 1, 1, 1, 1, 1, 1, 1, 1, 1, 1, 1, 1, 1, 1, 1, 1, 1, 1, 1, 1, 1, 1, 1, 1, 1, 1, 1, 1, 1, 1, 1, 1, 1, 1, 1, 1, 1, 1, 1, 1, 1, 1, 1, 1, 1, 1, 1, 1, 1, 1, 1, 1, 1, 1, 1, 1, 1, 1, 1, 1, 1, 1, 1, 1, 1, 1, 1, 1, 1, 1, 1, 1, 1, 1, 1, 1, 1, 1, 1, 1, 1, 1, 1, 1, 1, 1, 1, 1, 1, 1, 1, 1, 1, 1, 1, 1, 1, 1, 1, 1, 1, 1, 1, 1, 1, 1, 1, 1, 1, 1, 1, 1, 1, 1, 1, 1, 1, 1, 1, 1, 1, 1, 1, 1, 1, 1, 1, 1, 1, 1, 1, 1, 1, 1, 1, 1, 1, 1, 1, 1, 1, 1, 1, 1, 1, 1, 1, 1, 1, 1, 1, 1, 1, 1, 1, 1, 1, 1, 1, 1, 1, 1, 1, 1, 1, 1, 1, 1, 1, 1, 1, 1, 1, 1, 1, 1, 1, 1, 1, 1, 1, 1, 1, 1, 1, 1, 1, 1, 1, 1, 1, 1, 1, 1, 1, 1, 1, 1, 1, 1, 1, 1, 1, 1, 1, 1, 1, 1, 1, 1, 1, 1, 1, 1, 1, 1, 1, 1, 1, 1, 1, 1, 1, 1, 1, 1, 1, 1, 1, 1, 1, 1, 1, 1, 1, 1, 1, 1, 1, 1, 1, 1, 1, 1, 1, 1, 1, 1, 1, 1, 1, 1, 1, 1, 1, 1, 1, 1, 1, 1, 1, 1, 1, 1, 1, 1, 1, 1, 1, 1, 1, 1, 1, 1, 1, 1, 1, 1, 1, 1, 1, 1, 1, 1, 1, 1, 1, 1, 1, 1, 1, 1, 1, 1, 1, 1, 1, 1, 1, 1, 1, 1, 1, 1, 1, 1, 1, 1, 1, 1, 1, 1, 1, 1, 1, 1, 1, 1, 1, 1, 1, 1, 1, 1, 1, 1, 1, 1, 1, 1, 1, 1, 1, 1, 1, 1, 1, 1, 1, 1, 1, 1, 1, 1, 1, 1, 1, 1, 1, 1, 1, 1, 1, 1, 1, 1, 1, 1, 1, 1, 1, 1, 1, 1, 1, 1, 1, 1, 1, 1, 1, 1, 1, 1, 1, 1, 1, 1, 1, 1, 1, 1, 1, 1, 1, 1, 1, 1, 1, 1, 1, 1, 1, 1, 1, 1, 1, 1, 1, 1, 1, 1, 1, 1, 1, 1, 1, 1, 1, 1, 1, 1, 1, 1, 1, 1, 1, 1, 1, 1, 1, 1, 1, 1, 1, 1, 1, 1, 1, 1, 1, 1, 1, 1, 1, 1, 1, 1, 1, 1, 1, 1, 1, 1, 1, 1, 1, 1, 1, 1, 1, 1, 1, 1, 1, 1, 1, 1, 1, 1, 1, 1, 1, 1, 1, 1, 1, 1, 1, 1, 1, 1, 1, 1, 1, 1, 1, 1, 1, 1, 1, 1, 1, 1, 1, 1, 1, 1, 1, 1, 1, 1, 1, 1, 1, 1, 1, 1, 1, 1, 1, 1, 1, 1, 1, 1, 1, 1, 1, 1, 1, 1, 1, 1, 1, 1, 1, 1, 1, 1, 1, 1, 1, 1, 1, 1, 1, 1, 1, 1, 1, 1, 1, 1, 1, 1, 1, 1, 1, 1, 1, 1, 1, 1, 1, 1, 1, 1, 1, 1, 1, 1, 1, 1, 1, 1, 1, 1, 1, 1, 1, 1, 1, 1, 1, 1, 1, 1, 1, 1, 1, 1, 1, 1, 1, 1, 1, 1, 1, 1, 1, 1, 1, 1, 1, 1, 1, 1, 1, 1, 1, 1, 1, 1, 1, 1, 1, 1, 1, 1, 1, 1, 1, 1, 1, 1, 1, 1, 1, 1, 1, 1, 1, 1, 1, 1, 1, 1, 1, 1, 1, 1, 1, 1, 1, 1, 1, 1, 1, 1, 1, 1, 1, 1, 1, 1, 1, 1, 1, 1, 1, 1, 1, 1, 1, 1, 1, 1, 1, 1, 1, 1, 1, 1, 1, 1, 1, 1, 1, 1, 1, 1, 1, 1, 1, 1, 1, 1, 1, 1, 1, 1, 1, 1, 1, 1, 1, 1, 1, 1, 1, 1, 1, 1, 1, 1, 1, 1, 1, 1, 1, 1, 1, 1, 1, 1, 1, 1, 1, 1, 1, 1, 1, 1, 1, 1, 1, 1, 1, 1, 1, 1, 1, 1, 1, 1, 1, 1, 1, 1, 1, 1, 1, 1, 1, 1, 1, 1, 1, 1, 1, 1, 1, 1, 1, 1, 1, 1, 1, 1, 1, 1, 1, 1, 1, 1, 1, 1, 1, 1, 1, 1, 1, 1, 1, 1, 1, 1, 1, 1, 1, 1, 1, 1, 1, 1, 1, 1, 1, 1, 1, 1, 1, 1, 1, 1, 1, 1, 1, 1, 1, 1, 1, 1, 1, 1, 1, 1, 1, 1, 1, 1, 1, 1, 1, 1, 1, 1, 1, 1, 1, 1, 1, 1, 1, 1, 1, 1, 1, 1, 1, 1, 1, 1, 1, 1, 1, 1, 1, 1, 1, 1, 1, 1, 1, 1, 1, 1, 1, 1, 1, 1, 1, 1, 1, 1, 1, 1, 1, 1, 1, 1, 1, 1, 1, 1, 1, 1, 1, 1, 1, 1, 1, 1, 1, 1, 1, 1, 1, 1, 1, 1, 1, 1, 1, 1, 1, 1, 1, 1, 1, 1, 1, 1, 1, 1, 1, 1, 1, 1, 1, 1, 1, 1, 1, 1, 1, 1, 1, 1, 1, 1, 1, 1, 1, 1, 1, 1, 1, 1, 1, 1, 1, 1, 1, 1, 1, 1, 1, 1, 1, 1, 1, 1, 1, 1, 1, 1, 1, 1, 1, 1, 1, 1, 1, 1, 1, 1, 1, 1, 1, 1, 1, 1, 1, 1, 1, 1, 1, 1, 1, 1, 1, 1, 1, 1, 1, 1, 1, 1, 1, 1, 1, 1, 1, 1, 1, 1, 1, 1, 1, 1, 1, 1, 1, 1, 1, 1, 1, 1, 1, 1, 1, 1, 1, 1, 1, 1, 1, 1, 1, 1, 1, 1, 1, 1, 1, 1, 1, 1, 1, 1, 1, 1, 1, 1, 1, 1, 1, 1, 1, 1, 1, 1, 1, 1, 1, 1, 1, 1, 1, 1, 1, 1, 1, 1, 1, 1, 1, 1, 1, 1, 1, 1, 1, 1, 1, 1, 1, 1, 1, 1, 1, 1, 1, 1, 1, 1, 1, 1, 1, 1, 1, 1, 1, 1, 1, 1, 1, 1, 1, 1, 1, 1, 1, 1, 1, 1, 1, 1, 1, 1, 1, 1, 1, 1, 1, 1, 1, 1, 1, 1, 1, 1, 1, 1, 1, 1, 1, 1, 1, 1, 1, 1, 1, 1, 1, 1, 1, 1, 1, 1, 1, 1, 1, 1, 1, 1, 1, 1, 1, 1, 1, 1, 1, 1, 1, 1, 1, 1, 1, 1, 1, 1, 1, 1, 1, 1, 1, 1, 1, 1, 1, 1, 1, 1, 1, 1, 1, 1, 1, 1, 1, 1, 1, 1, 1, 1, 1, 1, 1, 1, 1, 1, 1, 1, 1, 1, 1, 1, 1, 1, 1, 1, 1, 1, 1, 1, 1, 1, 1, 1, 1, 1, 1, 1, 1, 1, 1, 1, 1, 1, 1, 1, 1, 1, 1, 1, 1, 1, 1, 1, 1, 1, 1, 1, 1, 1, 1, 1, 1, 1, 1, 1, 1, 1, 1, 1, 1, 1, 1, 1, 1, 1, 1, 1, 1, 1, 1, 1, 1, 1, 1, 1, 1, 1, 1, 1, 1, 1, 1, 1, 1, 1, 1, 1, 1, 1, 1, 1, 1, 1, 1, 1, 1, 1, 1, 1, 1, 1, 1, 1, 1, 1, 1, 1, 1, 1, 1, 1, 1, 1, 1, 1, 1, 1, 1, 1, 1, 1, 1, 1, 1, 1, 1, 1, 1, 1, 1, 1, 1, 1, 1, 1, 1, 1, 1, 1, 1, 1, 1, 1, 1, 1, 1, 1, 1, 1, 1, 1, 1, 1, 1, 1, 1, 1, 1, 1, 1, 1, 1, 1, 1, 1, 1, 1, 1, 1, 1, 1, 1, 1, 1, 1, 1, 1, 1, 1, 1, 1, 1, 1, 1, 1, 1, 1, 1, 1, 1, 1, 1, 1, 1, 1, 1, 1, 1, 1, 1, 1, 1, 1, 1, 1, 1, 1, 1, 1, 1, 1, 1, 1, 1, 1, 1, 1, 1, 1, 1, 1, 1, 1, 1, 1, 1, 1, 1, 1, 1, 1, 1, 1, 1, 1, 1, 1, 1, 1, 1, 1, 1, 1, 1, 1, 1, 1, 1, 1, 1, 1, 1, 1, 1, 1, 1, 1, 1, 1, 1, 1, 1, 1, 1, 1, 1, 1, 1, 1, 1, 1, 1, 1, 1, 1, 1, 1, 1, 1, 1, 1, 1, 1, 1, 1, 1, 1, 1, 1, 1, 1, 1, 1, 1, 1, 1, 1, 1, 1, 1, 1, 1, 1, 1, 1, 1, 1, 1, 1, 1, 1, 1, 1, 1, 1, 1, 1, 1, 1, 1, 1, 1, 1, 1, 1, 1, 1, 1, 1, 1, 1, 1, 1, 1, 1, 1, 1, 1, 1, 1, 1, 1, 1, 1, 1, 1, 1, 1, 1, 1, 1, 1, 1, 1, 1, 1, 1, 1, 1, 1, 1, 1, 1, 1, 1, 1, 1, 1, 1, 1, 1, 1, 1, 1, 1, 1, 1, 1, 1, 1, 1, 1, 1, 1, 1, 1, 1, 1, 1, 1, 1, 1, 1, 1, 1, 1, 1, 1, 1, 1, 1, 1, 1, 1, 1, 1, 1, 1, 1, 1, 1, 1, 1, 1, 1, 1, 1, 1, 1, 1, 1, 1, 1, 1, 1, 1, 1, 1, 1, 1, 1, 1, 1, 1, 1, 1, 1, 1, 1, 1, 1, 1, 1, 1, 1, 1, 1, 1, 1, 1, 1, 1, 1, 1, 1, 1, 1, 1, 1, 1, 1, 1, 1, 1, 1, 1, 1, 1, 1, 1, 1, 1, 1, 1, 1, 1, 1, 1, 1, 1, 1, 1, 1, 1, 1, 1, 1, 1, 1, 1, 1, 1, 1, 1, 1, 1, 1, 1, 1, 1, 1, 1, 1, 1, 1, 1, 1, 1, 1, 1, 1, 1, 1, 1, 1, 1, 1, 1, 1, 1, 1, 1, 1, 1, 1, 1, 1, 1, 1, 1, 1, 1, 1, 1, 1, 1, 1, 1, 1, 1, 1, 1, 1, 1, 1, 1, 1, 1, 1, 1, 1, 1, 1, 1, 1, 1, 1, 1, 1, 1, 1, 1, 1, 1, 1, 1, 1, 1, 1, 1, 1, 1, 1, 1, 1, 1, 1, 1, 1, 1, 1, 1, 1, 1, 1, 1, 1, 1, 1, 1, 1, 1]\n"
          ]
        }
      ],
      "source": [
        "print(tokenized_dataset[0]['attention_mask'])#[-10:]"
      ]
    },
    {
      "cell_type": "markdown",
      "metadata": {
        "id": "wbxppGuoz8iN"
      },
      "source": [
        "## Prompt Test"
      ]
    },
    {
      "cell_type": "code",
      "execution_count": 49,
      "metadata": {
        "id": "Xl308fTyz_Qb"
      },
      "outputs": [],
      "source": [
        "model = AutoModelForCausalLM.from_pretrained(\n",
        "  model_name,\n",
        "  torch_dtype = torch.float16,\n",
        "  trust_remote_code = True\n",
        ").to(device) #'''"
      ]
    },
    {
      "cell_type": "code",
      "execution_count": 50,
      "metadata": {
        "id": "pc005zHS0XjA"
      },
      "outputs": [],
      "source": [
        "def assistant(prompt):\n",
        "  inputs = tokenizer(\n",
        "  [\n",
        "    prompt_format.format(\n",
        "      prompt,\n",
        "      \"\",\n",
        "      \"\",\n",
        "    )\n",
        "  ], return_tensors = 'pt').to(device)\n",
        "  generation_config = GenerationConfig(\n",
        "    do_sample = True,\n",
        "    top_k = 1,\n",
        "    temperature = 0.1,\n",
        "    max_new_tokens = 1024,\n",
        "    pad_token_id = tokenizer.eos_token_id\n",
        "  )\n",
        "  outputs = model.generate(\n",
        "    **inputs,\n",
        "    generation_config = generation_config\n",
        "  )\n",
        "  return print(tokenizer.decode(outputs[0], skip_special_tokens = True))"
      ]
    },
    {
      "cell_type": "code",
      "execution_count": 52,
      "metadata": {
        "colab": {
          "base_uri": "https://localhost:8080/"
        },
        "id": "13o5JpmO0mry",
        "outputId": "c5ee2a22-b4fe-4ce9-b348-b52dd8241534"
      },
      "outputs": [
        {
          "output_type": "stream",
          "name": "stdout",
          "text": [
            "\n",
            "Below is an medical questions that explain personal condition of the questioner, paired with the context that explains detailed about medical conditions. Write a answer that appropriately giving medical main problems.\n",
            "\n",
            "### Question:\n",
            "What are the main problems that affect the mitral valve?\n",
            "\n",
            "### Context:\n",
            "\n",
            "\n",
            "### Answer:\n",
            "The main problems that affect the mitral valve are:\n",
            "\n",
            "1. **Mitral Valve Prolapse (MVP)**: This is the most common condition affecting the mitral valve. It occurs when the mitral valve leaflets bulge back into the left atrium during systole, causing the valve to prolapse. This can lead to symptoms such as chest pain, shortness of breath, and fatigue.\n",
            "\n",
            "2. **Mitral Valve Stenosis (MVS)**: This condition is characterized by the narrowing of the mitral valve opening, which restricts blood flow from the left atrium to the left ventricle. This can cause symptoms such as shortness of breath, fatigue, and swelling in the legs and feet.\n",
            "\n",
            "3. **Mitral Valve Regurgitation (MVR)**: This condition occurs when the mitral valve does not close properly, allowing blood to flow back from the left ventricle into the left atrium during diastole. This can cause symptoms such as chest pain, shortness of breath, and fatigue.\n",
            "\n",
            "4. **Mitral Valve Endocarditis**: This is an infection of the mitral valve, which can cause symptoms such as chest pain, fever, and fatigue.\n",
            "\n",
            "5. **Mitral Valve Aneurysm**: This is a bulge in the mitral valve, which can cause symptoms such as chest pain, shortness of breath, and fatigue.\n",
            "\n",
            "6. **Mitral Valve Insufficiency (MVI)**: This condition is characterized by the failure of the mitral valve to close properly, allowing blood to flow backward into the left atrium during diastole. This can cause symptoms such as shortness of breath, fatigue, and swelling in the legs and feet.\n",
            "\n",
            "7. **Mitral Valve Overriding**: This is a condition where the mitral valve is positioned above the left ventricle, allowing blood to flow from the left ventricle into the left atrium during diastole. This can cause symptoms such as shortness of breath, fatigue, and swelling in the legs and feet.\n",
            "\n",
            "8. **Mitral Valve Calcification**: This is a condition where the mitral valve becomes calcified, which can cause symptoms such as chest pain, shortness of breath, and fatigue.\n",
            "\n",
            "9. **Mitral Valve Fibrosis**: This is a condition where the mitral valve becomes fibrotic, which can cause symptoms such as chest pain, shortness of breath, and fatigue.\n",
            "\n",
            "10. **Mitral Valve Congenital Defect**: This is a condition where the mitral valve is present at birth and can cause symptoms such as shortness of breath, fatigue, and swelling in the legs and feet.\n",
            "\n",
            "It is essential to note that these conditions can be caused by various factors, including genetics, age, and lifestyle. Early detection and treatment can significantly improve the quality of life for individuals with mitral valve disease. Regular check-ups with a healthcare provider and a thorough medical history can help identify any potential issues early on.\n"
          ]
        }
      ],
      "source": [
        "prompt = dataset[0]['q']\n",
        "assistant(prompt)"
      ]
    },
    {
      "cell_type": "code",
      "execution_count": 51,
      "metadata": {
        "colab": {
          "base_uri": "https://localhost:8080/"
        },
        "id": "cm7Y78O91cu8",
        "outputId": "f04c18eb-534b-4e82-f073-f02102fe5138"
      },
      "outputs": [
        {
          "output_type": "stream",
          "name": "stdout",
          "text": [
            "The main problems that affect the mitral valve are mitral valve prolapse, mitral regurgitation, and mitral stenosis.\n"
          ]
        }
      ],
      "source": [
        "print(dataset[0]['a'])"
      ]
    }
  ],
  "metadata": {
    "colab": {
      "provenance": [],
      "include_colab_link": true
    },
    "kaggle": {
      "accelerator": "nvidiaTeslaT4",
      "dataSources": [],
      "dockerImageVersionId": 30787,
      "isGpuEnabled": true,
      "isInternetEnabled": true,
      "language": "python",
      "sourceType": "notebook"
    },
    "kernelspec": {
      "display_name": "Python 3",
      "name": "python3"
    },
    "language_info": {
      "codemirror_mode": {
        "name": "ipython",
        "version": 3
      },
      "file_extension": ".py",
      "mimetype": "text/x-python",
      "name": "python",
      "nbconvert_exporter": "python",
      "pygments_lexer": "ipython3",
      "version": "3.10.14"
    },
    "widgets": {
      "application/vnd.jupyter.widget-state+json": {
        "29c8b588df7b485eb3f68f64e4f89ef8": {
          "model_module": "@jupyter-widgets/controls",
          "model_name": "HBoxModel",
          "model_module_version": "1.5.0",
          "state": {
            "_dom_classes": [],
            "_model_module": "@jupyter-widgets/controls",
            "_model_module_version": "1.5.0",
            "_model_name": "HBoxModel",
            "_view_count": null,
            "_view_module": "@jupyter-widgets/controls",
            "_view_module_version": "1.5.0",
            "_view_name": "HBoxView",
            "box_style": "",
            "children": [
              "IPY_MODEL_f4ae77bcba7a40a8b33db46f4f65ad7d",
              "IPY_MODEL_9e1b2840d37e4383be23666f173ae7d9",
              "IPY_MODEL_c16475f8193a4db087b0ad93ebf6c627"
            ],
            "layout": "IPY_MODEL_9e7ed86e5821455b9189e11777eaca45"
          }
        },
        "f4ae77bcba7a40a8b33db46f4f65ad7d": {
          "model_module": "@jupyter-widgets/controls",
          "model_name": "HTMLModel",
          "model_module_version": "1.5.0",
          "state": {
            "_dom_classes": [],
            "_model_module": "@jupyter-widgets/controls",
            "_model_module_version": "1.5.0",
            "_model_name": "HTMLModel",
            "_view_count": null,
            "_view_module": "@jupyter-widgets/controls",
            "_view_module_version": "1.5.0",
            "_view_name": "HTMLView",
            "description": "",
            "description_tooltip": null,
            "layout": "IPY_MODEL_bb8a681095c64a2d87edeb7573ab2cac",
            "placeholder": "​",
            "style": "IPY_MODEL_61a8e338e614463db2fe6c33faa33444",
            "value": "README.md: 100%"
          }
        },
        "9e1b2840d37e4383be23666f173ae7d9": {
          "model_module": "@jupyter-widgets/controls",
          "model_name": "FloatProgressModel",
          "model_module_version": "1.5.0",
          "state": {
            "_dom_classes": [],
            "_model_module": "@jupyter-widgets/controls",
            "_model_module_version": "1.5.0",
            "_model_name": "FloatProgressModel",
            "_view_count": null,
            "_view_module": "@jupyter-widgets/controls",
            "_view_module_version": "1.5.0",
            "_view_name": "ProgressView",
            "bar_style": "success",
            "description": "",
            "description_tooltip": null,
            "layout": "IPY_MODEL_d9c32ea48d0c4d43a2fdab10ac6d6678",
            "max": 510,
            "min": 0,
            "orientation": "horizontal",
            "style": "IPY_MODEL_0d417a1b35d84b6e9871482ea8fc62b6",
            "value": 510
          }
        },
        "c16475f8193a4db087b0ad93ebf6c627": {
          "model_module": "@jupyter-widgets/controls",
          "model_name": "HTMLModel",
          "model_module_version": "1.5.0",
          "state": {
            "_dom_classes": [],
            "_model_module": "@jupyter-widgets/controls",
            "_model_module_version": "1.5.0",
            "_model_name": "HTMLModel",
            "_view_count": null,
            "_view_module": "@jupyter-widgets/controls",
            "_view_module_version": "1.5.0",
            "_view_name": "HTMLView",
            "description": "",
            "description_tooltip": null,
            "layout": "IPY_MODEL_c5b55259f5914a9fafbd83ded248e438",
            "placeholder": "​",
            "style": "IPY_MODEL_12dd715dd1e442f9b6b1c4cb80c8a094",
            "value": " 510/510 [00:00&lt;00:00, 1.53kB/s]"
          }
        },
        "9e7ed86e5821455b9189e11777eaca45": {
          "model_module": "@jupyter-widgets/base",
          "model_name": "LayoutModel",
          "model_module_version": "1.2.0",
          "state": {
            "_model_module": "@jupyter-widgets/base",
            "_model_module_version": "1.2.0",
            "_model_name": "LayoutModel",
            "_view_count": null,
            "_view_module": "@jupyter-widgets/base",
            "_view_module_version": "1.2.0",
            "_view_name": "LayoutView",
            "align_content": null,
            "align_items": null,
            "align_self": null,
            "border": null,
            "bottom": null,
            "display": null,
            "flex": null,
            "flex_flow": null,
            "grid_area": null,
            "grid_auto_columns": null,
            "grid_auto_flow": null,
            "grid_auto_rows": null,
            "grid_column": null,
            "grid_gap": null,
            "grid_row": null,
            "grid_template_areas": null,
            "grid_template_columns": null,
            "grid_template_rows": null,
            "height": null,
            "justify_content": null,
            "justify_items": null,
            "left": null,
            "margin": null,
            "max_height": null,
            "max_width": null,
            "min_height": null,
            "min_width": null,
            "object_fit": null,
            "object_position": null,
            "order": null,
            "overflow": null,
            "overflow_x": null,
            "overflow_y": null,
            "padding": null,
            "right": null,
            "top": null,
            "visibility": null,
            "width": null
          }
        },
        "bb8a681095c64a2d87edeb7573ab2cac": {
          "model_module": "@jupyter-widgets/base",
          "model_name": "LayoutModel",
          "model_module_version": "1.2.0",
          "state": {
            "_model_module": "@jupyter-widgets/base",
            "_model_module_version": "1.2.0",
            "_model_name": "LayoutModel",
            "_view_count": null,
            "_view_module": "@jupyter-widgets/base",
            "_view_module_version": "1.2.0",
            "_view_name": "LayoutView",
            "align_content": null,
            "align_items": null,
            "align_self": null,
            "border": null,
            "bottom": null,
            "display": null,
            "flex": null,
            "flex_flow": null,
            "grid_area": null,
            "grid_auto_columns": null,
            "grid_auto_flow": null,
            "grid_auto_rows": null,
            "grid_column": null,
            "grid_gap": null,
            "grid_row": null,
            "grid_template_areas": null,
            "grid_template_columns": null,
            "grid_template_rows": null,
            "height": null,
            "justify_content": null,
            "justify_items": null,
            "left": null,
            "margin": null,
            "max_height": null,
            "max_width": null,
            "min_height": null,
            "min_width": null,
            "object_fit": null,
            "object_position": null,
            "order": null,
            "overflow": null,
            "overflow_x": null,
            "overflow_y": null,
            "padding": null,
            "right": null,
            "top": null,
            "visibility": null,
            "width": null
          }
        },
        "61a8e338e614463db2fe6c33faa33444": {
          "model_module": "@jupyter-widgets/controls",
          "model_name": "DescriptionStyleModel",
          "model_module_version": "1.5.0",
          "state": {
            "_model_module": "@jupyter-widgets/controls",
            "_model_module_version": "1.5.0",
            "_model_name": "DescriptionStyleModel",
            "_view_count": null,
            "_view_module": "@jupyter-widgets/base",
            "_view_module_version": "1.2.0",
            "_view_name": "StyleView",
            "description_width": ""
          }
        },
        "d9c32ea48d0c4d43a2fdab10ac6d6678": {
          "model_module": "@jupyter-widgets/base",
          "model_name": "LayoutModel",
          "model_module_version": "1.2.0",
          "state": {
            "_model_module": "@jupyter-widgets/base",
            "_model_module_version": "1.2.0",
            "_model_name": "LayoutModel",
            "_view_count": null,
            "_view_module": "@jupyter-widgets/base",
            "_view_module_version": "1.2.0",
            "_view_name": "LayoutView",
            "align_content": null,
            "align_items": null,
            "align_self": null,
            "border": null,
            "bottom": null,
            "display": null,
            "flex": null,
            "flex_flow": null,
            "grid_area": null,
            "grid_auto_columns": null,
            "grid_auto_flow": null,
            "grid_auto_rows": null,
            "grid_column": null,
            "grid_gap": null,
            "grid_row": null,
            "grid_template_areas": null,
            "grid_template_columns": null,
            "grid_template_rows": null,
            "height": null,
            "justify_content": null,
            "justify_items": null,
            "left": null,
            "margin": null,
            "max_height": null,
            "max_width": null,
            "min_height": null,
            "min_width": null,
            "object_fit": null,
            "object_position": null,
            "order": null,
            "overflow": null,
            "overflow_x": null,
            "overflow_y": null,
            "padding": null,
            "right": null,
            "top": null,
            "visibility": null,
            "width": null
          }
        },
        "0d417a1b35d84b6e9871482ea8fc62b6": {
          "model_module": "@jupyter-widgets/controls",
          "model_name": "ProgressStyleModel",
          "model_module_version": "1.5.0",
          "state": {
            "_model_module": "@jupyter-widgets/controls",
            "_model_module_version": "1.5.0",
            "_model_name": "ProgressStyleModel",
            "_view_count": null,
            "_view_module": "@jupyter-widgets/base",
            "_view_module_version": "1.2.0",
            "_view_name": "StyleView",
            "bar_color": null,
            "description_width": ""
          }
        },
        "c5b55259f5914a9fafbd83ded248e438": {
          "model_module": "@jupyter-widgets/base",
          "model_name": "LayoutModel",
          "model_module_version": "1.2.0",
          "state": {
            "_model_module": "@jupyter-widgets/base",
            "_model_module_version": "1.2.0",
            "_model_name": "LayoutModel",
            "_view_count": null,
            "_view_module": "@jupyter-widgets/base",
            "_view_module_version": "1.2.0",
            "_view_name": "LayoutView",
            "align_content": null,
            "align_items": null,
            "align_self": null,
            "border": null,
            "bottom": null,
            "display": null,
            "flex": null,
            "flex_flow": null,
            "grid_area": null,
            "grid_auto_columns": null,
            "grid_auto_flow": null,
            "grid_auto_rows": null,
            "grid_column": null,
            "grid_gap": null,
            "grid_row": null,
            "grid_template_areas": null,
            "grid_template_columns": null,
            "grid_template_rows": null,
            "height": null,
            "justify_content": null,
            "justify_items": null,
            "left": null,
            "margin": null,
            "max_height": null,
            "max_width": null,
            "min_height": null,
            "min_width": null,
            "object_fit": null,
            "object_position": null,
            "order": null,
            "overflow": null,
            "overflow_x": null,
            "overflow_y": null,
            "padding": null,
            "right": null,
            "top": null,
            "visibility": null,
            "width": null
          }
        },
        "12dd715dd1e442f9b6b1c4cb80c8a094": {
          "model_module": "@jupyter-widgets/controls",
          "model_name": "DescriptionStyleModel",
          "model_module_version": "1.5.0",
          "state": {
            "_model_module": "@jupyter-widgets/controls",
            "_model_module_version": "1.5.0",
            "_model_name": "DescriptionStyleModel",
            "_view_count": null,
            "_view_module": "@jupyter-widgets/base",
            "_view_module_version": "1.2.0",
            "_view_name": "StyleView",
            "description_width": ""
          }
        },
        "09b67254dcd44cf5bb3495cd435d6150": {
          "model_module": "@jupyter-widgets/controls",
          "model_name": "HBoxModel",
          "model_module_version": "1.5.0",
          "state": {
            "_dom_classes": [],
            "_model_module": "@jupyter-widgets/controls",
            "_model_module_version": "1.5.0",
            "_model_name": "HBoxModel",
            "_view_count": null,
            "_view_module": "@jupyter-widgets/controls",
            "_view_module_version": "1.5.0",
            "_view_name": "HBoxView",
            "box_style": "",
            "children": [
              "IPY_MODEL_3d9f0020280d43d09cb1c98811d7d165",
              "IPY_MODEL_9f35647dc2e24362b2eaf817ce483575",
              "IPY_MODEL_efc03f83886c4939ae0c92305f4f0923"
            ],
            "layout": "IPY_MODEL_d4d694fa3c8640d9a33185c815b2fc46"
          }
        },
        "3d9f0020280d43d09cb1c98811d7d165": {
          "model_module": "@jupyter-widgets/controls",
          "model_name": "HTMLModel",
          "model_module_version": "1.5.0",
          "state": {
            "_dom_classes": [],
            "_model_module": "@jupyter-widgets/controls",
            "_model_module_version": "1.5.0",
            "_model_name": "HTMLModel",
            "_view_count": null,
            "_view_module": "@jupyter-widgets/controls",
            "_view_module_version": "1.5.0",
            "_view_name": "HTMLView",
            "description": "",
            "description_tooltip": null,
            "layout": "IPY_MODEL_283dd0557cee44959e55daa7087565bd",
            "placeholder": "​",
            "style": "IPY_MODEL_7ce1242e82774c418ebc36e1832bca90",
            "value": "train-00000-of-00001.parquet: 100%"
          }
        },
        "9f35647dc2e24362b2eaf817ce483575": {
          "model_module": "@jupyter-widgets/controls",
          "model_name": "FloatProgressModel",
          "model_module_version": "1.5.0",
          "state": {
            "_dom_classes": [],
            "_model_module": "@jupyter-widgets/controls",
            "_model_module_version": "1.5.0",
            "_model_name": "FloatProgressModel",
            "_view_count": null,
            "_view_module": "@jupyter-widgets/controls",
            "_view_module_version": "1.5.0",
            "_view_name": "ProgressView",
            "bar_style": "success",
            "description": "",
            "description_tooltip": null,
            "layout": "IPY_MODEL_9f6cdbe2fb0b49fb8e6cea27a4feb6db",
            "max": 19781209,
            "min": 0,
            "orientation": "horizontal",
            "style": "IPY_MODEL_4c46abb4aadb4e308afc012c6bf3468f",
            "value": 19781209
          }
        },
        "efc03f83886c4939ae0c92305f4f0923": {
          "model_module": "@jupyter-widgets/controls",
          "model_name": "HTMLModel",
          "model_module_version": "1.5.0",
          "state": {
            "_dom_classes": [],
            "_model_module": "@jupyter-widgets/controls",
            "_model_module_version": "1.5.0",
            "_model_name": "HTMLModel",
            "_view_count": null,
            "_view_module": "@jupyter-widgets/controls",
            "_view_module_version": "1.5.0",
            "_view_name": "HTMLView",
            "description": "",
            "description_tooltip": null,
            "layout": "IPY_MODEL_03533937ea8045b2909c81d6bc80e637",
            "placeholder": "​",
            "style": "IPY_MODEL_0d72266e87d143969f0a1f15bda836e5",
            "value": " 19.8M/19.8M [00:01&lt;00:00, 16.6MB/s]"
          }
        },
        "d4d694fa3c8640d9a33185c815b2fc46": {
          "model_module": "@jupyter-widgets/base",
          "model_name": "LayoutModel",
          "model_module_version": "1.2.0",
          "state": {
            "_model_module": "@jupyter-widgets/base",
            "_model_module_version": "1.2.0",
            "_model_name": "LayoutModel",
            "_view_count": null,
            "_view_module": "@jupyter-widgets/base",
            "_view_module_version": "1.2.0",
            "_view_name": "LayoutView",
            "align_content": null,
            "align_items": null,
            "align_self": null,
            "border": null,
            "bottom": null,
            "display": null,
            "flex": null,
            "flex_flow": null,
            "grid_area": null,
            "grid_auto_columns": null,
            "grid_auto_flow": null,
            "grid_auto_rows": null,
            "grid_column": null,
            "grid_gap": null,
            "grid_row": null,
            "grid_template_areas": null,
            "grid_template_columns": null,
            "grid_template_rows": null,
            "height": null,
            "justify_content": null,
            "justify_items": null,
            "left": null,
            "margin": null,
            "max_height": null,
            "max_width": null,
            "min_height": null,
            "min_width": null,
            "object_fit": null,
            "object_position": null,
            "order": null,
            "overflow": null,
            "overflow_x": null,
            "overflow_y": null,
            "padding": null,
            "right": null,
            "top": null,
            "visibility": null,
            "width": null
          }
        },
        "283dd0557cee44959e55daa7087565bd": {
          "model_module": "@jupyter-widgets/base",
          "model_name": "LayoutModel",
          "model_module_version": "1.2.0",
          "state": {
            "_model_module": "@jupyter-widgets/base",
            "_model_module_version": "1.2.0",
            "_model_name": "LayoutModel",
            "_view_count": null,
            "_view_module": "@jupyter-widgets/base",
            "_view_module_version": "1.2.0",
            "_view_name": "LayoutView",
            "align_content": null,
            "align_items": null,
            "align_self": null,
            "border": null,
            "bottom": null,
            "display": null,
            "flex": null,
            "flex_flow": null,
            "grid_area": null,
            "grid_auto_columns": null,
            "grid_auto_flow": null,
            "grid_auto_rows": null,
            "grid_column": null,
            "grid_gap": null,
            "grid_row": null,
            "grid_template_areas": null,
            "grid_template_columns": null,
            "grid_template_rows": null,
            "height": null,
            "justify_content": null,
            "justify_items": null,
            "left": null,
            "margin": null,
            "max_height": null,
            "max_width": null,
            "min_height": null,
            "min_width": null,
            "object_fit": null,
            "object_position": null,
            "order": null,
            "overflow": null,
            "overflow_x": null,
            "overflow_y": null,
            "padding": null,
            "right": null,
            "top": null,
            "visibility": null,
            "width": null
          }
        },
        "7ce1242e82774c418ebc36e1832bca90": {
          "model_module": "@jupyter-widgets/controls",
          "model_name": "DescriptionStyleModel",
          "model_module_version": "1.5.0",
          "state": {
            "_model_module": "@jupyter-widgets/controls",
            "_model_module_version": "1.5.0",
            "_model_name": "DescriptionStyleModel",
            "_view_count": null,
            "_view_module": "@jupyter-widgets/base",
            "_view_module_version": "1.2.0",
            "_view_name": "StyleView",
            "description_width": ""
          }
        },
        "9f6cdbe2fb0b49fb8e6cea27a4feb6db": {
          "model_module": "@jupyter-widgets/base",
          "model_name": "LayoutModel",
          "model_module_version": "1.2.0",
          "state": {
            "_model_module": "@jupyter-widgets/base",
            "_model_module_version": "1.2.0",
            "_model_name": "LayoutModel",
            "_view_count": null,
            "_view_module": "@jupyter-widgets/base",
            "_view_module_version": "1.2.0",
            "_view_name": "LayoutView",
            "align_content": null,
            "align_items": null,
            "align_self": null,
            "border": null,
            "bottom": null,
            "display": null,
            "flex": null,
            "flex_flow": null,
            "grid_area": null,
            "grid_auto_columns": null,
            "grid_auto_flow": null,
            "grid_auto_rows": null,
            "grid_column": null,
            "grid_gap": null,
            "grid_row": null,
            "grid_template_areas": null,
            "grid_template_columns": null,
            "grid_template_rows": null,
            "height": null,
            "justify_content": null,
            "justify_items": null,
            "left": null,
            "margin": null,
            "max_height": null,
            "max_width": null,
            "min_height": null,
            "min_width": null,
            "object_fit": null,
            "object_position": null,
            "order": null,
            "overflow": null,
            "overflow_x": null,
            "overflow_y": null,
            "padding": null,
            "right": null,
            "top": null,
            "visibility": null,
            "width": null
          }
        },
        "4c46abb4aadb4e308afc012c6bf3468f": {
          "model_module": "@jupyter-widgets/controls",
          "model_name": "ProgressStyleModel",
          "model_module_version": "1.5.0",
          "state": {
            "_model_module": "@jupyter-widgets/controls",
            "_model_module_version": "1.5.0",
            "_model_name": "ProgressStyleModel",
            "_view_count": null,
            "_view_module": "@jupyter-widgets/base",
            "_view_module_version": "1.2.0",
            "_view_name": "StyleView",
            "bar_color": null,
            "description_width": ""
          }
        },
        "03533937ea8045b2909c81d6bc80e637": {
          "model_module": "@jupyter-widgets/base",
          "model_name": "LayoutModel",
          "model_module_version": "1.2.0",
          "state": {
            "_model_module": "@jupyter-widgets/base",
            "_model_module_version": "1.2.0",
            "_model_name": "LayoutModel",
            "_view_count": null,
            "_view_module": "@jupyter-widgets/base",
            "_view_module_version": "1.2.0",
            "_view_name": "LayoutView",
            "align_content": null,
            "align_items": null,
            "align_self": null,
            "border": null,
            "bottom": null,
            "display": null,
            "flex": null,
            "flex_flow": null,
            "grid_area": null,
            "grid_auto_columns": null,
            "grid_auto_flow": null,
            "grid_auto_rows": null,
            "grid_column": null,
            "grid_gap": null,
            "grid_row": null,
            "grid_template_areas": null,
            "grid_template_columns": null,
            "grid_template_rows": null,
            "height": null,
            "justify_content": null,
            "justify_items": null,
            "left": null,
            "margin": null,
            "max_height": null,
            "max_width": null,
            "min_height": null,
            "min_width": null,
            "object_fit": null,
            "object_position": null,
            "order": null,
            "overflow": null,
            "overflow_x": null,
            "overflow_y": null,
            "padding": null,
            "right": null,
            "top": null,
            "visibility": null,
            "width": null
          }
        },
        "0d72266e87d143969f0a1f15bda836e5": {
          "model_module": "@jupyter-widgets/controls",
          "model_name": "DescriptionStyleModel",
          "model_module_version": "1.5.0",
          "state": {
            "_model_module": "@jupyter-widgets/controls",
            "_model_module_version": "1.5.0",
            "_model_name": "DescriptionStyleModel",
            "_view_count": null,
            "_view_module": "@jupyter-widgets/base",
            "_view_module_version": "1.2.0",
            "_view_name": "StyleView",
            "description_width": ""
          }
        },
        "6ba585da8f3b46ccbd44deaaa679ec2d": {
          "model_module": "@jupyter-widgets/controls",
          "model_name": "HBoxModel",
          "model_module_version": "1.5.0",
          "state": {
            "_dom_classes": [],
            "_model_module": "@jupyter-widgets/controls",
            "_model_module_version": "1.5.0",
            "_model_name": "HBoxModel",
            "_view_count": null,
            "_view_module": "@jupyter-widgets/controls",
            "_view_module_version": "1.5.0",
            "_view_name": "HBoxView",
            "box_style": "",
            "children": [
              "IPY_MODEL_ab00056697db4cce9dda99ca94793a95",
              "IPY_MODEL_d17d50f9b53446069db5595f46fceada",
              "IPY_MODEL_69005f276a3b4dc3b547f96a0452b61b"
            ],
            "layout": "IPY_MODEL_0241be10469b4a58aeadbd98619351eb"
          }
        },
        "ab00056697db4cce9dda99ca94793a95": {
          "model_module": "@jupyter-widgets/controls",
          "model_name": "HTMLModel",
          "model_module_version": "1.5.0",
          "state": {
            "_dom_classes": [],
            "_model_module": "@jupyter-widgets/controls",
            "_model_module_version": "1.5.0",
            "_model_name": "HTMLModel",
            "_view_count": null,
            "_view_module": "@jupyter-widgets/controls",
            "_view_module_version": "1.5.0",
            "_view_name": "HTMLView",
            "description": "",
            "description_tooltip": null,
            "layout": "IPY_MODEL_ca48c621c637483eb71d835bc454d4ba",
            "placeholder": "​",
            "style": "IPY_MODEL_75bfd73a3a414ea0bd3972e5a128a592",
            "value": "Generating train split: 100%"
          }
        },
        "d17d50f9b53446069db5595f46fceada": {
          "model_module": "@jupyter-widgets/controls",
          "model_name": "FloatProgressModel",
          "model_module_version": "1.5.0",
          "state": {
            "_dom_classes": [],
            "_model_module": "@jupyter-widgets/controls",
            "_model_module_version": "1.5.0",
            "_model_name": "FloatProgressModel",
            "_view_count": null,
            "_view_module": "@jupyter-widgets/controls",
            "_view_module_version": "1.5.0",
            "_view_name": "ProgressView",
            "bar_style": "success",
            "description": "",
            "description_tooltip": null,
            "layout": "IPY_MODEL_ef68850d626a44288d89cf263d42aaa8",
            "max": 21281,
            "min": 0,
            "orientation": "horizontal",
            "style": "IPY_MODEL_4533ce060fa146f489c1bfa57cb27499",
            "value": 21281
          }
        },
        "69005f276a3b4dc3b547f96a0452b61b": {
          "model_module": "@jupyter-widgets/controls",
          "model_name": "HTMLModel",
          "model_module_version": "1.5.0",
          "state": {
            "_dom_classes": [],
            "_model_module": "@jupyter-widgets/controls",
            "_model_module_version": "1.5.0",
            "_model_name": "HTMLModel",
            "_view_count": null,
            "_view_module": "@jupyter-widgets/controls",
            "_view_module_version": "1.5.0",
            "_view_name": "HTMLView",
            "description": "",
            "description_tooltip": null,
            "layout": "IPY_MODEL_f2cb21d609484da1b279784d93104553",
            "placeholder": "​",
            "style": "IPY_MODEL_cda7957cbee5402e80e07395f43309bc",
            "value": " 21281/21281 [00:03&lt;00:00, 7987.32 examples/s]"
          }
        },
        "0241be10469b4a58aeadbd98619351eb": {
          "model_module": "@jupyter-widgets/base",
          "model_name": "LayoutModel",
          "model_module_version": "1.2.0",
          "state": {
            "_model_module": "@jupyter-widgets/base",
            "_model_module_version": "1.2.0",
            "_model_name": "LayoutModel",
            "_view_count": null,
            "_view_module": "@jupyter-widgets/base",
            "_view_module_version": "1.2.0",
            "_view_name": "LayoutView",
            "align_content": null,
            "align_items": null,
            "align_self": null,
            "border": null,
            "bottom": null,
            "display": null,
            "flex": null,
            "flex_flow": null,
            "grid_area": null,
            "grid_auto_columns": null,
            "grid_auto_flow": null,
            "grid_auto_rows": null,
            "grid_column": null,
            "grid_gap": null,
            "grid_row": null,
            "grid_template_areas": null,
            "grid_template_columns": null,
            "grid_template_rows": null,
            "height": null,
            "justify_content": null,
            "justify_items": null,
            "left": null,
            "margin": null,
            "max_height": null,
            "max_width": null,
            "min_height": null,
            "min_width": null,
            "object_fit": null,
            "object_position": null,
            "order": null,
            "overflow": null,
            "overflow_x": null,
            "overflow_y": null,
            "padding": null,
            "right": null,
            "top": null,
            "visibility": null,
            "width": null
          }
        },
        "ca48c621c637483eb71d835bc454d4ba": {
          "model_module": "@jupyter-widgets/base",
          "model_name": "LayoutModel",
          "model_module_version": "1.2.0",
          "state": {
            "_model_module": "@jupyter-widgets/base",
            "_model_module_version": "1.2.0",
            "_model_name": "LayoutModel",
            "_view_count": null,
            "_view_module": "@jupyter-widgets/base",
            "_view_module_version": "1.2.0",
            "_view_name": "LayoutView",
            "align_content": null,
            "align_items": null,
            "align_self": null,
            "border": null,
            "bottom": null,
            "display": null,
            "flex": null,
            "flex_flow": null,
            "grid_area": null,
            "grid_auto_columns": null,
            "grid_auto_flow": null,
            "grid_auto_rows": null,
            "grid_column": null,
            "grid_gap": null,
            "grid_row": null,
            "grid_template_areas": null,
            "grid_template_columns": null,
            "grid_template_rows": null,
            "height": null,
            "justify_content": null,
            "justify_items": null,
            "left": null,
            "margin": null,
            "max_height": null,
            "max_width": null,
            "min_height": null,
            "min_width": null,
            "object_fit": null,
            "object_position": null,
            "order": null,
            "overflow": null,
            "overflow_x": null,
            "overflow_y": null,
            "padding": null,
            "right": null,
            "top": null,
            "visibility": null,
            "width": null
          }
        },
        "75bfd73a3a414ea0bd3972e5a128a592": {
          "model_module": "@jupyter-widgets/controls",
          "model_name": "DescriptionStyleModel",
          "model_module_version": "1.5.0",
          "state": {
            "_model_module": "@jupyter-widgets/controls",
            "_model_module_version": "1.5.0",
            "_model_name": "DescriptionStyleModel",
            "_view_count": null,
            "_view_module": "@jupyter-widgets/base",
            "_view_module_version": "1.2.0",
            "_view_name": "StyleView",
            "description_width": ""
          }
        },
        "ef68850d626a44288d89cf263d42aaa8": {
          "model_module": "@jupyter-widgets/base",
          "model_name": "LayoutModel",
          "model_module_version": "1.2.0",
          "state": {
            "_model_module": "@jupyter-widgets/base",
            "_model_module_version": "1.2.0",
            "_model_name": "LayoutModel",
            "_view_count": null,
            "_view_module": "@jupyter-widgets/base",
            "_view_module_version": "1.2.0",
            "_view_name": "LayoutView",
            "align_content": null,
            "align_items": null,
            "align_self": null,
            "border": null,
            "bottom": null,
            "display": null,
            "flex": null,
            "flex_flow": null,
            "grid_area": null,
            "grid_auto_columns": null,
            "grid_auto_flow": null,
            "grid_auto_rows": null,
            "grid_column": null,
            "grid_gap": null,
            "grid_row": null,
            "grid_template_areas": null,
            "grid_template_columns": null,
            "grid_template_rows": null,
            "height": null,
            "justify_content": null,
            "justify_items": null,
            "left": null,
            "margin": null,
            "max_height": null,
            "max_width": null,
            "min_height": null,
            "min_width": null,
            "object_fit": null,
            "object_position": null,
            "order": null,
            "overflow": null,
            "overflow_x": null,
            "overflow_y": null,
            "padding": null,
            "right": null,
            "top": null,
            "visibility": null,
            "width": null
          }
        },
        "4533ce060fa146f489c1bfa57cb27499": {
          "model_module": "@jupyter-widgets/controls",
          "model_name": "ProgressStyleModel",
          "model_module_version": "1.5.0",
          "state": {
            "_model_module": "@jupyter-widgets/controls",
            "_model_module_version": "1.5.0",
            "_model_name": "ProgressStyleModel",
            "_view_count": null,
            "_view_module": "@jupyter-widgets/base",
            "_view_module_version": "1.2.0",
            "_view_name": "StyleView",
            "bar_color": null,
            "description_width": ""
          }
        },
        "f2cb21d609484da1b279784d93104553": {
          "model_module": "@jupyter-widgets/base",
          "model_name": "LayoutModel",
          "model_module_version": "1.2.0",
          "state": {
            "_model_module": "@jupyter-widgets/base",
            "_model_module_version": "1.2.0",
            "_model_name": "LayoutModel",
            "_view_count": null,
            "_view_module": "@jupyter-widgets/base",
            "_view_module_version": "1.2.0",
            "_view_name": "LayoutView",
            "align_content": null,
            "align_items": null,
            "align_self": null,
            "border": null,
            "bottom": null,
            "display": null,
            "flex": null,
            "flex_flow": null,
            "grid_area": null,
            "grid_auto_columns": null,
            "grid_auto_flow": null,
            "grid_auto_rows": null,
            "grid_column": null,
            "grid_gap": null,
            "grid_row": null,
            "grid_template_areas": null,
            "grid_template_columns": null,
            "grid_template_rows": null,
            "height": null,
            "justify_content": null,
            "justify_items": null,
            "left": null,
            "margin": null,
            "max_height": null,
            "max_width": null,
            "min_height": null,
            "min_width": null,
            "object_fit": null,
            "object_position": null,
            "order": null,
            "overflow": null,
            "overflow_x": null,
            "overflow_y": null,
            "padding": null,
            "right": null,
            "top": null,
            "visibility": null,
            "width": null
          }
        },
        "cda7957cbee5402e80e07395f43309bc": {
          "model_module": "@jupyter-widgets/controls",
          "model_name": "DescriptionStyleModel",
          "model_module_version": "1.5.0",
          "state": {
            "_model_module": "@jupyter-widgets/controls",
            "_model_module_version": "1.5.0",
            "_model_name": "DescriptionStyleModel",
            "_view_count": null,
            "_view_module": "@jupyter-widgets/base",
            "_view_module_version": "1.2.0",
            "_view_name": "StyleView",
            "description_width": ""
          }
        },
        "af6d372c07514281a3d8664ed8d95993": {
          "model_module": "@jupyter-widgets/controls",
          "model_name": "HBoxModel",
          "model_module_version": "1.5.0",
          "state": {
            "_dom_classes": [],
            "_model_module": "@jupyter-widgets/controls",
            "_model_module_version": "1.5.0",
            "_model_name": "HBoxModel",
            "_view_count": null,
            "_view_module": "@jupyter-widgets/controls",
            "_view_module_version": "1.5.0",
            "_view_name": "HBoxView",
            "box_style": "",
            "children": [
              "IPY_MODEL_6f56de4113374e9c8947a2e2d47804fd",
              "IPY_MODEL_dca13e9ef78942948856e1c1b8216447",
              "IPY_MODEL_e1b2d5f2e6f6452d99caac02f696dff1"
            ],
            "layout": "IPY_MODEL_686b9bb0a95b4387a56901bd99f7ae9d"
          }
        },
        "6f56de4113374e9c8947a2e2d47804fd": {
          "model_module": "@jupyter-widgets/controls",
          "model_name": "HTMLModel",
          "model_module_version": "1.5.0",
          "state": {
            "_dom_classes": [],
            "_model_module": "@jupyter-widgets/controls",
            "_model_module_version": "1.5.0",
            "_model_name": "HTMLModel",
            "_view_count": null,
            "_view_module": "@jupyter-widgets/controls",
            "_view_module_version": "1.5.0",
            "_view_name": "HTMLView",
            "description": "",
            "description_tooltip": null,
            "layout": "IPY_MODEL_f3172e57de034157871293f04cdacf7f",
            "placeholder": "​",
            "style": "IPY_MODEL_e2d2abbe153047a08d1b4bae6961741e",
            "value": "Map: 100%"
          }
        },
        "dca13e9ef78942948856e1c1b8216447": {
          "model_module": "@jupyter-widgets/controls",
          "model_name": "FloatProgressModel",
          "model_module_version": "1.5.0",
          "state": {
            "_dom_classes": [],
            "_model_module": "@jupyter-widgets/controls",
            "_model_module_version": "1.5.0",
            "_model_name": "FloatProgressModel",
            "_view_count": null,
            "_view_module": "@jupyter-widgets/controls",
            "_view_module_version": "1.5.0",
            "_view_name": "ProgressView",
            "bar_style": "success",
            "description": "",
            "description_tooltip": null,
            "layout": "IPY_MODEL_39b0a9c7fe064e3dbdcba06895646855",
            "max": 21281,
            "min": 0,
            "orientation": "horizontal",
            "style": "IPY_MODEL_0684fcf1023a4a018b913bc987e24741",
            "value": 21281
          }
        },
        "e1b2d5f2e6f6452d99caac02f696dff1": {
          "model_module": "@jupyter-widgets/controls",
          "model_name": "HTMLModel",
          "model_module_version": "1.5.0",
          "state": {
            "_dom_classes": [],
            "_model_module": "@jupyter-widgets/controls",
            "_model_module_version": "1.5.0",
            "_model_name": "HTMLModel",
            "_view_count": null,
            "_view_module": "@jupyter-widgets/controls",
            "_view_module_version": "1.5.0",
            "_view_name": "HTMLView",
            "description": "",
            "description_tooltip": null,
            "layout": "IPY_MODEL_69aae75c8c00440b82977f8f27449364",
            "placeholder": "​",
            "style": "IPY_MODEL_a06ec365468d44379b22ca41d9e47cd9",
            "value": " 21281/21281 [00:04&lt;00:00, 4142.84 examples/s]"
          }
        },
        "686b9bb0a95b4387a56901bd99f7ae9d": {
          "model_module": "@jupyter-widgets/base",
          "model_name": "LayoutModel",
          "model_module_version": "1.2.0",
          "state": {
            "_model_module": "@jupyter-widgets/base",
            "_model_module_version": "1.2.0",
            "_model_name": "LayoutModel",
            "_view_count": null,
            "_view_module": "@jupyter-widgets/base",
            "_view_module_version": "1.2.0",
            "_view_name": "LayoutView",
            "align_content": null,
            "align_items": null,
            "align_self": null,
            "border": null,
            "bottom": null,
            "display": null,
            "flex": null,
            "flex_flow": null,
            "grid_area": null,
            "grid_auto_columns": null,
            "grid_auto_flow": null,
            "grid_auto_rows": null,
            "grid_column": null,
            "grid_gap": null,
            "grid_row": null,
            "grid_template_areas": null,
            "grid_template_columns": null,
            "grid_template_rows": null,
            "height": null,
            "justify_content": null,
            "justify_items": null,
            "left": null,
            "margin": null,
            "max_height": null,
            "max_width": null,
            "min_height": null,
            "min_width": null,
            "object_fit": null,
            "object_position": null,
            "order": null,
            "overflow": null,
            "overflow_x": null,
            "overflow_y": null,
            "padding": null,
            "right": null,
            "top": null,
            "visibility": null,
            "width": null
          }
        },
        "f3172e57de034157871293f04cdacf7f": {
          "model_module": "@jupyter-widgets/base",
          "model_name": "LayoutModel",
          "model_module_version": "1.2.0",
          "state": {
            "_model_module": "@jupyter-widgets/base",
            "_model_module_version": "1.2.0",
            "_model_name": "LayoutModel",
            "_view_count": null,
            "_view_module": "@jupyter-widgets/base",
            "_view_module_version": "1.2.0",
            "_view_name": "LayoutView",
            "align_content": null,
            "align_items": null,
            "align_self": null,
            "border": null,
            "bottom": null,
            "display": null,
            "flex": null,
            "flex_flow": null,
            "grid_area": null,
            "grid_auto_columns": null,
            "grid_auto_flow": null,
            "grid_auto_rows": null,
            "grid_column": null,
            "grid_gap": null,
            "grid_row": null,
            "grid_template_areas": null,
            "grid_template_columns": null,
            "grid_template_rows": null,
            "height": null,
            "justify_content": null,
            "justify_items": null,
            "left": null,
            "margin": null,
            "max_height": null,
            "max_width": null,
            "min_height": null,
            "min_width": null,
            "object_fit": null,
            "object_position": null,
            "order": null,
            "overflow": null,
            "overflow_x": null,
            "overflow_y": null,
            "padding": null,
            "right": null,
            "top": null,
            "visibility": null,
            "width": null
          }
        },
        "e2d2abbe153047a08d1b4bae6961741e": {
          "model_module": "@jupyter-widgets/controls",
          "model_name": "DescriptionStyleModel",
          "model_module_version": "1.5.0",
          "state": {
            "_model_module": "@jupyter-widgets/controls",
            "_model_module_version": "1.5.0",
            "_model_name": "DescriptionStyleModel",
            "_view_count": null,
            "_view_module": "@jupyter-widgets/base",
            "_view_module_version": "1.2.0",
            "_view_name": "StyleView",
            "description_width": ""
          }
        },
        "39b0a9c7fe064e3dbdcba06895646855": {
          "model_module": "@jupyter-widgets/base",
          "model_name": "LayoutModel",
          "model_module_version": "1.2.0",
          "state": {
            "_model_module": "@jupyter-widgets/base",
            "_model_module_version": "1.2.0",
            "_model_name": "LayoutModel",
            "_view_count": null,
            "_view_module": "@jupyter-widgets/base",
            "_view_module_version": "1.2.0",
            "_view_name": "LayoutView",
            "align_content": null,
            "align_items": null,
            "align_self": null,
            "border": null,
            "bottom": null,
            "display": null,
            "flex": null,
            "flex_flow": null,
            "grid_area": null,
            "grid_auto_columns": null,
            "grid_auto_flow": null,
            "grid_auto_rows": null,
            "grid_column": null,
            "grid_gap": null,
            "grid_row": null,
            "grid_template_areas": null,
            "grid_template_columns": null,
            "grid_template_rows": null,
            "height": null,
            "justify_content": null,
            "justify_items": null,
            "left": null,
            "margin": null,
            "max_height": null,
            "max_width": null,
            "min_height": null,
            "min_width": null,
            "object_fit": null,
            "object_position": null,
            "order": null,
            "overflow": null,
            "overflow_x": null,
            "overflow_y": null,
            "padding": null,
            "right": null,
            "top": null,
            "visibility": null,
            "width": null
          }
        },
        "0684fcf1023a4a018b913bc987e24741": {
          "model_module": "@jupyter-widgets/controls",
          "model_name": "ProgressStyleModel",
          "model_module_version": "1.5.0",
          "state": {
            "_model_module": "@jupyter-widgets/controls",
            "_model_module_version": "1.5.0",
            "_model_name": "ProgressStyleModel",
            "_view_count": null,
            "_view_module": "@jupyter-widgets/base",
            "_view_module_version": "1.2.0",
            "_view_name": "StyleView",
            "bar_color": null,
            "description_width": ""
          }
        },
        "69aae75c8c00440b82977f8f27449364": {
          "model_module": "@jupyter-widgets/base",
          "model_name": "LayoutModel",
          "model_module_version": "1.2.0",
          "state": {
            "_model_module": "@jupyter-widgets/base",
            "_model_module_version": "1.2.0",
            "_model_name": "LayoutModel",
            "_view_count": null,
            "_view_module": "@jupyter-widgets/base",
            "_view_module_version": "1.2.0",
            "_view_name": "LayoutView",
            "align_content": null,
            "align_items": null,
            "align_self": null,
            "border": null,
            "bottom": null,
            "display": null,
            "flex": null,
            "flex_flow": null,
            "grid_area": null,
            "grid_auto_columns": null,
            "grid_auto_flow": null,
            "grid_auto_rows": null,
            "grid_column": null,
            "grid_gap": null,
            "grid_row": null,
            "grid_template_areas": null,
            "grid_template_columns": null,
            "grid_template_rows": null,
            "height": null,
            "justify_content": null,
            "justify_items": null,
            "left": null,
            "margin": null,
            "max_height": null,
            "max_width": null,
            "min_height": null,
            "min_width": null,
            "object_fit": null,
            "object_position": null,
            "order": null,
            "overflow": null,
            "overflow_x": null,
            "overflow_y": null,
            "padding": null,
            "right": null,
            "top": null,
            "visibility": null,
            "width": null
          }
        },
        "a06ec365468d44379b22ca41d9e47cd9": {
          "model_module": "@jupyter-widgets/controls",
          "model_name": "DescriptionStyleModel",
          "model_module_version": "1.5.0",
          "state": {
            "_model_module": "@jupyter-widgets/controls",
            "_model_module_version": "1.5.0",
            "_model_name": "DescriptionStyleModel",
            "_view_count": null,
            "_view_module": "@jupyter-widgets/base",
            "_view_module_version": "1.2.0",
            "_view_name": "StyleView",
            "description_width": ""
          }
        },
        "9a1366d6860c4c5282b30232d5607b89": {
          "model_module": "@jupyter-widgets/controls",
          "model_name": "HBoxModel",
          "model_module_version": "1.5.0",
          "state": {
            "_dom_classes": [],
            "_model_module": "@jupyter-widgets/controls",
            "_model_module_version": "1.5.0",
            "_model_name": "HBoxModel",
            "_view_count": null,
            "_view_module": "@jupyter-widgets/controls",
            "_view_module_version": "1.5.0",
            "_view_name": "HBoxView",
            "box_style": "",
            "children": [
              "IPY_MODEL_39413b67e9c8418b81f7a68ed156543f",
              "IPY_MODEL_6132da85ac8f476b8e50e980a15a5a86",
              "IPY_MODEL_c0e07637afda4af480e7b4c8194be7f3"
            ],
            "layout": "IPY_MODEL_61192c96289842969a430ec8a1aa2db3"
          }
        },
        "39413b67e9c8418b81f7a68ed156543f": {
          "model_module": "@jupyter-widgets/controls",
          "model_name": "HTMLModel",
          "model_module_version": "1.5.0",
          "state": {
            "_dom_classes": [],
            "_model_module": "@jupyter-widgets/controls",
            "_model_module_version": "1.5.0",
            "_model_name": "HTMLModel",
            "_view_count": null,
            "_view_module": "@jupyter-widgets/controls",
            "_view_module_version": "1.5.0",
            "_view_name": "HTMLView",
            "description": "",
            "description_tooltip": null,
            "layout": "IPY_MODEL_aae12919706c4b10b297ed56da7e782d",
            "placeholder": "​",
            "style": "IPY_MODEL_d7f4d93635824e2ea31498c49d5b010b",
            "value": "Map: 100%"
          }
        },
        "6132da85ac8f476b8e50e980a15a5a86": {
          "model_module": "@jupyter-widgets/controls",
          "model_name": "FloatProgressModel",
          "model_module_version": "1.5.0",
          "state": {
            "_dom_classes": [],
            "_model_module": "@jupyter-widgets/controls",
            "_model_module_version": "1.5.0",
            "_model_name": "FloatProgressModel",
            "_view_count": null,
            "_view_module": "@jupyter-widgets/controls",
            "_view_module_version": "1.5.0",
            "_view_name": "ProgressView",
            "bar_style": "success",
            "description": "",
            "description_tooltip": null,
            "layout": "IPY_MODEL_74f9054435d4496fbf84423978ce2a57",
            "max": 21281,
            "min": 0,
            "orientation": "horizontal",
            "style": "IPY_MODEL_5d777e66b70f4c5bb4b624cb40b83880",
            "value": 21281
          }
        },
        "c0e07637afda4af480e7b4c8194be7f3": {
          "model_module": "@jupyter-widgets/controls",
          "model_name": "HTMLModel",
          "model_module_version": "1.5.0",
          "state": {
            "_dom_classes": [],
            "_model_module": "@jupyter-widgets/controls",
            "_model_module_version": "1.5.0",
            "_model_name": "HTMLModel",
            "_view_count": null,
            "_view_module": "@jupyter-widgets/controls",
            "_view_module_version": "1.5.0",
            "_view_name": "HTMLView",
            "description": "",
            "description_tooltip": null,
            "layout": "IPY_MODEL_5c0417eeff954b87b81eb9bd74eabd25",
            "placeholder": "​",
            "style": "IPY_MODEL_15befca2b78c42498d92a36faf03e131",
            "value": " 21281/21281 [01:52&lt;00:00, 194.21 examples/s]"
          }
        },
        "61192c96289842969a430ec8a1aa2db3": {
          "model_module": "@jupyter-widgets/base",
          "model_name": "LayoutModel",
          "model_module_version": "1.2.0",
          "state": {
            "_model_module": "@jupyter-widgets/base",
            "_model_module_version": "1.2.0",
            "_model_name": "LayoutModel",
            "_view_count": null,
            "_view_module": "@jupyter-widgets/base",
            "_view_module_version": "1.2.0",
            "_view_name": "LayoutView",
            "align_content": null,
            "align_items": null,
            "align_self": null,
            "border": null,
            "bottom": null,
            "display": null,
            "flex": null,
            "flex_flow": null,
            "grid_area": null,
            "grid_auto_columns": null,
            "grid_auto_flow": null,
            "grid_auto_rows": null,
            "grid_column": null,
            "grid_gap": null,
            "grid_row": null,
            "grid_template_areas": null,
            "grid_template_columns": null,
            "grid_template_rows": null,
            "height": null,
            "justify_content": null,
            "justify_items": null,
            "left": null,
            "margin": null,
            "max_height": null,
            "max_width": null,
            "min_height": null,
            "min_width": null,
            "object_fit": null,
            "object_position": null,
            "order": null,
            "overflow": null,
            "overflow_x": null,
            "overflow_y": null,
            "padding": null,
            "right": null,
            "top": null,
            "visibility": null,
            "width": null
          }
        },
        "aae12919706c4b10b297ed56da7e782d": {
          "model_module": "@jupyter-widgets/base",
          "model_name": "LayoutModel",
          "model_module_version": "1.2.0",
          "state": {
            "_model_module": "@jupyter-widgets/base",
            "_model_module_version": "1.2.0",
            "_model_name": "LayoutModel",
            "_view_count": null,
            "_view_module": "@jupyter-widgets/base",
            "_view_module_version": "1.2.0",
            "_view_name": "LayoutView",
            "align_content": null,
            "align_items": null,
            "align_self": null,
            "border": null,
            "bottom": null,
            "display": null,
            "flex": null,
            "flex_flow": null,
            "grid_area": null,
            "grid_auto_columns": null,
            "grid_auto_flow": null,
            "grid_auto_rows": null,
            "grid_column": null,
            "grid_gap": null,
            "grid_row": null,
            "grid_template_areas": null,
            "grid_template_columns": null,
            "grid_template_rows": null,
            "height": null,
            "justify_content": null,
            "justify_items": null,
            "left": null,
            "margin": null,
            "max_height": null,
            "max_width": null,
            "min_height": null,
            "min_width": null,
            "object_fit": null,
            "object_position": null,
            "order": null,
            "overflow": null,
            "overflow_x": null,
            "overflow_y": null,
            "padding": null,
            "right": null,
            "top": null,
            "visibility": null,
            "width": null
          }
        },
        "d7f4d93635824e2ea31498c49d5b010b": {
          "model_module": "@jupyter-widgets/controls",
          "model_name": "DescriptionStyleModel",
          "model_module_version": "1.5.0",
          "state": {
            "_model_module": "@jupyter-widgets/controls",
            "_model_module_version": "1.5.0",
            "_model_name": "DescriptionStyleModel",
            "_view_count": null,
            "_view_module": "@jupyter-widgets/base",
            "_view_module_version": "1.2.0",
            "_view_name": "StyleView",
            "description_width": ""
          }
        },
        "74f9054435d4496fbf84423978ce2a57": {
          "model_module": "@jupyter-widgets/base",
          "model_name": "LayoutModel",
          "model_module_version": "1.2.0",
          "state": {
            "_model_module": "@jupyter-widgets/base",
            "_model_module_version": "1.2.0",
            "_model_name": "LayoutModel",
            "_view_count": null,
            "_view_module": "@jupyter-widgets/base",
            "_view_module_version": "1.2.0",
            "_view_name": "LayoutView",
            "align_content": null,
            "align_items": null,
            "align_self": null,
            "border": null,
            "bottom": null,
            "display": null,
            "flex": null,
            "flex_flow": null,
            "grid_area": null,
            "grid_auto_columns": null,
            "grid_auto_flow": null,
            "grid_auto_rows": null,
            "grid_column": null,
            "grid_gap": null,
            "grid_row": null,
            "grid_template_areas": null,
            "grid_template_columns": null,
            "grid_template_rows": null,
            "height": null,
            "justify_content": null,
            "justify_items": null,
            "left": null,
            "margin": null,
            "max_height": null,
            "max_width": null,
            "min_height": null,
            "min_width": null,
            "object_fit": null,
            "object_position": null,
            "order": null,
            "overflow": null,
            "overflow_x": null,
            "overflow_y": null,
            "padding": null,
            "right": null,
            "top": null,
            "visibility": null,
            "width": null
          }
        },
        "5d777e66b70f4c5bb4b624cb40b83880": {
          "model_module": "@jupyter-widgets/controls",
          "model_name": "ProgressStyleModel",
          "model_module_version": "1.5.0",
          "state": {
            "_model_module": "@jupyter-widgets/controls",
            "_model_module_version": "1.5.0",
            "_model_name": "ProgressStyleModel",
            "_view_count": null,
            "_view_module": "@jupyter-widgets/base",
            "_view_module_version": "1.2.0",
            "_view_name": "StyleView",
            "bar_color": null,
            "description_width": ""
          }
        },
        "5c0417eeff954b87b81eb9bd74eabd25": {
          "model_module": "@jupyter-widgets/base",
          "model_name": "LayoutModel",
          "model_module_version": "1.2.0",
          "state": {
            "_model_module": "@jupyter-widgets/base",
            "_model_module_version": "1.2.0",
            "_model_name": "LayoutModel",
            "_view_count": null,
            "_view_module": "@jupyter-widgets/base",
            "_view_module_version": "1.2.0",
            "_view_name": "LayoutView",
            "align_content": null,
            "align_items": null,
            "align_self": null,
            "border": null,
            "bottom": null,
            "display": null,
            "flex": null,
            "flex_flow": null,
            "grid_area": null,
            "grid_auto_columns": null,
            "grid_auto_flow": null,
            "grid_auto_rows": null,
            "grid_column": null,
            "grid_gap": null,
            "grid_row": null,
            "grid_template_areas": null,
            "grid_template_columns": null,
            "grid_template_rows": null,
            "height": null,
            "justify_content": null,
            "justify_items": null,
            "left": null,
            "margin": null,
            "max_height": null,
            "max_width": null,
            "min_height": null,
            "min_width": null,
            "object_fit": null,
            "object_position": null,
            "order": null,
            "overflow": null,
            "overflow_x": null,
            "overflow_y": null,
            "padding": null,
            "right": null,
            "top": null,
            "visibility": null,
            "width": null
          }
        },
        "15befca2b78c42498d92a36faf03e131": {
          "model_module": "@jupyter-widgets/controls",
          "model_name": "DescriptionStyleModel",
          "model_module_version": "1.5.0",
          "state": {
            "_model_module": "@jupyter-widgets/controls",
            "_model_module_version": "1.5.0",
            "_model_name": "DescriptionStyleModel",
            "_view_count": null,
            "_view_module": "@jupyter-widgets/base",
            "_view_module_version": "1.2.0",
            "_view_name": "StyleView",
            "description_width": ""
          }
        }
      }
    }
  },
  "nbformat": 4,
  "nbformat_minor": 0
}