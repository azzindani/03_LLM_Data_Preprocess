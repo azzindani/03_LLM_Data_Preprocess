{
  "cells": [
    {
      "cell_type": "markdown",
      "metadata": {
        "id": "view-in-github",
        "colab_type": "text"
      },
      "source": [
        "<a href=\"https://colab.research.google.com/github/azzindani/03_LLM_Data_Preprocess/blob/main/00_LLM_Dataset_Preprocess_v3.ipynb\" target=\"_parent\"><img src=\"https://colab.research.google.com/assets/colab-badge.svg\" alt=\"Open In Colab\"/></a>"
      ]
    },
    {
      "cell_type": "markdown",
      "metadata": {
        "id": "iNW_MCROx_hX"
      },
      "source": [
        "## Import Modules"
      ]
    },
    {
      "cell_type": "code",
      "execution_count": null,
      "metadata": {
        "id": "0-QxfiDVyT74"
      },
      "outputs": [],
      "source": [
        "!pip install -q datasets"
      ]
    },
    {
      "cell_type": "code",
      "execution_count": null,
      "metadata": {
        "colab": {
          "base_uri": "https://localhost:8080/"
        },
        "id": "TIgNx9Orx0It",
        "outputId": "d437fe3a-6439-432b-b708-d4bf793a15ac"
      },
      "outputs": [
        {
          "name": "stdout",
          "output_type": "stream",
          "text": [
            "GPU is not available.\n"
          ]
        }
      ],
      "source": [
        "import torch\n",
        "\n",
        "from datasets import load_dataset\n",
        "from datasets import Dataset\n",
        "\n",
        "from transformers import (\n",
        "  AutoTokenizer,\n",
        "  AutoModelForCausalLM,\n",
        "  GenerationConfig\n",
        ")\n",
        "\n",
        "if torch.cuda.is_available():\n",
        "  print('GPU is available!')\n",
        "else:\n",
        "  print('GPU is not available.')"
      ]
    },
    {
      "cell_type": "code",
      "execution_count": null,
      "metadata": {
        "colab": {
          "base_uri": "https://localhost:8080/"
        },
        "id": "i-nwkyTDybqY",
        "outputId": "c54002a2-eab1-4e6c-9108-665d834d6c84"
      },
      "outputs": [
        {
          "data": {
            "text/plain": [
              "device(type='cpu')"
            ]
          },
          "execution_count": 3,
          "metadata": {},
          "output_type": "execute_result"
        }
      ],
      "source": [
        "device = torch.device('cuda' if torch.cuda.is_available() else 'cpu')\n",
        "device"
      ]
    },
    {
      "cell_type": "markdown",
      "metadata": {
        "id": "grIeJpUdyX0Y"
      },
      "source": [
        "## Import Model Tokenizer"
      ]
    },
    {
      "cell_type": "code",
      "execution_count": null,
      "metadata": {
        "id": "14Lkvw4cyZkY"
      },
      "outputs": [],
      "source": [
        "#url = 'https://huggingface.co/Qwen/Qwen2.5-0.5B'\n",
        "#model_name = url.split('.co/')[-1]\n",
        "\n",
        "model_name = 'unsloth/Llama-3.2-1B-Instruct'"
      ]
    },
    {
      "cell_type": "code",
      "execution_count": null,
      "metadata": {
        "colab": {
          "base_uri": "https://localhost:8080/"
        },
        "id": "lpB5JUjSzGtJ",
        "outputId": "439a394f-c920-4972-d384-4275f13a728b"
      },
      "outputs": [
        {
          "name": "stderr",
          "output_type": "stream",
          "text": [
            "/usr/local/lib/python3.10/dist-packages/huggingface_hub/utils/_token.py:89: UserWarning: \n",
            "The secret `HF_TOKEN` does not exist in your Colab secrets.\n",
            "To authenticate with the Hugging Face Hub, create a token in your settings tab (https://huggingface.co/settings/tokens), set it as secret in your Google Colab and restart your session.\n",
            "You will be able to reuse this secret in all of your notebooks.\n",
            "Please note that authentication is recommended but still optional to access public models or datasets.\n",
            "  warnings.warn(\n"
          ]
        }
      ],
      "source": [
        "tokenizer = AutoTokenizer.from_pretrained(model_name)\n",
        "#tokenizer"
      ]
    },
    {
      "cell_type": "markdown",
      "metadata": {
        "id": "3QJUqcUVzNoJ"
      },
      "source": [
        "## Import Dataset"
      ]
    },
    {
      "cell_type": "code",
      "execution_count": null,
      "metadata": {
        "id": "U01UXJdLzPXS"
      },
      "outputs": [],
      "source": [
        "#url = 'https://huggingface.co/datasets/KingNish/reasoning-base-20k'\n",
        "#dataset_name = url.split('datasets/')[-1]\n",
        "\n",
        "dataset_name = 'mlabonne/FineTome-100k'"
      ]
    },
    {
      "cell_type": "code",
      "execution_count": null,
      "metadata": {
        "id": "ZGIUyIDhNJC2"
      },
      "outputs": [],
      "source": [
        "max_length = 1024"
      ]
    },
    {
      "cell_type": "code",
      "execution_count": null,
      "metadata": {
        "colab": {
          "base_uri": "https://localhost:8080/"
        },
        "id": "0ucM3l_FzUkp",
        "outputId": "8a7f4e2c-a88a-4f49-e678-8b1e8eba756a"
      },
      "outputs": [
        {
          "data": {
            "text/plain": [
              "Dataset({\n",
              "    features: ['conversations', 'source', 'score'],\n",
              "    num_rows: 100000\n",
              "})"
            ]
          },
          "execution_count": 8,
          "metadata": {},
          "output_type": "execute_result"
        }
      ],
      "source": [
        "dataset = load_dataset(dataset_name, split = 'train')\n",
        "dataset"
      ]
    },
    {
      "cell_type": "code",
      "execution_count": null,
      "metadata": {
        "colab": {
          "base_uri": "https://localhost:8080/",
          "height": 206
        },
        "id": "FLRSMhJDzY5Z",
        "outputId": "6f48e0d6-23df-4cb7-8bff-87c51335f280"
      },
      "outputs": [
        {
          "data": {
            "application/vnd.google.colaboratory.intrinsic+json": {
              "summary": "{\n  \"name\": \"dataset\",\n  \"rows\": 5,\n  \"fields\": [\n    {\n      \"column\": \"conversations\",\n      \"properties\": {\n        \"dtype\": \"object\",\n        \"semantic_type\": \"\",\n        \"description\": \"\"\n      }\n    },\n    {\n      \"column\": \"source\",\n      \"properties\": {\n        \"dtype\": \"category\",\n        \"num_unique_values\": 1,\n        \"samples\": [\n          \"infini-instruct-top-500k\"\n        ],\n        \"semantic_type\": \"\",\n        \"description\": \"\"\n      }\n    },\n    {\n      \"column\": \"score\",\n      \"properties\": {\n        \"dtype\": \"number\",\n        \"std\": 0.07180840513295617,\n        \"min\": 5.045647621154785,\n        \"max\": 5.212620735168457,\n        \"num_unique_values\": 5,\n        \"samples\": [\n          5.157649040222168\n        ],\n        \"semantic_type\": \"\",\n        \"description\": \"\"\n      }\n    }\n  ]\n}",
              "type": "dataframe"
            },
            "text/html": [
              "\n",
              "  <div id=\"df-c6f7a616-acda-4d69-b7d4-5c0c861f1a17\" class=\"colab-df-container\">\n",
              "    <div>\n",
              "<style scoped>\n",
              "    .dataframe tbody tr th:only-of-type {\n",
              "        vertical-align: middle;\n",
              "    }\n",
              "\n",
              "    .dataframe tbody tr th {\n",
              "        vertical-align: top;\n",
              "    }\n",
              "\n",
              "    .dataframe thead th {\n",
              "        text-align: right;\n",
              "    }\n",
              "</style>\n",
              "<table border=\"1\" class=\"dataframe\">\n",
              "  <thead>\n",
              "    <tr style=\"text-align: right;\">\n",
              "      <th></th>\n",
              "      <th>conversations</th>\n",
              "      <th>source</th>\n",
              "      <th>score</th>\n",
              "    </tr>\n",
              "  </thead>\n",
              "  <tbody>\n",
              "    <tr>\n",
              "      <th>0</th>\n",
              "      <td>[{'from': 'human', 'value': 'Explain what bool...</td>\n",
              "      <td>infini-instruct-top-500k</td>\n",
              "      <td>5.212621</td>\n",
              "    </tr>\n",
              "    <tr>\n",
              "      <th>1</th>\n",
              "      <td>[{'from': 'human', 'value': 'Explain how recur...</td>\n",
              "      <td>infini-instruct-top-500k</td>\n",
              "      <td>5.157649</td>\n",
              "    </tr>\n",
              "    <tr>\n",
              "      <th>2</th>\n",
              "      <td>[{'from': 'human', 'value': 'Explain what bool...</td>\n",
              "      <td>infini-instruct-top-500k</td>\n",
              "      <td>5.147540</td>\n",
              "    </tr>\n",
              "    <tr>\n",
              "      <th>3</th>\n",
              "      <td>[{'from': 'human', 'value': 'Explain the conce...</td>\n",
              "      <td>infini-instruct-top-500k</td>\n",
              "      <td>5.053656</td>\n",
              "    </tr>\n",
              "    <tr>\n",
              "      <th>4</th>\n",
              "      <td>[{'from': 'human', 'value': 'Print the reverse...</td>\n",
              "      <td>infini-instruct-top-500k</td>\n",
              "      <td>5.045648</td>\n",
              "    </tr>\n",
              "  </tbody>\n",
              "</table>\n",
              "</div>\n",
              "    <div class=\"colab-df-buttons\">\n",
              "\n",
              "  <div class=\"colab-df-container\">\n",
              "    <button class=\"colab-df-convert\" onclick=\"convertToInteractive('df-c6f7a616-acda-4d69-b7d4-5c0c861f1a17')\"\n",
              "            title=\"Convert this dataframe to an interactive table.\"\n",
              "            style=\"display:none;\">\n",
              "\n",
              "  <svg xmlns=\"http://www.w3.org/2000/svg\" height=\"24px\" viewBox=\"0 -960 960 960\">\n",
              "    <path d=\"M120-120v-720h720v720H120Zm60-500h600v-160H180v160Zm220 220h160v-160H400v160Zm0 220h160v-160H400v160ZM180-400h160v-160H180v160Zm440 0h160v-160H620v160ZM180-180h160v-160H180v160Zm440 0h160v-160H620v160Z\"/>\n",
              "  </svg>\n",
              "    </button>\n",
              "\n",
              "  <style>\n",
              "    .colab-df-container {\n",
              "      display:flex;\n",
              "      gap: 12px;\n",
              "    }\n",
              "\n",
              "    .colab-df-convert {\n",
              "      background-color: #E8F0FE;\n",
              "      border: none;\n",
              "      border-radius: 50%;\n",
              "      cursor: pointer;\n",
              "      display: none;\n",
              "      fill: #1967D2;\n",
              "      height: 32px;\n",
              "      padding: 0 0 0 0;\n",
              "      width: 32px;\n",
              "    }\n",
              "\n",
              "    .colab-df-convert:hover {\n",
              "      background-color: #E2EBFA;\n",
              "      box-shadow: 0px 1px 2px rgba(60, 64, 67, 0.3), 0px 1px 3px 1px rgba(60, 64, 67, 0.15);\n",
              "      fill: #174EA6;\n",
              "    }\n",
              "\n",
              "    .colab-df-buttons div {\n",
              "      margin-bottom: 4px;\n",
              "    }\n",
              "\n",
              "    [theme=dark] .colab-df-convert {\n",
              "      background-color: #3B4455;\n",
              "      fill: #D2E3FC;\n",
              "    }\n",
              "\n",
              "    [theme=dark] .colab-df-convert:hover {\n",
              "      background-color: #434B5C;\n",
              "      box-shadow: 0px 1px 3px 1px rgba(0, 0, 0, 0.15);\n",
              "      filter: drop-shadow(0px 1px 2px rgba(0, 0, 0, 0.3));\n",
              "      fill: #FFFFFF;\n",
              "    }\n",
              "  </style>\n",
              "\n",
              "    <script>\n",
              "      const buttonEl =\n",
              "        document.querySelector('#df-c6f7a616-acda-4d69-b7d4-5c0c861f1a17 button.colab-df-convert');\n",
              "      buttonEl.style.display =\n",
              "        google.colab.kernel.accessAllowed ? 'block' : 'none';\n",
              "\n",
              "      async function convertToInteractive(key) {\n",
              "        const element = document.querySelector('#df-c6f7a616-acda-4d69-b7d4-5c0c861f1a17');\n",
              "        const dataTable =\n",
              "          await google.colab.kernel.invokeFunction('convertToInteractive',\n",
              "                                                    [key], {});\n",
              "        if (!dataTable) return;\n",
              "\n",
              "        const docLinkHtml = 'Like what you see? Visit the ' +\n",
              "          '<a target=\"_blank\" href=https://colab.research.google.com/notebooks/data_table.ipynb>data table notebook</a>'\n",
              "          + ' to learn more about interactive tables.';\n",
              "        element.innerHTML = '';\n",
              "        dataTable['output_type'] = 'display_data';\n",
              "        await google.colab.output.renderOutput(dataTable, element);\n",
              "        const docLink = document.createElement('div');\n",
              "        docLink.innerHTML = docLinkHtml;\n",
              "        element.appendChild(docLink);\n",
              "      }\n",
              "    </script>\n",
              "  </div>\n",
              "\n",
              "\n",
              "<div id=\"df-f1354489-2ac2-4dba-aacd-75a1f4c77478\">\n",
              "  <button class=\"colab-df-quickchart\" onclick=\"quickchart('df-f1354489-2ac2-4dba-aacd-75a1f4c77478')\"\n",
              "            title=\"Suggest charts\"\n",
              "            style=\"display:none;\">\n",
              "\n",
              "<svg xmlns=\"http://www.w3.org/2000/svg\" height=\"24px\"viewBox=\"0 0 24 24\"\n",
              "     width=\"24px\">\n",
              "    <g>\n",
              "        <path d=\"M19 3H5c-1.1 0-2 .9-2 2v14c0 1.1.9 2 2 2h14c1.1 0 2-.9 2-2V5c0-1.1-.9-2-2-2zM9 17H7v-7h2v7zm4 0h-2V7h2v10zm4 0h-2v-4h2v4z\"/>\n",
              "    </g>\n",
              "</svg>\n",
              "  </button>\n",
              "\n",
              "<style>\n",
              "  .colab-df-quickchart {\n",
              "      --bg-color: #E8F0FE;\n",
              "      --fill-color: #1967D2;\n",
              "      --hover-bg-color: #E2EBFA;\n",
              "      --hover-fill-color: #174EA6;\n",
              "      --disabled-fill-color: #AAA;\n",
              "      --disabled-bg-color: #DDD;\n",
              "  }\n",
              "\n",
              "  [theme=dark] .colab-df-quickchart {\n",
              "      --bg-color: #3B4455;\n",
              "      --fill-color: #D2E3FC;\n",
              "      --hover-bg-color: #434B5C;\n",
              "      --hover-fill-color: #FFFFFF;\n",
              "      --disabled-bg-color: #3B4455;\n",
              "      --disabled-fill-color: #666;\n",
              "  }\n",
              "\n",
              "  .colab-df-quickchart {\n",
              "    background-color: var(--bg-color);\n",
              "    border: none;\n",
              "    border-radius: 50%;\n",
              "    cursor: pointer;\n",
              "    display: none;\n",
              "    fill: var(--fill-color);\n",
              "    height: 32px;\n",
              "    padding: 0;\n",
              "    width: 32px;\n",
              "  }\n",
              "\n",
              "  .colab-df-quickchart:hover {\n",
              "    background-color: var(--hover-bg-color);\n",
              "    box-shadow: 0 1px 2px rgba(60, 64, 67, 0.3), 0 1px 3px 1px rgba(60, 64, 67, 0.15);\n",
              "    fill: var(--button-hover-fill-color);\n",
              "  }\n",
              "\n",
              "  .colab-df-quickchart-complete:disabled,\n",
              "  .colab-df-quickchart-complete:disabled:hover {\n",
              "    background-color: var(--disabled-bg-color);\n",
              "    fill: var(--disabled-fill-color);\n",
              "    box-shadow: none;\n",
              "  }\n",
              "\n",
              "  .colab-df-spinner {\n",
              "    border: 2px solid var(--fill-color);\n",
              "    border-color: transparent;\n",
              "    border-bottom-color: var(--fill-color);\n",
              "    animation:\n",
              "      spin 1s steps(1) infinite;\n",
              "  }\n",
              "\n",
              "  @keyframes spin {\n",
              "    0% {\n",
              "      border-color: transparent;\n",
              "      border-bottom-color: var(--fill-color);\n",
              "      border-left-color: var(--fill-color);\n",
              "    }\n",
              "    20% {\n",
              "      border-color: transparent;\n",
              "      border-left-color: var(--fill-color);\n",
              "      border-top-color: var(--fill-color);\n",
              "    }\n",
              "    30% {\n",
              "      border-color: transparent;\n",
              "      border-left-color: var(--fill-color);\n",
              "      border-top-color: var(--fill-color);\n",
              "      border-right-color: var(--fill-color);\n",
              "    }\n",
              "    40% {\n",
              "      border-color: transparent;\n",
              "      border-right-color: var(--fill-color);\n",
              "      border-top-color: var(--fill-color);\n",
              "    }\n",
              "    60% {\n",
              "      border-color: transparent;\n",
              "      border-right-color: var(--fill-color);\n",
              "    }\n",
              "    80% {\n",
              "      border-color: transparent;\n",
              "      border-right-color: var(--fill-color);\n",
              "      border-bottom-color: var(--fill-color);\n",
              "    }\n",
              "    90% {\n",
              "      border-color: transparent;\n",
              "      border-bottom-color: var(--fill-color);\n",
              "    }\n",
              "  }\n",
              "</style>\n",
              "\n",
              "  <script>\n",
              "    async function quickchart(key) {\n",
              "      const quickchartButtonEl =\n",
              "        document.querySelector('#' + key + ' button');\n",
              "      quickchartButtonEl.disabled = true;  // To prevent multiple clicks.\n",
              "      quickchartButtonEl.classList.add('colab-df-spinner');\n",
              "      try {\n",
              "        const charts = await google.colab.kernel.invokeFunction(\n",
              "            'suggestCharts', [key], {});\n",
              "      } catch (error) {\n",
              "        console.error('Error during call to suggestCharts:', error);\n",
              "      }\n",
              "      quickchartButtonEl.classList.remove('colab-df-spinner');\n",
              "      quickchartButtonEl.classList.add('colab-df-quickchart-complete');\n",
              "    }\n",
              "    (() => {\n",
              "      let quickchartButtonEl =\n",
              "        document.querySelector('#df-f1354489-2ac2-4dba-aacd-75a1f4c77478 button');\n",
              "      quickchartButtonEl.style.display =\n",
              "        google.colab.kernel.accessAllowed ? 'block' : 'none';\n",
              "    })();\n",
              "  </script>\n",
              "</div>\n",
              "\n",
              "    </div>\n",
              "  </div>\n"
            ],
            "text/plain": [
              "                                       conversations  \\\n",
              "0  [{'from': 'human', 'value': 'Explain what bool...   \n",
              "1  [{'from': 'human', 'value': 'Explain how recur...   \n",
              "2  [{'from': 'human', 'value': 'Explain what bool...   \n",
              "3  [{'from': 'human', 'value': 'Explain the conce...   \n",
              "4  [{'from': 'human', 'value': 'Print the reverse...   \n",
              "\n",
              "                     source     score  \n",
              "0  infini-instruct-top-500k  5.212621  \n",
              "1  infini-instruct-top-500k  5.157649  \n",
              "2  infini-instruct-top-500k  5.147540  \n",
              "3  infini-instruct-top-500k  5.053656  \n",
              "4  infini-instruct-top-500k  5.045648  "
            ]
          },
          "execution_count": 9,
          "metadata": {},
          "output_type": "execute_result"
        }
      ],
      "source": [
        "dataset.select(range(5)).to_pandas().head()"
      ]
    },
    {
      "cell_type": "code",
      "execution_count": null,
      "metadata": {
        "colab": {
          "base_uri": "https://localhost:8080/"
        },
        "id": "3exPEy0JdLyI",
        "outputId": "a5d97404-18c7-40ab-c817-4d3d4ec8dea9"
      },
      "outputs": [
        {
          "data": {
            "text/plain": [
              "{'conversations': [{'from': 'human',\n",
              "   'value': 'Explain what boolean operators are, what they do, and provide examples of how they can be used in programming. Additionally, describe the concept of operator precedence and provide examples of how it affects the evaluation of boolean expressions. Discuss the difference between short-circuit evaluation and normal evaluation in boolean expressions and demonstrate their usage in code. \\n\\nFurthermore, add the requirement that the code must be written in a language that does not support short-circuit evaluation natively, forcing the test taker to implement their own logic for short-circuit evaluation.\\n\\nFinally, delve into the concept of truthiness and falsiness in programming languages, explaining how it affects the evaluation of boolean expressions. Add the constraint that the test taker must write code that handles cases where truthiness and falsiness are implemented differently across different programming languages.'},\n",
              "  {'from': 'gpt',\n",
              "   'value': 'Boolean operators are logical operators used in programming to manipulate boolean values. They operate on one or more boolean operands and return a boolean result. The three main boolean operators are \"AND\" (&&), \"OR\" (||), and \"NOT\" (!).\\n\\nThe \"AND\" operator returns true if both of its operands are true, and false otherwise. For example:\\n\\n```python\\nx = 5\\ny = 10\\nresult = (x > 0) and (y < 20)  # This expression evaluates to True\\n```\\n\\nThe \"OR\" operator returns true if at least one of its operands is true, and false otherwise. For example:\\n\\n```python\\nx = 5\\ny = 10\\nresult = (x > 0) or (y < 20)  # This expression evaluates to True\\n```\\n\\nThe \"NOT\" operator negates the boolean value of its operand. It returns true if the operand is false, and false if the operand is true. For example:\\n\\n```python\\nx = 5\\nresult = not (x > 10)  # This expression evaluates to True\\n```\\n\\nOperator precedence refers to the order in which operators are evaluated in an expression. It ensures that expressions are evaluated correctly. In most programming languages, logical AND has higher precedence than logical OR. For example:\\n\\n```python\\nresult = True or False and False  # This expression is evaluated as (True or (False and False)), which is True\\n```\\n\\nShort-circuit evaluation is a behavior where the second operand of a logical operator is not evaluated if the result can be determined based on the value of the first operand. In short-circuit evaluation, if the first operand of an \"AND\" operator is false, the second operand is not evaluated because the result will always be false. Similarly, if the first operand of an \"OR\" operator is true, the second operand is not evaluated because the result will always be true.\\n\\nIn programming languages that support short-circuit evaluation natively, you can use it to improve performance or avoid errors. For example:\\n\\n```python\\nif x != 0 and (y / x) > 10:\\n    # Perform some operation\\n```\\n\\nIn languages without native short-circuit evaluation, you can implement your own logic to achieve the same behavior. Here\\'s an example in pseudocode:\\n\\n```\\nif x != 0 {\\n    if (y / x) > 10 {\\n        // Perform some operation\\n    }\\n}\\n```\\n\\nTruthiness and falsiness refer to how non-boolean values are evaluated in boolean contexts. In many programming languages, non-zero numbers and non-empty strings are considered truthy, while zero, empty strings, and null/None values are considered falsy.\\n\\nWhen evaluating boolean expressions, truthiness and falsiness come into play. For example:\\n\\n```python\\nx = 5\\nresult = x  # The value of x is truthy, so result is also truthy\\n```\\n\\nTo handle cases where truthiness and falsiness are implemented differently across programming languages, you can explicitly check the desired condition. For example:\\n\\n```python\\nx = 5\\nresult = bool(x)  # Explicitly converting x to a boolean value\\n```\\n\\nThis ensures that the result is always a boolean value, regardless of the language\\'s truthiness and falsiness rules.'}],\n",
              " 'source': 'infini-instruct-top-500k',\n",
              " 'score': 5.212620735168457}"
            ]
          },
          "execution_count": 10,
          "metadata": {},
          "output_type": "execute_result"
        }
      ],
      "source": [
        "dataset[0]"
      ]
    },
    {
      "cell_type": "code",
      "execution_count": null,
      "metadata": {
        "colab": {
          "base_uri": "https://localhost:8080/"
        },
        "id": "xYKmTDtkAnt5",
        "outputId": "a0da2344-82a1-47d9-94e7-73039e1297ba"
      },
      "outputs": [
        {
          "name": "stdout",
          "output_type": "stream",
          "text": [
            "['conversations', 'source', 'score']\n"
          ]
        }
      ],
      "source": [
        "features = list(dataset.features.keys())\n",
        "print(features)"
      ]
    },
    {
      "cell_type": "markdown",
      "metadata": {
        "id": "IxWkhG0Eub0X"
      },
      "source": [
        "## Dataset Preprocess"
      ]
    },
    {
      "cell_type": "code",
      "execution_count": null,
      "metadata": {
        "id": "XwXMhWEWwbiF"
      },
      "outputs": [],
      "source": [
        "def preprocess(example):\n",
        "  formatted_text = \"\"\n",
        "  for message in example['conversations']:\n",
        "    if message['from'] == 'human':\n",
        "      formatted_text += \"<|user|>\\n\" + message['value'] + \"<|end|>\\n\"\n",
        "    elif message['from'] == 'gpt':\n",
        "      formatted_text += \"<|assistant|>\\n\" + message['value'] + \"<|end|>\\n\"\n",
        "  return {\"prompt\": formatted_text}"
      ]
    },
    {
      "cell_type": "code",
      "execution_count": null,
      "metadata": {
        "id": "7TFGpGhoWS9e"
      },
      "outputs": [],
      "source": [
        "formatted_dataset = dataset.map(\n",
        "  preprocess,\n",
        "  remove_columns = list(dataset.features.keys())\n",
        ")\n",
        "formatted_dataset"
      ]
    },
    {
      "cell_type": "code",
      "execution_count": null,
      "metadata": {
        "colab": {
          "base_uri": "https://localhost:8080/"
        },
        "id": "cZya4tPEWUc9",
        "outputId": "126d646c-8641-409e-bacd-63a9358edfff"
      },
      "outputs": [
        {
          "name": "stdout",
          "output_type": "stream",
          "text": [
            "<|user|>\n",
            "Explain what boolean operators are, what they do, and provide examples of how they can be used in programming. Additionally, describe the concept of operator precedence and provide examples of how it affects the evaluation of boolean expressions. Discuss the difference between short-circuit evaluation and normal evaluation in boolean expressions and demonstrate their usage in code. \n",
            "\n",
            "Furthermore, add the requirement that the code must be written in a language that does not support short-circuit evaluation natively, forcing the test taker to implement their own logic for short-circuit evaluation.\n",
            "\n",
            "Finally, delve into the concept of truthiness and falsiness in programming languages, explaining how it affects the evaluation of boolean expressions. Add the constraint that the test taker must write code that handles cases where truthiness and falsiness are implemented differently across different programming languages.<|end|>\n",
            "<|assistant|>\n",
            "Boolean operators are logical operators used in programming to manipulate boolean values. They operate on one or more boolean operands and return a boolean result. The three main boolean operators are \"AND\" (&&), \"OR\" (||), and \"NOT\" (!).\n",
            "\n",
            "The \"AND\" operator returns true if both of its operands are true, and false otherwise. For example:\n",
            "\n",
            "```python\n",
            "x = 5\n",
            "y = 10\n",
            "result = (x > 0) and (y < 20)  # This expression evaluates to True\n",
            "```\n",
            "\n",
            "The \"OR\" operator returns true if at least one of its operands is true, and false otherwise. For example:\n",
            "\n",
            "```python\n",
            "x = 5\n",
            "y = 10\n",
            "result = (x > 0) or (y < 20)  # This expression evaluates to True\n",
            "```\n",
            "\n",
            "The \"NOT\" operator negates the boolean value of its operand. It returns true if the operand is false, and false if the operand is true. For example:\n",
            "\n",
            "```python\n",
            "x = 5\n",
            "result = not (x > 10)  # This expression evaluates to True\n",
            "```\n",
            "\n",
            "Operator precedence refers to the order in which operators are evaluated in an expression. It ensures that expressions are evaluated correctly. In most programming languages, logical AND has higher precedence than logical OR. For example:\n",
            "\n",
            "```python\n",
            "result = True or False and False  # This expression is evaluated as (True or (False and False)), which is True\n",
            "```\n",
            "\n",
            "Short-circuit evaluation is a behavior where the second operand of a logical operator is not evaluated if the result can be determined based on the value of the first operand. In short-circuit evaluation, if the first operand of an \"AND\" operator is false, the second operand is not evaluated because the result will always be false. Similarly, if the first operand of an \"OR\" operator is true, the second operand is not evaluated because the result will always be true.\n",
            "\n",
            "In programming languages that support short-circuit evaluation natively, you can use it to improve performance or avoid errors. For example:\n",
            "\n",
            "```python\n",
            "if x != 0 and (y / x) > 10:\n",
            "    # Perform some operation\n",
            "```\n",
            "\n",
            "In languages without native short-circuit evaluation, you can implement your own logic to achieve the same behavior. Here's an example in pseudocode:\n",
            "\n",
            "```\n",
            "if x != 0 {\n",
            "    if (y / x) > 10 {\n",
            "        // Perform some operation\n",
            "    }\n",
            "}\n",
            "```\n",
            "\n",
            "Truthiness and falsiness refer to how non-boolean values are evaluated in boolean contexts. In many programming languages, non-zero numbers and non-empty strings are considered truthy, while zero, empty strings, and null/None values are considered falsy.\n",
            "\n",
            "When evaluating boolean expressions, truthiness and falsiness come into play. For example:\n",
            "\n",
            "```python\n",
            "x = 5\n",
            "result = x  # The value of x is truthy, so result is also truthy\n",
            "```\n",
            "\n",
            "To handle cases where truthiness and falsiness are implemented differently across programming languages, you can explicitly check the desired condition. For example:\n",
            "\n",
            "```python\n",
            "x = 5\n",
            "result = bool(x)  # Explicitly converting x to a boolean value\n",
            "```\n",
            "\n",
            "This ensures that the result is always a boolean value, regardless of the language's truthiness and falsiness rules.<|end|>\n",
            "\n"
          ]
        }
      ],
      "source": [
        "print(formatted_dataset[0]['prompt'])"
      ]
    },
    {
      "cell_type": "markdown",
      "metadata": {
        "id": "hj7Ifez4xy33"
      },
      "source": [
        "## Tokenization"
      ]
    },
    {
      "cell_type": "code",
      "execution_count": null,
      "metadata": {
        "id": "m7bxU8fiewb7"
      },
      "outputs": [],
      "source": [
        "def tokenize_data(example, max_length = max_length):\n",
        "  return tokenizer(example['prompt'], truncation = True, padding = 'max_length', max_length = max_length)"
      ]
    },
    {
      "cell_type": "code",
      "execution_count": null,
      "metadata": {
        "id": "M3BO26k-BmdS"
      },
      "outputs": [],
      "source": [
        "tokenized_dataset = formatted_dataset.map(tokenize_data, batched = True)#, remove_columns = 'text')\n",
        "tokenized_dataset"
      ]
    },
    {
      "cell_type": "code",
      "execution_count": null,
      "metadata": {
        "colab": {
          "base_uri": "https://localhost:8080/"
        },
        "id": "wEHhMdV4pEFH",
        "outputId": "e6e83dd5-3254-42d5-9cba-5fdd872141e1"
      },
      "outputs": [
        {
          "name": "stdout",
          "output_type": "stream",
          "text": [
            "<|user|>\n",
            "Explain what boolean operators are, what they do, and provide examples of how they can be used in programming. Additionally, describe the concept of operator precedence and provide examples of how it affects the evaluation of boolean expressions. Discuss the difference between short-circuit evaluation and normal evaluation in boolean expressions and demonstrate their usage in code. \n",
            "\n",
            "Furthermore, add the requirement that the code must be written in a language that does not support short-circuit evaluation natively, forcing the test taker to implement their own logic for short-circuit evaluation.\n",
            "\n",
            "Finally, delve into the concept of truthiness and falsiness in programming languages, explaining how it affects the evaluation of boolean expressions. Add the constraint that the test taker must write code that handles cases where truthiness and falsiness are implemented differently across different programming languages.<|end|>\n",
            "<|assistant|>\n",
            "Boolean operators are logical operators used in programming to manipulate boolean values. They operate on one or more boolean operands and return a boolean result. The three main boolean operators are \"AND\" (&&), \"OR\" (||), and \"NOT\" (!).\n",
            "\n",
            "The \"AND\" operator returns true if both of its operands are true, and false otherwise. For example:\n",
            "\n",
            "```python\n",
            "x = 5\n",
            "y = 10\n",
            "result = (x > 0) and (y < 20)  # This expression evaluates to True\n",
            "```\n",
            "\n",
            "The \"OR\" operator returns true if at least one of its operands is true, and false otherwise. For example:\n",
            "\n",
            "```python\n",
            "x = 5\n",
            "y = 10\n",
            "result = (x > 0) or (y < 20)  # This expression evaluates to True\n",
            "```\n",
            "\n",
            "The \"NOT\" operator negates the boolean value of its operand. It returns true if the operand is false, and false if the operand is true. For example:\n",
            "\n",
            "```python\n",
            "x = 5\n",
            "result = not (x > 10)  # This expression evaluates to True\n",
            "```\n",
            "\n",
            "Operator precedence refers to the order in which operators are evaluated in an expression. It ensures that expressions are evaluated correctly. In most programming languages, logical AND has higher precedence than logical OR. For example:\n",
            "\n",
            "```python\n",
            "result = True or False and False  # This expression is evaluated as (True or (False and False)), which is True\n",
            "```\n",
            "\n",
            "Short-circuit evaluation is a behavior where the second operand of a logical operator is not evaluated if the result can be determined based on the value of the first operand. In short-circuit evaluation, if the first operand of an \"AND\" operator is false, the second operand is not evaluated because the result will always be false. Similarly, if the first operand of an \"OR\" operator is true, the second operand is not evaluated because the result will always be true.\n",
            "\n",
            "In programming languages that support short-circuit evaluation natively, you can use it to improve performance or avoid errors. For example:\n",
            "\n",
            "```python\n",
            "if x != 0 and (y / x) > 10:\n",
            "    # Perform some operation\n",
            "```\n",
            "\n",
            "In languages without native short-circuit evaluation, you can implement your own logic to achieve the same behavior. Here's an example in pseudocode:\n",
            "\n",
            "```\n",
            "if x != 0 {\n",
            "    if (y / x) > 10 {\n",
            "        // Perform some operation\n",
            "    }\n",
            "}\n",
            "```\n",
            "\n",
            "Truthiness and falsiness refer to how non-boolean values are evaluated in boolean contexts. In many programming languages, non-zero numbers and non-empty strings are considered truthy, while zero, empty strings, and null/None values are considered falsy.\n",
            "\n",
            "When evaluating boolean expressions, truthiness and falsiness come into play. For example:\n",
            "\n",
            "```python\n",
            "x = 5\n",
            "result = x  # The value of x is truthy, so result is also truthy\n",
            "```\n",
            "\n",
            "To handle cases where truthiness and falsiness are implemented differently across programming languages, you can explicitly check the desired condition. For example:\n",
            "\n",
            "```python\n",
            "x = 5\n",
            "result = bool(x)  # Explicitly converting x to a boolean value\n",
            "```\n",
            "\n",
            "This ensures that the result is always a boolean value, regardless of the language's truthiness and falsiness rules.<|end|>\n",
            "\n"
          ]
        }
      ],
      "source": [
        "print(tokenized_dataset[0]['prompt'])"
      ]
    },
    {
      "cell_type": "code",
      "execution_count": null,
      "metadata": {
        "colab": {
          "base_uri": "https://localhost:8080/"
        },
        "id": "HN5KLjKcyVJi",
        "outputId": "546504b8-1889-4cb7-958b-be8c09c83848"
      },
      "outputs": [
        {
          "name": "stdout",
          "output_type": "stream",
          "text": [
            "[128004, 128004, 128004, 128004, 128004, 128004, 128004, 128004, 128004, 128004, 128004, 128004, 128004, 128004, 128004, 128004, 128004, 128004, 128004, 128004, 128004, 128004, 128004, 128004, 128004, 128004, 128004, 128004, 128004, 128004, 128004, 128004, 128004, 128004, 128004, 128004, 128004, 128004, 128004, 128004, 128004, 128004, 128004, 128004, 128004, 128004, 128004, 128004, 128004, 128004, 128004, 128004, 128004, 128004, 128004, 128004, 128004, 128004, 128004, 128004, 128004, 128004, 128004, 128004, 128004, 128004, 128004, 128004, 128004, 128004, 128004, 128004, 128004, 128004, 128004, 128004, 128004, 128004, 128004, 128004, 128004, 128004, 128004, 128004, 128004, 128004, 128004, 128004, 128004, 128004, 128004, 128004, 128004, 128004, 128004, 128004, 128004, 128004, 128004, 128004, 128004, 128004, 128004, 128004, 128004, 128004, 128004, 128004, 128004, 128004, 128004, 128004, 128004, 128004, 128004, 128004, 128004, 128004, 128004, 128004, 128004, 128004, 128004, 128004, 128004, 128004, 128004, 128004, 128004, 128004, 128004, 128004, 128004, 128004, 128004, 128004, 128004, 128004, 128004, 128004, 128004, 128004, 128004, 128004, 128004, 128004, 128004, 128004, 128004, 128004, 128004, 128004, 128004, 128004, 128004, 128004, 128004, 128004, 128004, 128000, 27, 91, 882, 91, 397, 849, 21435, 1148, 2777, 20197, 527, 11, 1148, 814, 656, 11, 323, 3493, 10507, 315, 1268, 814, 649, 387, 1511, 304, 15840, 13, 23212, 11, 7664, 279, 7434, 315, 5793, 54156, 323, 3493, 10507, 315, 1268, 433, 22223, 279, 16865, 315, 2777, 24282, 13, 66379, 279, 6811, 1990, 2875, 1824, 38368, 16865, 323, 4725, 16865, 304, 2777, 24282, 323, 20461, 872, 10648, 304, 2082, 13, 4815, 57417, 11, 923, 279, 16686, 430, 279, 2082, 2011, 387, 5439, 304, 264, 4221, 430, 1587, 539, 1862, 2875, 1824, 38368, 16865, 308, 8046, 11, 25957, 279, 1296, 259, 4506, 311, 4305, 872, 1866, 12496, 369, 2875, 1824, 38368, 16865, 382, 24901, 11, 82845, 1139, 279, 7434, 315, 8206, 1918, 323, 33032, 1918, 304, 15840, 15823, 11, 26073, 1268, 433, 22223, 279, 16865, 315, 2777, 24282, 13, 2758, 279, 22295, 430, 279, 1296, 259, 4506, 2011, 3350, 2082, 430, 13777, 5157, 1405, 8206, 1918, 323, 33032, 1918, 527, 11798, 22009, 4028, 2204, 15840, 15823, 16134, 91, 408, 91, 397, 27, 91, 78191, 91, 397, 7035, 20197, 527, 20406, 20197, 1511, 304, 15840, 311, 37735, 2777, 2819, 13, 2435, 14816, 389, 832, 477, 810, 2777, 55610, 323, 471, 264, 2777, 1121, 13, 578, 2380, 1925, 2777, 20197, 527, 330, 4064, 1, 320, 7827, 705, 330, 878, 1, 320, 8651, 705, 323, 330, 14394, 1, 1533, 3677, 791, 330, 4064, 1, 5793, 4780, 837, 422, 2225, 315, 1202, 55610, 527, 837, 11, 323, 905, 6062, 13, 1789, 3187, 1473, 74694, 12958, 198, 87, 284, 220, 20, 198, 88, 284, 220, 605, 198, 1407, 284, 320, 87, 871, 220, 15, 8, 323, 320, 88, 366, 220, 508, 8, 220, 674, 1115, 7645, 67349, 311, 3082, 198, 14196, 19884, 791, 330, 878, 1, 5793, 4780, 837, 422, 520, 3325, 832, 315, 1202, 55610, 374, 837, 11, 323, 905, 6062, 13, 1789, 3187, 1473, 74694, 12958, 198, 87, 284, 220, 20, 198, 88, 284, 220, 605, 198, 1407, 284, 320, 87, 871, 220, 15, 8, 477, 320, 88, 366, 220, 508, 8, 220, 674, 1115, 7645, 67349, 311, 3082, 198, 14196, 19884, 791, 330, 14394, 1, 5793, 4277, 988, 279, 2777, 907, 315, 1202, 28312, 13, 1102, 4780, 837, 422, 279, 28312, 374, 905, 11, 323, 905, 422, 279, 28312, 374, 837, 13, 1789, 3187, 1473, 74694, 12958, 198, 87, 284, 220, 20, 198, 1407, 284, 539, 320, 87, 871, 220, 605, 8, 220, 674, 1115, 7645, 67349, 311, 3082, 198, 14196, 19884, 18968, 54156, 19813, 311, 279, 2015, 304, 902, 20197, 527, 26126, 304, 459, 7645, 13, 1102, 26420, 430, 24282, 527, 26126, 12722, 13, 763, 1455, 15840, 15823, 11, 20406, 3651, 706, 5190, 54156, 1109, 20406, 2794, 13, 1789, 3187, 1473, 74694, 12958, 198, 1407, 284, 3082, 477, 3641, 323, 3641, 220, 674, 1115, 7645, 374, 26126, 439, 320, 2575, 477, 320, 4139, 323, 3641, 5850, 902, 374, 3082, 198, 14196, 19884, 12755, 1824, 38368, 16865, 374, 264, 7865, 1405, 279, 2132, 28312, 315, 264, 20406, 5793, 374, 539, 26126, 422, 279, 1121, 649, 387, 11075, 3196, 389, 279, 907, 315, 279, 1176, 28312, 13, 763, 2875, 1824, 38368, 16865, 11, 422, 279, 1176, 28312, 315, 459, 330, 4064, 1, 5793, 374, 905, 11, 279, 2132, 28312, 374, 539, 26126, 1606, 279, 1121, 690, 2744, 387, 905, 13, 35339, 11, 422, 279, 1176, 28312, 315, 459, 330, 878, 1, 5793, 374, 837, 11, 279, 2132, 28312, 374, 539, 26126, 1606, 279, 1121, 690, 2744, 387, 837, 382, 644, 15840, 15823, 430, 1862, 2875, 1824, 38368, 16865, 308, 8046, 11, 499, 649, 1005, 433, 311, 7417, 5178, 477, 5766, 6103, 13, 1789, 3187, 1473, 74694, 12958, 198, 333, 865, 976, 220, 15, 323, 320, 88, 611, 865, 8, 871, 220, 605, 512, 262, 674, 26050, 1063, 5784, 198, 14196, 19884, 644, 15823, 2085, 10068, 2875, 1824, 38368, 16865, 11, 499, 649, 4305, 701, 1866, 12496, 311, 11322, 279, 1890, 7865, 13, 5810, 596, 459, 3187, 304, 51743, 44788, 1473, 14196, 4077, 333, 865, 976, 220, 15, 341, 262, 422, 320, 88, 611, 865, 8, 871, 220, 605, 341, 286, 443, 26050, 1063, 5784, 198, 262, 457, 534, 14196, 19884, 25025, 1918, 323, 33032, 1918, 8464, 311, 1268, 2536, 12, 6245, 2819, 527, 26126, 304, 2777, 38697, 13, 763, 1690, 15840, 15823, 11, 2536, 38029, 5219, 323, 2536, 40533, 9246, 527, 6646, 8206, 88, 11, 1418, 7315, 11, 4384, 9246, 11, 323, 854, 14, 4155, 2819, 527, 6646, 33032, 88, 382, 4599, 38663, 2777, 24282, 11, 8206, 1918, 323, 33032, 1918, 2586, 1139, 1514, 13, 1789, 3187, 1473, 74694, 12958, 198, 87, 284, 220, 20, 198, 1407, 284, 865, 220, 674, 578, 907, 315, 865, 374, 8206, 88, 11, 779, 1121, 374, 1101, 8206, 88, 198, 14196, 19884, 1271, 3790, 5157, 1405, 8206, 1918, 323, 33032, 1918, 527, 11798, 22009, 4028, 15840, 15823, 11, 499, 649, 21650, 1817, 279, 12974, 3044, 13, 1789, 3187, 1473, 74694, 12958, 198, 87, 284, 220, 20, 198, 1407, 284, 1845, 2120, 8, 220, 674, 32430, 398, 34537, 865, 311, 264, 2777, 907, 198, 14196, 19884, 2028, 26420, 430, 279, 1121, 374, 2744, 264, 2777, 907, 11, 15851, 315, 279, 4221, 596, 8206, 1918, 323, 33032, 1918, 5718, 16134, 91, 408, 91, 397]\n"
          ]
        }
      ],
      "source": [
        "print(tokenized_dataset[0]['input_ids'])#[-10:]"
      ]
    },
    {
      "cell_type": "code",
      "execution_count": null,
      "metadata": {
        "colab": {
          "base_uri": "https://localhost:8080/"
        },
        "id": "1VVG7pmIzOcC",
        "outputId": "e7b68496-0628-4777-fe30-3f67ebc3b22e"
      },
      "outputs": [
        {
          "name": "stdout",
          "output_type": "stream",
          "text": [
            "[0, 0, 0, 0, 0, 0, 0, 0, 0, 0, 0, 0, 0, 0, 0, 0, 0, 0, 0, 0, 0, 0, 0, 0, 0, 0, 0, 0, 0, 0, 0, 0, 0, 0, 0, 0, 0, 0, 0, 0, 0, 0, 0, 0, 0, 0, 0, 0, 0, 0, 0, 0, 0, 0, 0, 0, 0, 0, 0, 0, 0, 0, 0, 0, 0, 0, 0, 0, 0, 0, 0, 0, 0, 0, 0, 0, 0, 0, 0, 0, 0, 0, 0, 0, 0, 0, 0, 0, 0, 0, 0, 0, 0, 0, 0, 0, 0, 0, 0, 0, 0, 0, 0, 0, 0, 0, 0, 0, 0, 0, 0, 0, 0, 0, 0, 0, 0, 0, 0, 0, 0, 0, 0, 0, 0, 0, 0, 0, 0, 0, 0, 0, 0, 0, 0, 0, 0, 0, 0, 0, 0, 0, 0, 0, 0, 0, 0, 0, 0, 0, 0, 0, 0, 0, 0, 0, 0, 0, 0, 1, 1, 1, 1, 1, 1, 1, 1, 1, 1, 1, 1, 1, 1, 1, 1, 1, 1, 1, 1, 1, 1, 1, 1, 1, 1, 1, 1, 1, 1, 1, 1, 1, 1, 1, 1, 1, 1, 1, 1, 1, 1, 1, 1, 1, 1, 1, 1, 1, 1, 1, 1, 1, 1, 1, 1, 1, 1, 1, 1, 1, 1, 1, 1, 1, 1, 1, 1, 1, 1, 1, 1, 1, 1, 1, 1, 1, 1, 1, 1, 1, 1, 1, 1, 1, 1, 1, 1, 1, 1, 1, 1, 1, 1, 1, 1, 1, 1, 1, 1, 1, 1, 1, 1, 1, 1, 1, 1, 1, 1, 1, 1, 1, 1, 1, 1, 1, 1, 1, 1, 1, 1, 1, 1, 1, 1, 1, 1, 1, 1, 1, 1, 1, 1, 1, 1, 1, 1, 1, 1, 1, 1, 1, 1, 1, 1, 1, 1, 1, 1, 1, 1, 1, 1, 1, 1, 1, 1, 1, 1, 1, 1, 1, 1, 1, 1, 1, 1, 1, 1, 1, 1, 1, 1, 1, 1, 1, 1, 1, 1, 1, 1, 1, 1, 1, 1, 1, 1, 1, 1, 1, 1, 1, 1, 1, 1, 1, 1, 1, 1, 1, 1, 1, 1, 1, 1, 1, 1, 1, 1, 1, 1, 1, 1, 1, 1, 1, 1, 1, 1, 1, 1, 1, 1, 1, 1, 1, 1, 1, 1, 1, 1, 1, 1, 1, 1, 1, 1, 1, 1, 1, 1, 1, 1, 1, 1, 1, 1, 1, 1, 1, 1, 1, 1, 1, 1, 1, 1, 1, 1, 1, 1, 1, 1, 1, 1, 1, 1, 1, 1, 1, 1, 1, 1, 1, 1, 1, 1, 1, 1, 1, 1, 1, 1, 1, 1, 1, 1, 1, 1, 1, 1, 1, 1, 1, 1, 1, 1, 1, 1, 1, 1, 1, 1, 1, 1, 1, 1, 1, 1, 1, 1, 1, 1, 1, 1, 1, 1, 1, 1, 1, 1, 1, 1, 1, 1, 1, 1, 1, 1, 1, 1, 1, 1, 1, 1, 1, 1, 1, 1, 1, 1, 1, 1, 1, 1, 1, 1, 1, 1, 1, 1, 1, 1, 1, 1, 1, 1, 1, 1, 1, 1, 1, 1, 1, 1, 1, 1, 1, 1, 1, 1, 1, 1, 1, 1, 1, 1, 1, 1, 1, 1, 1, 1, 1, 1, 1, 1, 1, 1, 1, 1, 1, 1, 1, 1, 1, 1, 1, 1, 1, 1, 1, 1, 1, 1, 1, 1, 1, 1, 1, 1, 1, 1, 1, 1, 1, 1, 1, 1, 1, 1, 1, 1, 1, 1, 1, 1, 1, 1, 1, 1, 1, 1, 1, 1, 1, 1, 1, 1, 1, 1, 1, 1, 1, 1, 1, 1, 1, 1, 1, 1, 1, 1, 1, 1, 1, 1, 1, 1, 1, 1, 1, 1, 1, 1, 1, 1, 1, 1, 1, 1, 1, 1, 1, 1, 1, 1, 1, 1, 1, 1, 1, 1, 1, 1, 1, 1, 1, 1, 1, 1, 1, 1, 1, 1, 1, 1, 1, 1, 1, 1, 1, 1, 1, 1, 1, 1, 1, 1, 1, 1, 1, 1, 1, 1, 1, 1, 1, 1, 1, 1, 1, 1, 1, 1, 1, 1, 1, 1, 1, 1, 1, 1, 1, 1, 1, 1, 1, 1, 1, 1, 1, 1, 1, 1, 1, 1, 1, 1, 1, 1, 1, 1, 1, 1, 1, 1, 1, 1, 1, 1, 1, 1, 1, 1, 1, 1, 1, 1, 1, 1, 1, 1, 1, 1, 1, 1, 1, 1, 1, 1, 1, 1, 1, 1, 1, 1, 1, 1, 1, 1, 1, 1, 1, 1, 1, 1, 1, 1, 1, 1, 1, 1, 1, 1, 1, 1, 1, 1, 1, 1, 1, 1, 1, 1, 1, 1, 1, 1, 1, 1, 1, 1, 1, 1, 1, 1, 1, 1, 1, 1, 1, 1, 1, 1, 1, 1, 1, 1, 1, 1, 1, 1, 1, 1, 1, 1, 1, 1, 1, 1, 1, 1, 1, 1, 1, 1, 1, 1, 1, 1, 1, 1, 1, 1, 1, 1, 1, 1, 1, 1, 1, 1, 1, 1, 1, 1, 1, 1, 1, 1, 1, 1, 1, 1, 1, 1, 1, 1, 1, 1, 1, 1, 1, 1, 1, 1, 1, 1, 1, 1, 1, 1, 1, 1, 1, 1, 1, 1, 1, 1, 1, 1, 1, 1, 1, 1, 1, 1, 1, 1, 1, 1, 1, 1, 1, 1, 1, 1, 1, 1, 1, 1, 1, 1, 1, 1, 1, 1, 1, 1, 1, 1, 1, 1, 1, 1, 1, 1, 1, 1, 1, 1, 1, 1, 1, 1, 1, 1, 1, 1, 1, 1, 1, 1, 1, 1, 1, 1, 1, 1, 1, 1, 1, 1, 1, 1, 1, 1, 1, 1, 1, 1, 1, 1, 1, 1, 1, 1, 1, 1, 1, 1, 1, 1, 1, 1, 1, 1, 1, 1, 1, 1, 1, 1, 1, 1, 1, 1, 1, 1, 1, 1, 1, 1, 1, 1, 1, 1, 1, 1, 1, 1, 1, 1, 1, 1, 1, 1, 1, 1, 1, 1, 1, 1, 1, 1, 1, 1, 1, 1, 1, 1, 1, 1, 1, 1, 1, 1, 1, 1, 1, 1, 1, 1, 1, 1, 1, 1, 1, 1, 1, 1, 1]\n"
          ]
        }
      ],
      "source": [
        "print(tokenized_dataset[0]['attention_mask'])#[-10:]"
      ]
    },
    {
      "cell_type": "markdown",
      "metadata": {
        "id": "wbxppGuoz8iN"
      },
      "source": [
        "## Prompt Test"
      ]
    },
    {
      "cell_type": "code",
      "execution_count": null,
      "metadata": {
        "id": "Xl308fTyz_Qb"
      },
      "outputs": [],
      "source": [
        "model = AutoModelForCausalLM.from_pretrained(\n",
        "  model_name,\n",
        "  torch_dtype = torch.float16,\n",
        "  trust_remote_code = True\n",
        ").to(device) #'''"
      ]
    },
    {
      "cell_type": "code",
      "execution_count": null,
      "metadata": {
        "id": "pc005zHS0XjA"
      },
      "outputs": [],
      "source": [
        "def assistant(prompt):\n",
        "  messages = [\n",
        "    {'role' : 'user', 'content' : prompt},\n",
        "  ]\n",
        "  inputs = tokenizer.apply_chat_template(\n",
        "    messages,\n",
        "    tokenize = True,\n",
        "    add_generation_prompt = True,\n",
        "    return_tensors = 'pt',\n",
        "  )#.to(\"cuda\")\n",
        "  generation_config = GenerationConfig(\n",
        "    do_sample = True,\n",
        "    top_k = 1,\n",
        "    temperature = 0.1,\n",
        "    max_new_tokens = 1024,\n",
        "    pad_token_id = tokenizer.eos_token_id\n",
        "  )\n",
        "  outputs = model.generate(\n",
        "    input_ids = inputs,\n",
        "    generation_config = generation_config\n",
        "  )\n",
        "  return print(tokenizer.decode(outputs[0]))#, skip_special_tokens = True))"
      ]
    },
    {
      "cell_type": "code",
      "execution_count": null,
      "metadata": {
        "colab": {
          "background_save": true,
          "base_uri": "https://localhost:8080/"
        },
        "id": "13o5JpmO0mry",
        "outputId": "919b18f4-8fec-4828-abac-0e368d81aa35"
      },
      "outputs": [
        {
          "name": "stderr",
          "output_type": "stream",
          "text": [
            "The attention mask is not set and cannot be inferred from input because pad token is same as eos token. As a consequence, you may observe unexpected behavior. Please pass your input's `attention_mask` to obtain reliable results.\n"
          ]
        },
        {
          "name": "stdout",
          "output_type": "stream",
          "text": [
            "<|begin_of_text|><|start_header_id|>system<|end_header_id|>\n",
            "\n",
            "Cutting Knowledge Date: December 2023\n",
            "Today Date: 26 Jul 2024\n",
            "\n",
            "<|eot_id|><|start_header_id|>user<|end_header_id|>\n",
            "\n",
            "Explain what boolean operators are, what they do, and provide examples of how they can be used in programming. Additionally, describe the concept of operator precedence and provide examples of how it affects the evaluation of boolean expressions. Discuss the difference between short-circuit evaluation and normal evaluation in boolean expressions and demonstrate their usage in code. \n",
            "\n",
            "Furthermore, add the requirement that the code must be written in a language that does not support short-circuit evaluation natively, forcing the test taker to implement their own logic for short-circuit evaluation.\n",
            "\n",
            "Finally, delve into the concept of truthiness and falsiness in programming languages, explaining how it affects the evaluation of boolean expressions. Add the constraint that the test taker must write code that handles cases where truthiness and falsiness are implemented differently across different programming languages.<|eot_id|><|start_header_id|>assistant<|end_header_id|>\n",
            "\n",
            "I'll break down the requirements into smaller sections and provide explanations for each.\n",
            "\n",
            "**Boolean Operators**\n",
            "\n",
            "Boolean operators are logical operators used in programming to evaluate expressions that return a boolean value (true or false). The most common boolean operators are:\n",
            "\n",
            "* `AND` (Conjunction): Returns true if both operands are true.\n",
            "* `OR` (Disjunction): Returns true if at least one operand is true.\n",
            "* `NOT` (Negation): Returns true if the operand is false, and false if the operand is true.\n",
            "\n",
            "**Examples of Boolean Operators**\n",
            "\n",
            "Here are some examples of how to use boolean operators in programming:\n",
            "\n",
            "```python\n",
            "# Using AND operator\n",
            "x = True\n",
            "y = False\n",
            "result = x and y  # Returns False\n",
            "print(result)  # Output: False\n",
            "\n",
            "# Using OR operator\n",
            "x = True\n",
            "y = False\n",
            "result = x or y  # Returns True\n",
            "print(result)  # Output: True\n",
            "\n",
            "# Using NOT operator\n",
            "x = True\n",
            "result = not x  # Returns False\n",
            "print(result)  # Output: False\n",
            "```\n",
            "\n",
            "**Operator Precedence**\n",
            "\n",
            "Operator precedence determines the order in which operators are evaluated. In Python, the precedence of operators is as follows:\n",
            "\n",
            "* `+` and `-` have the same precedence\n",
            "* `*` and `/` have the same precedence\n",
            "* `==` and `!=` have the same precedence\n",
            "* `and` and `or` have higher precedence than `not`\n",
            "\n",
            "Here's an example of how operator precedence affects the evaluation of boolean expressions:\n",
            "\n",
            "```python\n",
            "x = True\n",
            "y = False\n",
            "result = (x and y) or (x or y)  # Evaluates to True\n",
            "print(result)  # Output: True\n",
            "\n",
            "result = (x and y) or (x and y)  # Evaluates to True\n",
            "print(result)  # Output: True\n",
            "```\n",
            "\n",
            "**Short-Circuit Evaluation**\n",
            "\n",
            "Short-circuit evaluation is a technique where the evaluation of an expression is stopped as soon as one of the operands is determined to be false. This can be useful for reducing the number of operations performed.\n",
            "\n",
            "Here's an example of how short-circuit evaluation can be implemented in Python:\n",
            "\n",
            "```python\n",
            "x = True\n",
            "y = False\n",
            "result = x and y  # Evaluates to False, so y is not evaluated\n",
            "print(result)  # Output: False\n",
            "```\n",
            "\n",
            "**Normal Evaluation vs. Short-Circuit Evaluation**\n",
            "\n",
            "Normal evaluation is the default behavior where the entire expression is evaluated from left to right. Short-circuit evaluation, on the other hand, stops evaluation as soon as one of the operands is determined to be false.\n",
            "\n",
            "Here's an example of how normal evaluation and short-circuit evaluation can be implemented in Python:\n",
            "\n",
            "```python\n",
            "x = True\n",
            "y = False\n",
            "result = x and y  # Evaluates to False, so y is not evaluated\n",
            "print(result)  # Output: False\n",
            "\n",
            "result = x and y  # Evaluates to False, so y is not evaluated\n",
            "print(result)  # Output: False\n",
            "```\n",
            "\n",
            "**Truthiness and Falsiness**\n",
            "\n",
            "Truthiness refers to the behavior of an object when it is used in a boolean context. In Python, truthiness is determined by the object's type:\n",
            "\n",
            "* `True` is considered truthy\n",
            "* `False` is considered falsy\n",
            "\n",
            "Here's an example of how truthiness and falsiness can be implemented in Python:\n",
            "\n",
            "```python\n",
            "x = True\n",
            "y = False\n",
            "print(x)  # Output: True\n",
            "print(y)  # Output: False\n",
            "```\n",
            "\n",
            "**Falsiness in Different Programming Languages**\n",
            "\n",
            "Different programming languages have different ways of implementing truthiness and falsiness. For example:\n",
            "\n",
            "* In JavaScript, falsiness is determined by the `!` operator, which returns the opposite of the input value.\n",
            "* In Java, falsiness is determined by the `!` operator, which returns the opposite of the input value.\n",
            "* In C++, falsiness is determined by the `!` operator, which returns the opposite of the input value.\n",
            "\n",
            "To handle cases where truthiness and falsiness are implemented differently across different programming languages, the test taker must write code that uses the `bool()` function to convert the input values to boolean values.\n",
            "\n",
            "Here's an example of how the `bool()` function can be used to handle different programming languages:\n",
            "\n",
            "```python\n",
            "x = True\n",
            "y = False\n",
            "print(bool(x))  # Output: True\n",
            "print(bool(y))  # Output: False\n",
            "\n",
            "x = False\n",
            "y = True\n",
            "print(bool(x))  # Output: False\n",
            "print(bool(y))  # Output: True\n",
            "```\n",
            "\n",
            "**Implementing Short-Circuit Evaluation**\n",
            "\n",
            "To implement short-circuit evaluation in Python, the test taker must use the `not` operator to negate the input values. Here's an example of how short-circuit evaluation can be implemented in Python:\n",
            "\n",
            "```python\n",
            "x = True\n",
            "y = False\n",
            "result = not x and y  # Evaluates to False,\n"
          ]
        }
      ],
      "source": [
        "prompt = dataset[0]['conversations'][0]['value']\n",
        "assistant(prompt)"
      ]
    },
    {
      "cell_type": "code",
      "execution_count": null,
      "metadata": {
        "colab": {
          "base_uri": "https://localhost:8080/"
        },
        "id": "cm7Y78O91cu8",
        "outputId": "1530d3ef-8530-413e-e1d7-a95b787921a4"
      },
      "outputs": [
        {
          "name": "stdout",
          "output_type": "stream",
          "text": [
            "Boolean operators are logical operators used in programming to manipulate boolean values. They operate on one or more boolean operands and return a boolean result. The three main boolean operators are \"AND\" (&&), \"OR\" (||), and \"NOT\" (!).\n",
            "\n",
            "The \"AND\" operator returns true if both of its operands are true, and false otherwise. For example:\n",
            "\n",
            "```python\n",
            "x = 5\n",
            "y = 10\n",
            "result = (x > 0) and (y < 20)  # This expression evaluates to True\n",
            "```\n",
            "\n",
            "The \"OR\" operator returns true if at least one of its operands is true, and false otherwise. For example:\n",
            "\n",
            "```python\n",
            "x = 5\n",
            "y = 10\n",
            "result = (x > 0) or (y < 20)  # This expression evaluates to True\n",
            "```\n",
            "\n",
            "The \"NOT\" operator negates the boolean value of its operand. It returns true if the operand is false, and false if the operand is true. For example:\n",
            "\n",
            "```python\n",
            "x = 5\n",
            "result = not (x > 10)  # This expression evaluates to True\n",
            "```\n",
            "\n",
            "Operator precedence refers to the order in which operators are evaluated in an expression. It ensures that expressions are evaluated correctly. In most programming languages, logical AND has higher precedence than logical OR. For example:\n",
            "\n",
            "```python\n",
            "result = True or False and False  # This expression is evaluated as (True or (False and False)), which is True\n",
            "```\n",
            "\n",
            "Short-circuit evaluation is a behavior where the second operand of a logical operator is not evaluated if the result can be determined based on the value of the first operand. In short-circuit evaluation, if the first operand of an \"AND\" operator is false, the second operand is not evaluated because the result will always be false. Similarly, if the first operand of an \"OR\" operator is true, the second operand is not evaluated because the result will always be true.\n",
            "\n",
            "In programming languages that support short-circuit evaluation natively, you can use it to improve performance or avoid errors. For example:\n",
            "\n",
            "```python\n",
            "if x != 0 and (y / x) > 10:\n",
            "    # Perform some operation\n",
            "```\n",
            "\n",
            "In languages without native short-circuit evaluation, you can implement your own logic to achieve the same behavior. Here's an example in pseudocode:\n",
            "\n",
            "```\n",
            "if x != 0 {\n",
            "    if (y / x) > 10 {\n",
            "        // Perform some operation\n",
            "    }\n",
            "}\n",
            "```\n",
            "\n",
            "Truthiness and falsiness refer to how non-boolean values are evaluated in boolean contexts. In many programming languages, non-zero numbers and non-empty strings are considered truthy, while zero, empty strings, and null/None values are considered falsy.\n",
            "\n",
            "When evaluating boolean expressions, truthiness and falsiness come into play. For example:\n",
            "\n",
            "```python\n",
            "x = 5\n",
            "result = x  # The value of x is truthy, so result is also truthy\n",
            "```\n",
            "\n",
            "To handle cases where truthiness and falsiness are implemented differently across programming languages, you can explicitly check the desired condition. For example:\n",
            "\n",
            "```python\n",
            "x = 5\n",
            "result = bool(x)  # Explicitly converting x to a boolean value\n",
            "```\n",
            "\n",
            "This ensures that the result is always a boolean value, regardless of the language's truthiness and falsiness rules.\n"
          ]
        }
      ],
      "source": [
        "print(dataset[0]['conversations'][1]['value'])"
      ]
    }
  ],
  "metadata": {
    "colab": {
      "provenance": [],
      "include_colab_link": true
    },
    "kaggle": {
      "accelerator": "nvidiaTeslaT4",
      "dataSources": [],
      "dockerImageVersionId": 30787,
      "isGpuEnabled": true,
      "isInternetEnabled": true,
      "language": "python",
      "sourceType": "notebook"
    },
    "kernelspec": {
      "display_name": "Python 3",
      "name": "python3"
    },
    "language_info": {
      "codemirror_mode": {
        "name": "ipython",
        "version": 3
      },
      "file_extension": ".py",
      "mimetype": "text/x-python",
      "name": "python",
      "nbconvert_exporter": "python",
      "pygments_lexer": "ipython3",
      "version": "3.10.14"
    }
  },
  "nbformat": 4,
  "nbformat_minor": 0
}